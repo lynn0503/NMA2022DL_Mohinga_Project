{
  "cells": [
    {
      "cell_type": "markdown",
      "metadata": {
        "execution": {},
        "id": "Azi_bLWn6mAR"
      },
      "source": [
        "# Using RL to Model Cognitive Tasks\n",
        "\n",
        "**By Neurmatch Academy**\n",
        "\n",
        "__Content creators:__ Morteza Ansarinia, Yamil Vidal\n",
        "\n",
        "__Production editor:__ Spiros Chavlis\n"
      ]
    },
    {
      "cell_type": "markdown",
      "metadata": {
        "execution": {},
        "id": "t0JJoEeC6mAb"
      },
      "source": [
        "<p align='center'><img src='https://github.com/NeuromatchAcademy/widgets/blob/master/sponsors.png?raw=True'/></p>"
      ]
    },
    {
      "cell_type": "markdown",
      "metadata": {
        "execution": {},
        "id": "9HbuVnWO6mAc"
      },
      "source": [
        "---\n",
        "# Objective\n",
        "\n",
        "- This project aims to use behavioral data to train an agent and then use the agent to investigate data produced by human subjects. Having a computational agent that mimics humans in such tests, we will be able to compare its mechanics with human data.\n",
        "\n",
        "- In another conception, we could fit an agent that learns many cognitive tasks that require abstract-level constructs such as executive functions. This is a multi-task control problem.\n",
        "\n",
        "\n"
      ]
    },
    {
      "cell_type": "markdown",
      "metadata": {
        "execution": {},
        "id": "-hzSA9mE6mAd"
      },
      "source": [
        "---\n",
        "# Setup"
      ]
    },
    {
      "cell_type": "code",
      "execution_count": 1,
      "metadata": {
        "execution": {},
        "id": "zigNT_hI6mAd",
        "outputId": "7b0074d9-0371-487a-d67c-941624573d8a",
        "colab": {
          "base_uri": "https://localhost:8080/"
        }
      },
      "outputs": [
        {
          "output_type": "stream",
          "name": "stdout",
          "text": [
            "\u001b[?25l\r\u001b[K     |█                               | 10 kB 27.5 MB/s eta 0:00:01\r\u001b[K     |██                              | 20 kB 30.3 MB/s eta 0:00:01\r\u001b[K     |███▏                            | 30 kB 32.5 MB/s eta 0:00:01\r\u001b[K     |████▏                           | 40 kB 11.0 MB/s eta 0:00:01\r\u001b[K     |█████▏                          | 51 kB 5.6 MB/s eta 0:00:01\r\u001b[K     |██████▎                         | 61 kB 6.6 MB/s eta 0:00:01\r\u001b[K     |███████▎                        | 71 kB 6.1 MB/s eta 0:00:01\r\u001b[K     |████████▍                       | 81 kB 6.4 MB/s eta 0:00:01\r\u001b[K     |█████████▍                      | 92 kB 7.1 MB/s eta 0:00:01\r\u001b[K     |██████████▍                     | 102 kB 5.7 MB/s eta 0:00:01\r\u001b[K     |███████████▌                    | 112 kB 5.7 MB/s eta 0:00:01\r\u001b[K     |████████████▌                   | 122 kB 5.7 MB/s eta 0:00:01\r\u001b[K     |█████████████▋                  | 133 kB 5.7 MB/s eta 0:00:01\r\u001b[K     |██████████████▋                 | 143 kB 5.7 MB/s eta 0:00:01\r\u001b[K     |███████████████▋                | 153 kB 5.7 MB/s eta 0:00:01\r\u001b[K     |████████████████▊               | 163 kB 5.7 MB/s eta 0:00:01\r\u001b[K     |█████████████████▊              | 174 kB 5.7 MB/s eta 0:00:01\r\u001b[K     |██████████████████▉             | 184 kB 5.7 MB/s eta 0:00:01\r\u001b[K     |███████████████████▉            | 194 kB 5.7 MB/s eta 0:00:01\r\u001b[K     |████████████████████▉           | 204 kB 5.7 MB/s eta 0:00:01\r\u001b[K     |██████████████████████          | 215 kB 5.7 MB/s eta 0:00:01\r\u001b[K     |███████████████████████         | 225 kB 5.7 MB/s eta 0:00:01\r\u001b[K     |████████████████████████        | 235 kB 5.7 MB/s eta 0:00:01\r\u001b[K     |█████████████████████████       | 245 kB 5.7 MB/s eta 0:00:01\r\u001b[K     |██████████████████████████      | 256 kB 5.7 MB/s eta 0:00:01\r\u001b[K     |███████████████████████████▏    | 266 kB 5.7 MB/s eta 0:00:01\r\u001b[K     |████████████████████████████▏   | 276 kB 5.7 MB/s eta 0:00:01\r\u001b[K     |█████████████████████████████▏  | 286 kB 5.7 MB/s eta 0:00:01\r\u001b[K     |██████████████████████████████▎ | 296 kB 5.7 MB/s eta 0:00:01\r\u001b[K     |███████████████████████████████▎| 307 kB 5.7 MB/s eta 0:00:01\r\u001b[K     |████████████████████████████████| 314 kB 5.7 MB/s \n",
            "\u001b[33mWARNING: dm-acme 0.4.0 does not provide the extra 'tensorflow'\u001b[0m\n",
            "\u001b[K     |████████████████████████████████| 3.8 MB 58.3 MB/s \n",
            "\u001b[K     |████████████████████████████████| 72 kB 676 kB/s \n",
            "\u001b[K     |████████████████████████████████| 342 kB 71.5 MB/s \n",
            "\u001b[K     |████████████████████████████████| 202 kB 72.4 MB/s \n",
            "\u001b[K     |████████████████████████████████| 145 kB 73.8 MB/s \n",
            "\u001b[K     |████████████████████████████████| 117 kB 57.3 MB/s \n",
            "\u001b[K     |████████████████████████████████| 6.4 MB 48.0 MB/s \n",
            "\u001b[K     |████████████████████████████████| 4.0 MB 46.8 MB/s \n",
            "\u001b[K     |████████████████████████████████| 668.3 MB 18 kB/s \n",
            "\u001b[K     |████████████████████████████████| 5.7 MB 60.0 MB/s \n",
            "\u001b[K     |████████████████████████████████| 462 kB 69.2 MB/s \n",
            "\u001b[K     |████████████████████████████████| 9.1 MB 24.4 MB/s \n",
            "\u001b[K     |████████████████████████████████| 217 kB 72.5 MB/s \n",
            "\u001b[K     |████████████████████████████████| 596 kB 74.2 MB/s \n",
            "\u001b[K     |████████████████████████████████| 51 kB 4.7 MB/s \n",
            "\u001b[K     |████████████████████████████████| 272 kB 68.0 MB/s \n",
            "\u001b[?25h  Building wheel for dm-acme (setup.py) ... \u001b[?25l\u001b[?25hdone\n",
            "\u001b[K     |████████████████████████████████| 18.8 MB 5.3 MB/s \n",
            "\u001b[K     |████████████████████████████████| 88 kB 9.0 MB/s \n",
            "\u001b[K     |████████████████████████████████| 207 kB 59.1 MB/s \n",
            "\u001b[K     |████████████████████████████████| 4.9 MB 30.8 MB/s \n",
            "\u001b[K     |████████████████████████████████| 99 kB 8.4 MB/s \n",
            "\u001b[?25h  Building wheel for bsuite (setup.py) ... \u001b[?25l\u001b[?25hdone\n",
            "\u001b[K     |████████████████████████████████| 254 kB 5.1 MB/s \n",
            "\u001b[K     |████████████████████████████████| 104 kB 5.1 MB/s \n",
            "\u001b[?25h"
          ]
        }
      ],
      "source": [
        "# @title Install dependencies\n",
        "# !pip install --upgrade pip setuptools wheel --quiet\n",
        "!pip install dm-acme[jax,tensorflow] --quiet\n",
        "!pip install dm-acme[envs] --quiet\n",
        "!pip install dm-sonnet --quiet\n",
        "!pip install trfl --quiet"
      ]
    },
    {
      "cell_type": "code",
      "execution_count": 2,
      "metadata": {
        "execution": {},
        "id": "IOdC2K-56mAk"
      },
      "outputs": [],
      "source": [
        "# Imports\n",
        "\n",
        "import time\n",
        "import numpy as np\n",
        "import pandas as pd\n",
        "import sonnet as snt\n",
        "import seaborn as sns\n",
        "import matplotlib.pyplot as plt\n",
        "\n",
        "import dm_env\n",
        "\n",
        "import acme\n",
        "from acme import specs\n",
        "from acme import wrappers\n",
        "from acme import EnvironmentLoop\n",
        "from acme.agents.tf import dqn\n",
        "from acme.utils import loggers\n",
        "from acme.agents.tf import r2d2\n",
        "from tqdm import tqdm"
      ]
    },
    {
      "cell_type": "code",
      "execution_count": 3,
      "metadata": {
        "execution": {},
        "id": "VIvUNa5t6mAl"
      },
      "outputs": [],
      "source": [
        "# @title Figure settings\n",
        "from IPython.display import clear_output, display, HTML\n",
        "%matplotlib inline\n",
        "sns.set()"
      ]
    },
    {
      "cell_type": "markdown",
      "metadata": {
        "execution": {},
        "id": "-R0grYI-6mAm"
      },
      "source": [
        "---\n",
        "# Background\n",
        "\n",
        "- Cognitive scientists use standard lab tests to tap into specific processes in the brain and behavior. Some examples of those tests are Stroop, N-back, Digit Span, TMT (Trail making tests), and WCST (Wisconsin Card Sorting Tests).\n",
        "\n",
        "- Despite an extensive body of research that explains human performance using descriptive what-models, we still need a more sophisticated approach to gain a better understanding of the underlying processes (i.e., a how-model).\n",
        "\n",
        "- Interestingly, many of such tests can be thought of as a continuous stream of stimuli and corresponding actions, that is in consonant with the RL formulation. In fact, RL itself is in part motivated by how the brain enables goal-directed behaviors using reward systems, making it a good choice to explain human performance.\n",
        "\n",
        "- One behavioral test example would be the N-back task.\n",
        "\n",
        "  - In the N-back, participants view a sequence of stimuli, one by one, and are asked to categorize each stimulus as being either match or non-match. Stimuli are usually numbers, and feedback is given at both timestep and trajectory levels.\n",
        "\n",
        "  - The agent is rewarded when its response matches the stimulus that was shown N steps back in the episode. A simpler version of the N-back uses two-choice action schema, that is match vs non-match. Once the present stimulus matches the one presented N step back, then the agent is expected to respond to it as being a `match`.\n",
        "\n",
        "\n",
        "- Given a trained RL agent, we then find correlates of its fitted parameters with the brain mechanisms. The most straightforward composition could be the correlation of model parameters with the brain activities."
      ]
    },
    {
      "cell_type": "markdown",
      "metadata": {
        "execution": {},
        "id": "Jr2eTAmn6mAo"
      },
      "source": [
        "## Datasets\n",
        "\n",
        "- HCP WM task ([NMA-CN HCP notebooks](https://github.com/NeuromatchAcademy/course-content/tree/master/projects/fMRI))\n",
        "\n",
        "Any dataset that used cognitive tests would work.\n",
        "Question: limit to behavioral data vs fMRI?\n",
        "Question: Which stimuli and actions to use?\n",
        "classic tests can be modeled using 1) bounded symbolic stimuli/actions (e.g., A, B, C), but more sophisticated one would require texts or images (e.g., face vs neutral images in social stroop dataset)\n",
        "The HCP dataset from NMA-CN contains behavioral and imaging data for 7 cognitive tests including various versions of N-back."
      ]
    },
    {
      "cell_type": "markdown",
      "metadata": {
        "execution": {},
        "id": "hi23aJh46mAp"
      },
      "source": [
        "## N-back task\n",
        "\n",
        "In the N-back task, participants view a sequence of stimuli, one per time, and are asked to categorize each stimulus as being either match or non-match. Stimuli are usually numbers, and feedbacks are given at both timestep and trajectory levels.\n",
        "\n",
        "In a typical neuro setup, both accuracy and response time are measured, but here, for the sake of brevity, we focus only on accuracy of responses."
      ]
    },
    {
      "cell_type": "markdown",
      "metadata": {
        "execution": {},
        "id": "0BCw1SqR6mAq"
      },
      "source": [
        "---\n",
        "# Cognitive Tests Environment\n",
        "\n",
        "First we develop an environment in that agents perform a cognitive test, here the N-back."
      ]
    },
    {
      "cell_type": "markdown",
      "metadata": {
        "execution": {},
        "id": "H7aDZqad6mAr"
      },
      "source": [
        "## Human dataset\n",
        "\n",
        "We need a dataset of human perfoming a N-back test, with the following features:\n",
        "\n",
        "- `participant_id`: following the BIDS format, it contains a unique identifier for each participant.\n",
        "- `trial_index`: same as `time_step`.\n",
        "- `stimulus`: same as `observation`.\n",
        "- `response`: same as `action`, recorded response by the human subject.\n",
        "- `expected_response`: correct response.\n",
        "- `is_correct`: same as `reward`, whether the human subject responded correctly.\n",
        "- `response_time`: won't be used here.\n",
        "\n",
        "Here we generate a mock dataset with those features, but remember to **replace this with real human data.**"
      ]
    },
    {
      "cell_type": "markdown",
      "metadata": {
        "execution": {},
        "id": "mvgbdQuK6mAs"
      },
      "source": [
        "### Environment\n",
        "\n",
        "The following cell implments N-back envinronment, that we later use to train a RL agent on human data. It is capable of performing two kinds of simulation:\n",
        "- rewards the agent once the action was correct (i.e., a normative model of the environment).\n",
        "- receives human data (or mock data if you prefer), and returns what participants performed as the observation. This is more useful for preference-based RL."
      ]
    },
    {
      "cell_type": "code",
      "execution_count": 19,
      "metadata": {
        "execution": {},
        "id": "ufg4-znW6mAs"
      },
      "outputs": [],
      "source": [
        "class NBack(dm_env.Environment):\n",
        "\n",
        "  ACTIONS = ['match', 'non-match']\n",
        "\n",
        "  def __init__(self,\n",
        "               N=2,\n",
        "               episode_steps=32,\n",
        "               stimuli_choices=list('ABCDEF'),\n",
        "               human_data=None,\n",
        "               seed=1,\n",
        "               prob = None\n",
        "               ):\n",
        "    \"\"\"\n",
        "    Args:\n",
        "      N: Number of steps to look back for the matched stimuli. Defaults to 2 (as in 2-back).\n",
        "      episode_steps\n",
        "      stimuli_choices\n",
        "      human_data\n",
        "      seed\n",
        "\n",
        "    \"\"\"\n",
        "    self.N = N\n",
        "    self.episode_steps = episode_steps\n",
        "    self.stimuli_choices = stimuli_choices\n",
        "    self.stimuli = np.empty(shape=episode_steps)  # will be filled in the `reset()`\n",
        "    self.n_s = len(self.stimuli_choices)\n",
        "    if prob is None:\n",
        "      self.prob = 0.5 * (self.n_s - 2)/ (self.n_s - 1)\n",
        "    else:\n",
        "      self.prob = prob\n",
        "    self._reset_next_step = True\n",
        "\n",
        "    # whether mimic humans or reward the agent once it responds optimally.\n",
        "    if human_data is None:\n",
        "      self._imitate_human = False\n",
        "      self.human_data = None\n",
        "      self.human_subject_data = None\n",
        "    else:\n",
        "      self._imitate_human = True\n",
        "      self.human_data = human_data\n",
        "      self.human_subject_data = None\n",
        "\n",
        "    self._action_history = []\n",
        "\n",
        "  def reset(self):\n",
        "    self._reset_next_step = False\n",
        "    self._current_step = 0\n",
        "    self._action_history.clear()\n",
        "\n",
        "    # generate a random sequence instead of relying on human data\n",
        "    if self.human_data is None:\n",
        "      for i in range(self.episode_steps):\n",
        "          if i<self.N:\n",
        "            self.stimuli[i]=np.random.choice(self.n_s)\n",
        "          else:\n",
        "            rand = np.random.random()\n",
        "            if rand < self.prob:\n",
        "              self.stimuli[i]=self.stimuli[i-self.N]\n",
        "            else:\n",
        "              self.stimuli[i]=np.random.choice(self.n_s)\n",
        "    else:\n",
        "      self.human_subject_data = self.human_data.query('participant_id == participant_id.sample().iloc[0]',\n",
        "                                                engine='python').sort_values('trial_index')\n",
        "      self.stimuli = self.human_subject_data['stimulus'].to_list()\n",
        "      self.stimuli = np.array([ord(s) - ord('A') + 1 for s in self.stimuli]).astype(np.float32)\n",
        "\n",
        "    return dm_env.restart(self._observation())\n",
        "\n",
        "\n",
        "  def _episode_return(self):\n",
        "    if self._imitate_human:\n",
        "      return np.mean(self.human_subject_data['response'] == self._action_history)\n",
        "    else:\n",
        "      return 0.0\n",
        "\n",
        "  def step(self, action: int):\n",
        "    if self._reset_next_step:\n",
        "      return self.reset()\n",
        "\n",
        "    agent_action = NBack.ACTIONS[action]\n",
        "\n",
        "    if self._imitate_human:\n",
        "      human_action = self.human_subject_data['response'].iloc[self._current_step]\n",
        "      step_reward = 0. if (agent_action == human_action) else -1.\n",
        "    else:\n",
        "      expected_action = 'match' if (self.stimuli[self._current_step] == self.stimuli[self._current_step - self.N]) else 'non-match'\n",
        "      step_reward = 0. if (agent_action == expected_action) else -1.\n",
        "\n",
        "    self._action_history.append(agent_action)\n",
        "\n",
        "    self._current_step += 1\n",
        "\n",
        "    if self._current_step == self.stimuli.shape[0]:\n",
        "      self._reset_next_step = True\n",
        "      return dm_env.termination(reward=self._episode_return(),\n",
        "                                observation=self._observation())\n",
        "    else:\n",
        "      return dm_env.transition(reward=step_reward,\n",
        "                               observation=self._observation())\n",
        "\n",
        "  def observation_spec(self):\n",
        "    return dm_env.specs.BoundedArray(\n",
        "        shape=self.stimuli[0].shape,\n",
        "        dtype=self.stimuli[0].dtype,\n",
        "        name='nback_stimuli', minimum=0, maximum=len(self.stimuli_choices) + 1)\n",
        "\n",
        "  def action_spec(self):\n",
        "    return dm_env.specs.DiscreteArray(\n",
        "        num_values=len(NBack.ACTIONS),\n",
        "        dtype=np.int32,\n",
        "        name='action')\n",
        "\n",
        "  def _observation(self):\n",
        "    if self._current_step ==  self.episode_steps:\n",
        "      obs = self.stimuli[0]\n",
        "    else:\n",
        "      obs = self.stimuli[self._current_step]\n",
        "\n",
        "    return obs\n",
        "\n",
        "  def plot_state(self):\n",
        "    \"\"\"Display current state of the environment.\n",
        "\n",
        "     Note: `M` mean `match`, and `.` is a `non-match`.\n",
        "    \"\"\"\n",
        "    stimuli = self.stimuli[:self._current_step - 1]\n",
        "    actions = ['M' if a=='match' else '.' for a in self._action_history[:self._current_step - 1]]\n",
        "    return HTML(\n",
        "        f'<b>Environment ({self.N}-back):</b><br />'\n",
        "        f'<pre><b>Stimuli:</b> {\"\".join(map(str,map(int,stimuli)))}</pre>'\n",
        "        f'<pre><b>Actions:</b> {\"\".join(actions)}</pre>'\n",
        "    )\n",
        "\n",
        "  @staticmethod\n",
        "  def create_environment(prob = None):\n",
        "    \"\"\"Utility function to create a N-back environment and its spec.\"\"\"\n",
        "\n",
        "    # Make sure the environment outputs single-precision floats.\n",
        "    environment = wrappers.SinglePrecisionWrapper(NBack(prob = prob))\n",
        "\n",
        "    # Grab the spec of the environment.\n",
        "    environment_spec = specs.make_environment_spec(environment)\n",
        "\n",
        "    return environment, environment_spec"
      ]
    },
    {
      "cell_type": "markdown",
      "metadata": {
        "execution": {},
        "id": "NQTnbj5V6mAt"
      },
      "source": [
        "### Define a random agent\n",
        "\n",
        "For more information you can refer to NMA-DL W3D2 Basic Reinforcement learning."
      ]
    },
    {
      "cell_type": "code",
      "execution_count": 5,
      "metadata": {
        "execution": {},
        "id": "_h1bWf8D6mAu"
      },
      "outputs": [],
      "source": [
        "class RandomAgent(acme.Actor):\n",
        "\n",
        "  def __init__(self, environment_spec, action = None):\n",
        "    \"\"\"Gets the number of available actions from the environment spec.\"\"\"\n",
        "    self._num_actions = environment_spec.actions.num_values\n",
        "    self.action = action\n",
        "\n",
        "  def select_action(self, observation):\n",
        "    \"\"\"Selects an action uniformly at random.\"\"\"\n",
        "    if self.action is not None: \n",
        "      return self.action\n",
        "    return np.random.randint(self._num_actions)\n",
        "\n",
        "  def observe_first(self, timestep):\n",
        "    \"\"\"Does not record as the RandomAgent has no use for data.\"\"\"\n",
        "    pass\n",
        "\n",
        "  def observe(self, action, next_timestep):\n",
        "    \"\"\"Does not record as the RandomAgent has no use for data.\"\"\"\n",
        "    pass\n",
        "\n",
        "  def update(self):\n",
        "    \"\"\"Does not update as the RandomAgent does not learn from data.\"\"\"\n",
        "    pass"
      ]
    },
    {
      "cell_type": "markdown",
      "source": [
        "## Define Learnable Agents"
      ],
      "metadata": {
        "id": "_X_RIcItvaVU"
      }
    },
    {
      "cell_type": "code",
      "source": [
        "def dqn_make_network(action_spec: specs.DiscreteArray) -> snt.Module:\n",
        "  return snt.Sequential([\n",
        "      snt.Flatten(),\n",
        "      snt.nets.MLP([128, 128, action_spec.num_values]),\n",
        "  ])\n",
        "\n",
        "def r2d2_make_network(action_spec: specs.DiscreteArray) -> snt.Module:\n",
        "  return snt.DeepRNN([\n",
        "            snt.Flatten(),\n",
        "            snt.LSTM(hidden_size = 10),\n",
        "            snt.nets.MLP([128, 128, action_spec.num_values])\n",
        "            ])"
      ],
      "metadata": {
        "id": "T6A2pa9Zvcpz"
      },
      "execution_count": 20,
      "outputs": []
    },
    {
      "cell_type": "markdown",
      "metadata": {
        "execution": {},
        "id": "135ZABGG6mAw"
      },
      "source": [
        "### Get reward distribution and mean reward of the agent"
      ]
    },
    {
      "cell_type": "code",
      "execution_count": 7,
      "metadata": {
        "execution": {},
        "id": "VPawgcGr6mAx"
      },
      "outputs": [],
      "source": [
        "def get_reward_distribution(agent, env, n_episodes = 25000,  episode_length = 32, log_loss = False):\n",
        "  # main loop\n",
        "  n_total_steps = 0\n",
        "  n_steps = n_episodes * episode_length\n",
        "  all_returns = []\n",
        "  for episode in range(n_episodes):\n",
        "    episode_steps = 0\n",
        "    episode_return = 0\n",
        "    episode_loss = 0\n",
        "\n",
        "    start_time = time.time()\n",
        "\n",
        "    timestep = env.reset()\n",
        "\n",
        "    # Make the first observation.\n",
        "    agent.observe_first(timestep)\n",
        "\n",
        "    # Run an episode\n",
        "    while not timestep.last():\n",
        "\n",
        "      # Generate an action from the agent's policy and step the environment.\n",
        "      action = agent.select_action(timestep.observation)\n",
        "      timestep = env.step(action)\n",
        "\n",
        "      # Have the agent observe the timestep and let the agent update itself.\n",
        "      agent.observe(action, next_timestep=timestep)\n",
        "      agent.update()\n",
        "\n",
        "      # Book-keeping.\n",
        "      episode_steps += 1\n",
        "      \n",
        "      n_total_steps += 1\n",
        "      print(n_total_steps)\n",
        "      episode_return += timestep.reward\n",
        "\n",
        "      if log_loss:\n",
        "        episode_loss += agent.last_loss\n",
        "\n",
        "      if n_steps is not None and n_total_steps >= n_steps:\n",
        "        break\n",
        "\n",
        "    # Collect the results and combine with counts.\n",
        "    steps_per_second = episode_steps / (time.time() - start_time)\n",
        "    result = {\n",
        "        'episode': episode,\n",
        "        'episode_length': episode_steps,\n",
        "        'episode_return': episode_return,\n",
        "    }\n",
        "    if log_loss:\n",
        "      result['loss_avg'] = episode_loss/episode_steps\n",
        "\n",
        "    all_returns.append(episode_return)\n",
        "\n",
        "    #display(env.plot_state())\n",
        "    # Log the given results.\n",
        "    # print(result)\n",
        "\n",
        "    if n_steps is not None and n_total_steps >= n_steps:\n",
        "      break\n",
        "\n",
        "  return all_returns, np.mean(all_returns), np.std(all_returns)"
      ]
    },
    {
      "cell_type": "markdown",
      "source": [
        "## Training and Evaluation Script"
      ],
      "metadata": {
        "id": "DMxo_yt5uN5d"
      }
    },
    {
      "cell_type": "code",
      "source": [
        "def train_and_eval(env, agent, train , n_episodes,  episode_length, log_loss = False):\n",
        "  if train:\n",
        "    print(\"here\")\n",
        "    loop = EnvironmentLoop(env, agent, logger=loggers.InMemoryLogger())\n",
        "    loop.run(n_episodes)\n",
        "\n",
        "    return pd.DataFrame(loop._logger._data)\n",
        "  \n",
        "  else:\n",
        "    all_returns, mean_return, std_return = get_reward_distribution(agent, env, n_episodes = 25000,  episode_length = 32, log_loss = False)\n",
        "    clear_output()\n",
        "    print(f'Mean Return: {mean_return} | Standard Deviation: {std_return}')\n",
        "    plt.figure()\n",
        "    sns.histplot(all_returns, stat=\"density\", kde=True, bins=12)\n",
        "    plt.xlabel('Return [a.u.]')\n",
        "    plt.ylabel('Density')\n",
        "    plt.show()\n",
        "\n",
        "    return None"
      ],
      "metadata": {
        "id": "_cxysHVguQOG"
      },
      "execution_count": 8,
      "outputs": []
    },
    {
      "cell_type": "markdown",
      "metadata": {
        "execution": {},
        "id": "_EGCq1_c6mAu"
      },
      "source": [
        "### Initialize the environments"
      ]
    },
    {
      "cell_type": "code",
      "execution_count": 21,
      "metadata": {
        "execution": {},
        "id": "tuD4BchT6mAv",
        "outputId": "8cf4ee20-6671-44d1-8353-65f932b6dd6c",
        "colab": {
          "base_uri": "https://localhost:8080/"
        }
      },
      "outputs": [
        {
          "output_type": "stream",
          "name": "stdout",
          "text": [
            "actions:\n",
            " DiscreteArray(shape=(), dtype=int32, name=action, minimum=0, maximum=1, num_values=2)\n",
            "observations:\n",
            " BoundedArray(shape=(), dtype=dtype('float32'), name='nback_stimuli', minimum=0.0, maximum=7.0)\n",
            "rewards:\n",
            " Array(shape=(), dtype=dtype('float32'), name='reward')\n"
          ]
        }
      ],
      "source": [
        "env_balanced, env_spec_balanced = NBack.create_environment()\n",
        "env_unbalanced, env_spec_unbalanced = NBack.create_environment(prob = 0.)\n",
        "\n",
        "print('actions:\\n', env_spec_balanced.actions)\n",
        "print('observations:\\n', env_spec_balanced.observations)\n",
        "print('rewards:\\n', env_spec_balanced.rewards)"
      ]
    },
    {
      "cell_type": "markdown",
      "source": [
        "# Define Agents"
      ],
      "metadata": {
        "id": "ukAvPj94hwOJ"
      }
    },
    {
      "cell_type": "code",
      "source": [
        "random_agent = RandomAgent(env_spec_balanced)\n",
        "match_agent = RandomAgent(env_spec_balanced, 0)\n",
        "unmatch_agent = RandomAgent(env_spec_balanced, 1)\n",
        "\n",
        "dqn_agent_balanced = dqn.DQN(\n",
        "    environment_spec=env_spec_balanced,\n",
        "    network=dqn_make_network(env_spec_balanced.actions),\n",
        "    epsilon=[0.5],\n",
        "    learning_rate = 0.0001,\n",
        "    min_replay_size = 32,\n",
        "    logger=loggers.InMemoryLogger(),\n",
        "    checkpoint=False,\n",
        ")\n",
        "\n",
        "dqn_agent_unbalanced = dqn.DQN(\n",
        "    environment_spec=env_spec_unbalanced,\n",
        "    network=dqn_make_network(env_spec_unbalanced.actions),\n",
        "    epsilon=[0.5],\n",
        "    learning_rate = 0.0001,\n",
        "    min_replay_size = 32,\n",
        "    logger=loggers.InMemoryLogger(),\n",
        "    checkpoint=False,\n",
        ")\n",
        "\n",
        "drqn_agent_balanced = r2d2.R2D2(\n",
        "    environment_spec=env_spec_balanced,\n",
        "    network=r2d2_make_network(env_spec_balanced.actions),\n",
        "    learning_rate = 0.0001,\n",
        "    burn_in_length=10,\n",
        "    trace_length=2,\n",
        "    replay_period=10,\n",
        "    epsilon=[0.05],\n",
        "    logger=loggers.InMemoryLogger(),\n",
        "    min_replay_size = 32,\n",
        "    checkpoint=False,\n",
        ")\n",
        "\n",
        "drqn_agent_unbalanced = r2d2.R2D2(\n",
        "    environment_spec=env_spec_unbalanced,\n",
        "    network=r2d2_make_network(env_spec_unbalanced.actions),\n",
        "    learning_rate = 0.0001,\n",
        "    burn_in_length=10,\n",
        "    trace_length=2,\n",
        "    replay_period=10,\n",
        "    epsilon=[0.05],\n",
        "    logger=loggers.InMemoryLogger(),\n",
        "    min_replay_size = 32,\n",
        "    checkpoint=False,\n",
        ")"
      ],
      "metadata": {
        "id": "XcvCnGfDhxIC"
      },
      "execution_count": 22,
      "outputs": []
    },
    {
      "cell_type": "code",
      "source": [
        "n_episodes = 25000\n",
        "episode_length = 32"
      ],
      "metadata": {
        "id": "x4yOQ6aY6P9K"
      },
      "execution_count": 11,
      "outputs": []
    },
    {
      "cell_type": "markdown",
      "source": [
        "## Random Agent"
      ],
      "metadata": {
        "id": "tI_K_1zDyaz7"
      }
    },
    {
      "cell_type": "markdown",
      "source": [
        "### Balanced N-Back"
      ],
      "metadata": {
        "id": "SURbpHPeydLy"
      }
    },
    {
      "cell_type": "code",
      "source": [
        "train_and_eval(env_balanced, random_agent, False, n_episodes = n_episodes,  episode_length = episode_length, log_loss = False)"
      ],
      "metadata": {
        "colab": {
          "base_uri": "https://localhost:8080/",
          "height": 303
        },
        "id": "7KqHQnnXw-oX",
        "outputId": "2ab69afd-1fed-4f61-bcd7-8f11100a05a1"
      },
      "execution_count": 12,
      "outputs": [
        {
          "output_type": "stream",
          "name": "stdout",
          "text": [
            "Mean Return: -15.52376 | Standard Deviation: 2.800956169310759\n"
          ]
        },
        {
          "output_type": "display_data",
          "data": {
            "text/plain": [
              "<Figure size 432x288 with 1 Axes>"
            ],
            "image/png": "[encoded data removed]"
          },
          "metadata": {}
        }
      ]
    },
    {
      "cell_type": "markdown",
      "source": [
        "### Un-Balanced N-Back"
      ],
      "metadata": {
        "id": "sPQgEENVyf8O"
      }
    },
    {
      "cell_type": "code",
      "source": [
        "train_and_eval(env_unbalanced, random_agent, False, n_episodes = n_episodes,  episode_length = episode_length, log_loss = False)"
      ],
      "metadata": {
        "colab": {
          "base_uri": "https://localhost:8080/",
          "height": 303
        },
        "id": "4eDnhTWYyBbM",
        "outputId": "edf8601a-0e75-4586-cfdb-10e380cfccb6"
      },
      "execution_count": 13,
      "outputs": [
        {
          "output_type": "stream",
          "name": "stdout",
          "text": [
            "Mean Return: -15.48716 | Standard Deviation: 2.7800566782711464\n"
          ]
        },
        {
          "output_type": "display_data",
          "data": {
            "text/plain": [
              "<Figure size 432x288 with 1 Axes>"
            ],
            "image/png": "[encoded data removed]"
          },
          "metadata": {}
        }
      ]
    },
    {
      "cell_type": "markdown",
      "source": [
        "## Matching Agent"
      ],
      "metadata": {
        "id": "KHlNxPbMyhzS"
      }
    },
    {
      "cell_type": "markdown",
      "source": [
        "### Balanced N-Back"
      ],
      "metadata": {
        "id": "uhblKbMfyjmh"
      }
    },
    {
      "cell_type": "code",
      "source": [
        "train_and_eval(env_balanced, match_agent,False, n_episodes = n_episodes,  episode_length = episode_length, log_loss = False)"
      ],
      "metadata": {
        "colab": {
          "base_uri": "https://localhost:8080/",
          "height": 303
        },
        "id": "iSwcN1cHyEJf",
        "outputId": "f1d5f851-6d62-4373-9c32-754115de6d52"
      },
      "execution_count": 14,
      "outputs": [
        {
          "output_type": "stream",
          "name": "stdout",
          "text": [
            "Mean Return: -16.18132 | Standard Deviation: 2.74579734459774\n"
          ]
        },
        {
          "output_type": "display_data",
          "data": {
            "text/plain": [
              "<Figure size 432x288 with 1 Axes>"
            ],
            "image/png": "[encoded data removed]"
          },
          "metadata": {}
        }
      ]
    },
    {
      "cell_type": "markdown",
      "source": [
        "### Un-Balanced N-Back"
      ],
      "metadata": {
        "id": "JO5ZCYnHylS0"
      }
    },
    {
      "cell_type": "code",
      "source": [
        "train_and_eval(env_unbalanced, match_agent,False, n_episodes = n_episodes,  episode_length = episode_length, log_loss = False)"
      ],
      "metadata": {
        "colab": {
          "base_uri": "https://localhost:8080/",
          "height": 303
        },
        "id": "AfdlslUeyEg3",
        "outputId": "1bb82082-e41f-458c-d658-f8989b304370"
      },
      "execution_count": 15,
      "outputs": [
        {
          "output_type": "stream",
          "name": "stdout",
          "text": [
            "Mean Return: -25.82692 | Standard Deviation: 2.0930559747890163\n"
          ]
        },
        {
          "output_type": "display_data",
          "data": {
            "text/plain": [
              "<Figure size 432x288 with 1 Axes>"
            ],
            "image/png": "[encoded data removed]"
          },
          "metadata": {}
        }
      ]
    },
    {
      "cell_type": "markdown",
      "source": [
        "## Un-Matching Agent"
      ],
      "metadata": {
        "id": "v9KqkvKRyoO4"
      }
    },
    {
      "cell_type": "markdown",
      "source": [
        "### Balanced N-Back"
      ],
      "metadata": {
        "id": "-jRSzfu2yqQP"
      }
    },
    {
      "cell_type": "code",
      "source": [
        "train_and_eval(env_balanced, unmatch_agent, False, n_episodes = n_episodes,  episode_length = episode_length, log_loss = False)"
      ],
      "metadata": {
        "colab": {
          "base_uri": "https://localhost:8080/",
          "height": 303
        },
        "id": "CF2AnpQiyJxl",
        "outputId": "2bba3094-dd2e-4095-caa7-9fd8c5ab72fd"
      },
      "execution_count": 16,
      "outputs": [
        {
          "output_type": "stream",
          "name": "stdout",
          "text": [
            "Mean Return: -14.8332 | Standard Deviation: 2.754534036820021\n"
          ]
        },
        {
          "output_type": "display_data",
          "data": {
            "text/plain": [
              "<Figure size 432x288 with 1 Axes>"
            ],
            "image/png": "[encoded data removed]"
          },
          "metadata": {}
        }
      ]
    },
    {
      "cell_type": "markdown",
      "source": [
        "### Un-Balanced N-Back"
      ],
      "metadata": {
        "id": "lziRjJDYyrD2"
      }
    },
    {
      "cell_type": "code",
      "source": [
        "train_and_eval(env_unbalanced, unmatch_agent, False, n_episodes = n_episodes,  episode_length = episode_length, log_loss = False)"
      ],
      "metadata": {
        "colab": {
          "base_uri": "https://localhost:8080/",
          "height": 303
        },
        "id": "eULQxh4KyKGB",
        "outputId": "7f41185b-3326-4318-be24-0dcbf9fc8810"
      },
      "execution_count": 17,
      "outputs": [
        {
          "output_type": "stream",
          "name": "stdout",
          "text": [
            "Mean Return: -5.15156 | Standard Deviation: 2.077081983552888\n"
          ]
        },
        {
          "output_type": "display_data",
          "data": {
            "text/plain": [
              "<Figure size 432x288 with 1 Axes>"
            ],
            "image/png": "[encoded data removed]"
          },
          "metadata": {}
        }
      ]
    },
    {
      "cell_type": "markdown",
      "source": [
        "## DQN Agent"
      ],
      "metadata": {
        "id": "ji6I5b0zys59"
      }
    },
    {
      "cell_type": "markdown",
      "source": [
        "### Balanced N-Back"
      ],
      "metadata": {
        "id": "1tCSFK6RyuPb"
      }
    },
    {
      "cell_type": "code",
      "source": [
        "logs_dqn_balanced = train_and_eval(env_balanced, dqn_agent_balanced, True, n_episodes = n_episodes,  episode_length = episode_length, log_loss = False)"
      ],
      "metadata": {
        "colab": {
          "base_uri": "https://localhost:8080/"
        },
        "id": "TR4-WWlQyOAc",
        "outputId": "61f5b569-dabc-4309-9b51-d2cde9e4fff3"
      },
      "execution_count": 23,
      "outputs": [
        {
          "output_type": "stream",
          "name": "stdout",
          "text": [
            "here\n"
          ]
        }
      ]
    },
    {
      "cell_type": "code",
      "source": [
        "mean_dqn = np.mean(logs_dqn_balanced['episode_return'])\n",
        "std_dqn = np.std(logs_dqn_balanced['episode_return'])\n",
        "\n",
        "print(f'Mean Return: {mean_dqn} | Standard Deviation: {std_dqn}')\n",
        "plot = logs_dqn_balanced.episode_return.hist(bins=12, density=True)\n",
        "plot.set_xlabel('Return [a.u.]')\n",
        "plot.set_ylabel('Density')\n"
      ],
      "metadata": {
        "colab": {
          "base_uri": "https://localhost:8080/",
          "height": 321
        },
        "id": "OyJ9qlJIx1GN",
        "outputId": "7ab33fe2-492c-4948-9ecd-1d86d17d9e10"
      },
      "execution_count": 24,
      "outputs": [
        {
          "output_type": "stream",
          "name": "stdout",
          "text": [
            "Mean Return: -15.36624 | Standard Deviation: 2.765217579576696\n"
          ]
        },
        {
          "output_type": "execute_result",
          "data": {
            "text/plain": [
              "Text(0, 0.5, 'Density')"
            ]
          },
          "metadata": {},
          "execution_count": 24
        },
        {
          "output_type": "display_data",
          "data": {
            "text/plain": [
              "<Figure size 432x288 with 1 Axes>"
            ],
            "image/png": "[encoded data removed]"
          },
          "metadata": {}
        }
      ]
    },
    {
      "cell_type": "markdown",
      "source": [
        "### Un-Balanced N-Back"
      ],
      "metadata": {
        "id": "JRApxz2xyvIn"
      }
    },
    {
      "cell_type": "code",
      "source": [
        "logs_dqn_unbalanced = train_and_eval(env_unbalanced, dqn_agent_unbalanced, True, n_episodes = n_episodes,  episode_length = episode_length, log_loss = False)"
      ],
      "metadata": {
        "id": "RbHSBs9JyOPL",
        "colab": {
          "base_uri": "https://localhost:8080/"
        },
        "outputId": "932e11db-3d59-41bd-8dcf-53151eaf7e24"
      },
      "execution_count": 25,
      "outputs": [
        {
          "metadata": {
            "tags": null
          },
          "name": "stdout",
          "output_type": "stream",
          "text": [
            "here\n"
          ]
        }
      ]
    },
    {
      "cell_type": "code",
      "source": [
        "mean_dqn_ub = np.mean(logs_dqn_unbalanced['episode_return'])\n",
        "std_dqn_ub = np.std(logs_dqn_unbalanced['episode_return'])\n",
        "print(f'Mean Return: {mean_dqn_ub} | Standard Deviation: {std_dqn_ub}')\n",
        "\n",
        "plot_dqn_ub = logs_dqn_unbalanced.episode_return.hist(bins=12, density=True)\n",
        "plot_dqn_ub.set_xlabel('Return [a.u.]')\n",
        "plot_dqn_ub.set_ylabel('Density')\n"
      ],
      "metadata": {
        "colab": {
          "base_uri": "https://localhost:8080/",
          "height": 321
        },
        "id": "D50ezbuAooDF",
        "outputId": "91099506-b27a-4366-d425-b6ccbafc5d9e"
      },
      "execution_count": 26,
      "outputs": [
        {
          "output_type": "stream",
          "name": "stdout",
          "text": [
            "Mean Return: -10.86908 | Standard Deviation: 2.9555270179106805\n"
          ]
        },
        {
          "output_type": "execute_result",
          "data": {
            "text/plain": [
              "Text(0, 0.5, 'Density')"
            ]
          },
          "metadata": {},
          "execution_count": 26
        },
        {
          "output_type": "display_data",
          "data": {
            "text/plain": [
              "<Figure size 432x288 with 1 Axes>"
            ],
            "image/png": "[encoded data removed]"
          },
          "metadata": {}
        }
      ]
    },
    {
      "cell_type": "markdown",
      "source": [
        "## DRQN Agent"
      ],
      "metadata": {
        "id": "VYENVrXxywgf"
      }
    },
    {
      "cell_type": "markdown",
      "source": [
        "### Balanced N-Back"
      ],
      "metadata": {
        "id": "PI2ZXu7Kyxyc"
      }
    },
    {
      "cell_type": "code",
      "source": [
        "logs_drqn_balanced = train_and_eval(env_balanced, drqn_agent_balanced, True, n_episodes = n_episodes,  episode_length = episode_length, log_loss = False)"
      ],
      "metadata": {
        "id": "FKEeEbjByWrp",
        "colab": {
          "base_uri": "https://localhost:8080/"
        },
        "outputId": "f29250e5-8c42-4fd4-bc70-1a98554069f3"
      },
      "execution_count": 27,
      "outputs": [
        {
          "output_type": "stream",
          "name": "stdout",
          "text": [
            "here\n",
            "INFO:tensorflow:Assets written to: /root/acme/2d5f4468-0d66-11ed-9aaa-0242ac1c0002/snapshots/network/assets\n"
          ]
        }
      ]
    },
    {
      "cell_type": "code",
      "source": [
        "mean_drqn = np.mean(logs_drqn_balanced['episode_return'])\n",
        "std_drqn = np.std(logs_drqn_balanced['episode_return'])\n",
        "\n",
        "print(f'Mean Return: {mean_drqn} | Standard Deviation: {mean_drqn}')\n",
        "\n",
        "plot_drqn = logs_drqn_balanced.episode_return.hist(bins=12, density = True)\n",
        "plot_drqn.set_xlabel('Return [a.u.]')\n",
        "plot_drqn.set_ylabel('Density')\n",
        "logs_dqn_balanced.tail()"
      ],
      "metadata": {
        "colab": {
          "base_uri": "https://localhost:8080/",
          "height": 536
        },
        "id": "7Ab9UTVDRlFK",
        "outputId": "c828832c-a56b-4643-ced3-58ab5e0320b0"
      },
      "execution_count": 28,
      "outputs": [
        {
          "output_type": "stream",
          "name": "stdout",
          "text": [
            "Mean Return: -12.623 | Standard Deviation: -12.623\n"
          ]
        },
        {
          "output_type": "execute_result",
          "data": {
            "text/plain": [
              "       episode_length episode_return  steps_per_second  episodes   steps\n",
              "24995              32          -16.0        354.970056     24996  799872\n",
              "24996              32          -14.0        286.602623     24997  799904\n",
              "24997              32          -18.0        316.785098     24998  799936\n",
              "24998              32          -17.0        343.858826     24999  799968\n",
              "24999              32          -16.0        334.936410     25000  800000"
            ],
            "text/html": [
              "\n",
              "  <div id=\"df-5f50a211-4c6c-4c9e-b6bd-d032efa4296e\">\n",
              "    <div class=\"colab-df-container\">\n",
              "      <div>\n",
              "<style scoped>\n",
              "    .dataframe tbody tr th:only-of-type {\n",
              "        vertical-align: middle;\n",
              "    }\n",
              "\n",
              "    .dataframe tbody tr th {\n",
              "        vertical-align: top;\n",
              "    }\n",
              "\n",
              "    .dataframe thead th {\n",
              "        text-align: right;\n",
              "    }\n",
              "</style>\n",
              "<table border=\"1\" class=\"dataframe\">\n",
              "  <thead>\n",
              "    <tr style=\"text-align: right;\">\n",
              "      <th></th>\n",
              "      <th>episode_length</th>\n",
              "      <th>episode_return</th>\n",
              "      <th>steps_per_second</th>\n",
              "      <th>episodes</th>\n",
              "      <th>steps</th>\n",
              "    </tr>\n",
              "  </thead>\n",
              "  <tbody>\n",
              "    <tr>\n",
              "      <th>24995</th>\n",
              "      <td>32</td>\n",
              "      <td>-16.0</td>\n",
              "      <td>354.970056</td>\n",
              "      <td>24996</td>\n",
              "      <td>799872</td>\n",
              "    </tr>\n",
              "    <tr>\n",
              "      <th>24996</th>\n",
              "      <td>32</td>\n",
              "      <td>-14.0</td>\n",
              "      <td>286.602623</td>\n",
              "      <td>24997</td>\n",
              "      <td>799904</td>\n",
              "    </tr>\n",
              "    <tr>\n",
              "      <th>24997</th>\n",
              "      <td>32</td>\n",
              "      <td>-18.0</td>\n",
              "      <td>316.785098</td>\n",
              "      <td>24998</td>\n",
              "      <td>799936</td>\n",
              "    </tr>\n",
              "    <tr>\n",
              "      <th>24998</th>\n",
              "      <td>32</td>\n",
              "      <td>-17.0</td>\n",
              "      <td>343.858826</td>\n",
              "      <td>24999</td>\n",
              "      <td>799968</td>\n",
              "    </tr>\n",
              "    <tr>\n",
              "      <th>24999</th>\n",
              "      <td>32</td>\n",
              "      <td>-16.0</td>\n",
              "      <td>334.936410</td>\n",
              "      <td>25000</td>\n",
              "      <td>800000</td>\n",
              "    </tr>\n",
              "  </tbody>\n",
              "</table>\n",
              "</div>\n",
              "      <button class=\"colab-df-convert\" onclick=\"convertToInteractive('df-5f50a211-4c6c-4c9e-b6bd-d032efa4296e')\"\n",
              "              title=\"Convert this dataframe to an interactive table.\"\n",
              "              style=\"display:none;\">\n",
              "        \n",
              "  <svg xmlns=\"http://www.w3.org/2000/svg\" height=\"24px\"viewBox=\"0 0 24 24\"\n",
              "       width=\"24px\">\n",
              "    <path d=\"M0 0h24v24H0V0z\" fill=\"none\"/>\n",
              "    <path d=\"M18.56 5.44l.94 2.06.94-2.06 2.06-.94-2.06-.94-.94-2.06-.94 2.06-2.06.94zm-11 1L8.5 8.5l.94-2.06 2.06-.94-2.06-.94L8.5 2.5l-.94 2.06-2.06.94zm10 10l.94 2.06.94-2.06 2.06-.94-2.06-.94-.94-2.06-.94 2.06-2.06.94z\"/><path d=\"M17.41 7.96l-1.37-1.37c-.4-.4-.92-.59-1.43-.59-.52 0-1.04.2-1.43.59L10.3 9.45l-7.72 7.72c-.78.78-.78 2.05 0 2.83L4 21.41c.39.39.9.59 1.41.59.51 0 1.02-.2 1.41-.59l7.78-7.78 2.81-2.81c.8-.78.8-2.07 0-2.86zM5.41 20L4 18.59l7.72-7.72 1.47 1.35L5.41 20z\"/>\n",
              "  </svg>\n",
              "      </button>\n",
              "      \n",
              "  <style>\n",
              "    .colab-df-container {\n",
              "      display:flex;\n",
              "      flex-wrap:wrap;\n",
              "      gap: 12px;\n",
              "    }\n",
              "\n",
              "    .colab-df-convert {\n",
              "      background-color: #E8F0FE;\n",
              "      border: none;\n",
              "      border-radius: 50%;\n",
              "      cursor: pointer;\n",
              "      display: none;\n",
              "      fill: #1967D2;\n",
              "      height: 32px;\n",
              "      padding: 0 0 0 0;\n",
              "      width: 32px;\n",
              "    }\n",
              "\n",
              "    .colab-df-convert:hover {\n",
              "      background-color: #E2EBFA;\n",
              "      box-shadow: 0px 1px 2px rgba(60, 64, 67, 0.3), 0px 1px 3px 1px rgba(60, 64, 67, 0.15);\n",
              "      fill: #174EA6;\n",
              "    }\n",
              "\n",
              "    [theme=dark] .colab-df-convert {\n",
              "      background-color: #3B4455;\n",
              "      fill: #D2E3FC;\n",
              "    }\n",
              "\n",
              "    [theme=dark] .colab-df-convert:hover {\n",
              "      background-color: #434B5C;\n",
              "      box-shadow: 0px 1px 3px 1px rgba(0, 0, 0, 0.15);\n",
              "      filter: drop-shadow(0px 1px 2px rgba(0, 0, 0, 0.3));\n",
              "      fill: #FFFFFF;\n",
              "    }\n",
              "  </style>\n",
              "\n",
              "      <script>\n",
              "        const buttonEl =\n",
              "          document.querySelector('#df-5f50a211-4c6c-4c9e-b6bd-d032efa4296e button.colab-df-convert');\n",
              "        buttonEl.style.display =\n",
              "          google.colab.kernel.accessAllowed ? 'block' : 'none';\n",
              "\n",
              "        async function convertToInteractive(key) {\n",
              "          const element = document.querySelector('#df-5f50a211-4c6c-4c9e-b6bd-d032efa4296e');\n",
              "          const dataTable =\n",
              "            await google.colab.kernel.invokeFunction('convertToInteractive',\n",
              "                                                     [key], {});\n",
              "          if (!dataTable) return;\n",
              "\n",
              "          const docLinkHtml = 'Like what you see? Visit the ' +\n",
              "            '<a target=\"_blank\" href=https://colab.research.google.com/notebooks/data_table.ipynb>data table notebook</a>'\n",
              "            + ' to learn more about interactive tables.';\n",
              "          element.innerHTML = '';\n",
              "          dataTable['output_type'] = 'display_data';\n",
              "          await google.colab.output.renderOutput(dataTable, element);\n",
              "          const docLink = document.createElement('div');\n",
              "          docLink.innerHTML = docLinkHtml;\n",
              "          element.appendChild(docLink);\n",
              "        }\n",
              "      </script>\n",
              "    </div>\n",
              "  </div>\n",
              "  "
            ]
          },
          "metadata": {},
          "execution_count": 28
        },
        {
          "output_type": "display_data",
          "data": {
            "text/plain": [
              "<Figure size 432x288 with 1 Axes>"
            ],
            "image/png": "[encoded data removed]"
          },
          "metadata": {}
        }
      ]
    },
    {
      "cell_type": "markdown",
      "source": [
        "### Un-Balanced N-Back"
      ],
      "metadata": {
        "id": "h7hLLNggyyRG"
      }
    },
    {
      "cell_type": "code",
      "source": [
        "logs_drqn_unbalanced = train_and_eval(env_unbalanced, drqn_agent_unbalanced, True, n_episodes = n_episodes,  episode_length = episode_length, log_loss = False)"
      ],
      "metadata": {
        "id": "y0Kz9jPtyW78",
        "colab": {
          "base_uri": "https://localhost:8080/"
        },
        "outputId": "d5360e6f-1027-43b4-9ab8-339e6ecab98d"
      },
      "execution_count": 29,
      "outputs": [
        {
          "output_type": "stream",
          "name": "stdout",
          "text": [
            "here\n",
            "INFO:tensorflow:Assets written to: /root/acme/2d5f4468-0d66-11ed-9aaa-0242ac1c0002/snapshots/network/assets\n"
          ]
        }
      ]
    },
    {
      "cell_type": "code",
      "source": [
        "mean_drqn_ub = np.mean(logs_drqn_unbalanced['episode_return'])\n",
        "std_drqn_ub = np.std(logs_drqn_unbalanced['episode_return'])\n",
        "\n",
        "print(f'Mean Return: {mean_drqn_ub} | Standard Deviation: {mean_drqn_ub}')\n",
        "\n",
        "plot_drqn = logs_drqn_unbalanced.episode_return.hist(bins=12, density = True)\n",
        "plot_drqn.set_xlabel('Return [a.u.]')\n",
        "plot_drqn.set_ylabel('Density')\n",
        "logs_drqn_unbalanced.tail()"
      ],
      "metadata": {
        "colab": {
          "base_uri": "https://localhost:8080/",
          "height": 536
        },
        "id": "KaX22X7ht2R9",
        "outputId": "cb29ea26-88db-4f4a-99a5-1a8b06249714"
      },
      "execution_count": 30,
      "outputs": [
        {
          "output_type": "stream",
          "name": "stdout",
          "text": [
            "Mean Return: -7.64784 | Standard Deviation: -7.64784\n"
          ]
        },
        {
          "output_type": "execute_result",
          "data": {
            "text/plain": [
              "       episode_length episode_return  steps_per_second  episodes   steps\n",
              "24995              32           -8.0        342.566942     24996  799872\n",
              "24996              32          -15.0        367.830656     24997  799904\n",
              "24997              32          -10.0        363.534672     24998  799936\n",
              "24998              32           -6.0        368.094957     24999  799968\n",
              "24999              32           -4.0        336.529510     25000  800000"
            ],
            "text/html": [
              "\n",
              "  <div id=\"df-0b5ba265-9c93-462b-bdd5-d280d9acbb9e\">\n",
              "    <div class=\"colab-df-container\">\n",
              "      <div>\n",
              "<style scoped>\n",
              "    .dataframe tbody tr th:only-of-type {\n",
              "        vertical-align: middle;\n",
              "    }\n",
              "\n",
              "    .dataframe tbody tr th {\n",
              "        vertical-align: top;\n",
              "    }\n",
              "\n",
              "    .dataframe thead th {\n",
              "        text-align: right;\n",
              "    }\n",
              "</style>\n",
              "<table border=\"1\" class=\"dataframe\">\n",
              "  <thead>\n",
              "    <tr style=\"text-align: right;\">\n",
              "      <th></th>\n",
              "      <th>episode_length</th>\n",
              "      <th>episode_return</th>\n",
              "      <th>steps_per_second</th>\n",
              "      <th>episodes</th>\n",
              "      <th>steps</th>\n",
              "    </tr>\n",
              "  </thead>\n",
              "  <tbody>\n",
              "    <tr>\n",
              "      <th>24995</th>\n",
              "      <td>32</td>\n",
              "      <td>-8.0</td>\n",
              "      <td>342.566942</td>\n",
              "      <td>24996</td>\n",
              "      <td>799872</td>\n",
              "    </tr>\n",
              "    <tr>\n",
              "      <th>24996</th>\n",
              "      <td>32</td>\n",
              "      <td>-15.0</td>\n",
              "      <td>367.830656</td>\n",
              "      <td>24997</td>\n",
              "      <td>799904</td>\n",
              "    </tr>\n",
              "    <tr>\n",
              "      <th>24997</th>\n",
              "      <td>32</td>\n",
              "      <td>-10.0</td>\n",
              "      <td>363.534672</td>\n",
              "      <td>24998</td>\n",
              "      <td>799936</td>\n",
              "    </tr>\n",
              "    <tr>\n",
              "      <th>24998</th>\n",
              "      <td>32</td>\n",
              "      <td>-6.0</td>\n",
              "      <td>368.094957</td>\n",
              "      <td>24999</td>\n",
              "      <td>799968</td>\n",
              "    </tr>\n",
              "    <tr>\n",
              "      <th>24999</th>\n",
              "      <td>32</td>\n",
              "      <td>-4.0</td>\n",
              "      <td>336.529510</td>\n",
              "      <td>25000</td>\n",
              "      <td>800000</td>\n",
              "    </tr>\n",
              "  </tbody>\n",
              "</table>\n",
              "</div>\n",
              "      <button class=\"colab-df-convert\" onclick=\"convertToInteractive('df-0b5ba265-9c93-462b-bdd5-d280d9acbb9e')\"\n",
              "              title=\"Convert this dataframe to an interactive table.\"\n",
              "              style=\"display:none;\">\n",
              "        \n",
              "  <svg xmlns=\"http://www.w3.org/2000/svg\" height=\"24px\"viewBox=\"0 0 24 24\"\n",
              "       width=\"24px\">\n",
              "    <path d=\"M0 0h24v24H0V0z\" fill=\"none\"/>\n",
              "    <path d=\"M18.56 5.44l.94 2.06.94-2.06 2.06-.94-2.06-.94-.94-2.06-.94 2.06-2.06.94zm-11 1L8.5 8.5l.94-2.06 2.06-.94-2.06-.94L8.5 2.5l-.94 2.06-2.06.94zm10 10l.94 2.06.94-2.06 2.06-.94-2.06-.94-.94-2.06-.94 2.06-2.06.94z\"/><path d=\"M17.41 7.96l-1.37-1.37c-.4-.4-.92-.59-1.43-.59-.52 0-1.04.2-1.43.59L10.3 9.45l-7.72 7.72c-.78.78-.78 2.05 0 2.83L4 21.41c.39.39.9.59 1.41.59.51 0 1.02-.2 1.41-.59l7.78-7.78 2.81-2.81c.8-.78.8-2.07 0-2.86zM5.41 20L4 18.59l7.72-7.72 1.47 1.35L5.41 20z\"/>\n",
              "  </svg>\n",
              "      </button>\n",
              "      \n",
              "  <style>\n",
              "    .colab-df-container {\n",
              "      display:flex;\n",
              "      flex-wrap:wrap;\n",
              "      gap: 12px;\n",
              "    }\n",
              "\n",
              "    .colab-df-convert {\n",
              "      background-color: #E8F0FE;\n",
              "      border: none;\n",
              "      border-radius: 50%;\n",
              "      cursor: pointer;\n",
              "      display: none;\n",
              "      fill: #1967D2;\n",
              "      height: 32px;\n",
              "      padding: 0 0 0 0;\n",
              "      width: 32px;\n",
              "    }\n",
              "\n",
              "    .colab-df-convert:hover {\n",
              "      background-color: #E2EBFA;\n",
              "      box-shadow: 0px 1px 2px rgba(60, 64, 67, 0.3), 0px 1px 3px 1px rgba(60, 64, 67, 0.15);\n",
              "      fill: #174EA6;\n",
              "    }\n",
              "\n",
              "    [theme=dark] .colab-df-convert {\n",
              "      background-color: #3B4455;\n",
              "      fill: #D2E3FC;\n",
              "    }\n",
              "\n",
              "    [theme=dark] .colab-df-convert:hover {\n",
              "      background-color: #434B5C;\n",
              "      box-shadow: 0px 1px 3px 1px rgba(0, 0, 0, 0.15);\n",
              "      filter: drop-shadow(0px 1px 2px rgba(0, 0, 0, 0.3));\n",
              "      fill: #FFFFFF;\n",
              "    }\n",
              "  </style>\n",
              "\n",
              "      <script>\n",
              "        const buttonEl =\n",
              "          document.querySelector('#df-0b5ba265-9c93-462b-bdd5-d280d9acbb9e button.colab-df-convert');\n",
              "        buttonEl.style.display =\n",
              "          google.colab.kernel.accessAllowed ? 'block' : 'none';\n",
              "\n",
              "        async function convertToInteractive(key) {\n",
              "          const element = document.querySelector('#df-0b5ba265-9c93-462b-bdd5-d280d9acbb9e');\n",
              "          const dataTable =\n",
              "            await google.colab.kernel.invokeFunction('convertToInteractive',\n",
              "                                                     [key], {});\n",
              "          if (!dataTable) return;\n",
              "\n",
              "          const docLinkHtml = 'Like what you see? Visit the ' +\n",
              "            '<a target=\"_blank\" href=https://colab.research.google.com/notebooks/data_table.ipynb>data table notebook</a>'\n",
              "            + ' to learn more about interactive tables.';\n",
              "          element.innerHTML = '';\n",
              "          dataTable['output_type'] = 'display_data';\n",
              "          await google.colab.output.renderOutput(dataTable, element);\n",
              "          const docLink = document.createElement('div');\n",
              "          docLink.innerHTML = docLinkHtml;\n",
              "          element.appendChild(docLink);\n",
              "        }\n",
              "      </script>\n",
              "    </div>\n",
              "  </div>\n",
              "  "
            ]
          },
          "metadata": {},
          "execution_count": 30
        },
        {
          "output_type": "display_data",
          "data": {
            "text/plain": [
              "<Figure size 432x288 with 1 Axes>"
            ],
            "image/png": "[encoded data removed]"
          },
          "metadata": {}
        }
      ]
    },
    {
      "cell_type": "code",
      "source": [
        "def moving_average(interval, window_size):\n",
        "    window = np.ones(int(window_size)) / float(window_size)\n",
        "    return np.convolve(interval, window, 'same')  "
      ],
      "metadata": {
        "id": "uro52jc69oCH"
      },
      "execution_count": 31,
      "outputs": []
    },
    {
      "cell_type": "code",
      "source": [
        "# Balanced Logs\n",
        "dqn_b_ma = moving_average(logs_dqn_balanced['episode_return'], 100)\n",
        "drqn_b_ma = moving_average(logs_drqn_balanced['episode_return'], 100)\n",
        "\n",
        "# dqn_b = list(logs_dqn_balanced['episode_return'])\n",
        "# drqn_b = list(logs_drqn_balanced['episode_return'])\n",
        "\n",
        "plt.plot(dqn_b_ma, color='blue')\n",
        "plt.plot(drqn_b_ma, color='yellow')\n",
        "\n",
        "# plt.plot(dqn_b, color='blue')\n",
        "# plt.plot(drqn_b, color='yellow')\n",
        "\n",
        "plt.ylabel(\"episode_reward\")\n",
        "plt.xlabel(\"episode (N_steps per episode = 32)\")\n",
        "plt.legend(['DQN','DRQN'])\n",
        "plt.title(\"Equal match and non-match\")"
      ],
      "metadata": {
        "id": "gLIG5S-K1tB-",
        "colab": {
          "base_uri": "https://localhost:8080/",
          "height": 319
        },
        "outputId": "05792fdf-3185-404b-d331-888113b27f60"
      },
      "execution_count": 32,
      "outputs": [
        {
          "output_type": "execute_result",
          "data": {
            "text/plain": [
              "Text(0.5, 1.0, 'Equal match and non-match')"
            ]
          },
          "metadata": {},
          "execution_count": 32
        },
        {
          "output_type": "display_data",
          "data": {
            "text/plain": [
              "<Figure size 432x288 with 1 Axes>"
            ],
            "image/png": "[encoded data removed]"
          },
          "metadata": {}
        }
      ]
    },
    {
      "cell_type": "code",
      "source": [
        "# Un-Balanced Logs\n",
        "dqn_u_ma = moving_average(logs_dqn_unbalanced['episode_return'], 100)\n",
        "drqn_u_ma = moving_average(logs_drqn_unbalanced['episode_return'], 100)\n",
        "\n",
        "# dqn_u = list(logs_dqn_unbalanced['episode_return'])\n",
        "# drqn_u = list(logs_drqn_unbalanced['episode_return'])\n",
        "\n",
        "plt.plot(dqn_u_ma, color='blue')\n",
        "plt.plot(drqn_u_ma, color='yellow')\n",
        "\n",
        "# plt.plot(dqn_u, color='blue')\n",
        "# plt.plot(drqn_u, color='yellow')\n",
        "\n",
        "plt.ylabel(\"episode_reward\")\n",
        "plt.xlabel(\"episode (N_steps per episode = 32)\")\n",
        "plt.legend(['DQN','DRQN'])\n",
        "plt.title(\"Unequal match and non-match\")"
      ],
      "metadata": {
        "id": "v1CkmCXg1uLI",
        "colab": {
          "base_uri": "https://localhost:8080/",
          "height": 319
        },
        "outputId": "ca791850-d716-4171-aa34-744fe9db533c"
      },
      "execution_count": 33,
      "outputs": [
        {
          "output_type": "execute_result",
          "data": {
            "text/plain": [
              "Text(0.5, 1.0, 'Unequal match and non-match')"
            ]
          },
          "metadata": {},
          "execution_count": 33
        },
        {
          "output_type": "display_data",
          "data": {
            "text/plain": [
              "<Figure size 432x288 with 1 Axes>"
            ],
            "image/png": "[encoded data removed]"
          },
          "metadata": {}
        }
      ]
    }
  ],
  "metadata": {
    "colab": {
      "collapsed_sections": [],
      "name": "Mohinga_Project_RL_One.ipynb",
      "provenance": []
    },
    "kernel": {
      "display_name": "Python 3",
      "language": "python",
      "name": "python3"
    },
    "kernelspec": {
      "display_name": "Python 3",
      "language": "python",
      "name": "python3"
    },
    "accelerator": "GPU",
    "gpuClass": "standard"
  },
  "nbformat": 4,
  "nbformat_minor": 0
}