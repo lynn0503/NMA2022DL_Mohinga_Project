{
  "cells": [
    {
      "cell_type": "markdown",
      "metadata": {
        "id": "view-in-github",
        "colab_type": "text"
      },
      "source": [
        "<a href=\"https://colab.research.google.com/github/lynn0503/NMA2022DL_Mohinga_Project/blob/main/human_rl_v2_lotofbugs.ipynb\" target=\"_parent\"><img src=\"https://colab.research.google.com/assets/colab-badge.svg\" alt=\"Open In Colab\"/></a>"
      ]
    },
    {
      "cell_type": "markdown",
      "metadata": {
        "execution": {},
        "id": "SllQYWzCHA-L"
      },
      "source": [
        "# Using RL to Model Cognitive Tasks\n",
        "\n",
        "**By Neurmatch Academy**\n",
        "\n",
        "__Content creators:__ Morteza Ansarinia, Yamil Vidal\n",
        "\n",
        "__Production editor:__ Spiros Chavlis\n"
      ]
    },
    {
      "cell_type": "markdown",
      "metadata": {
        "execution": {},
        "id": "84B_IMDlHA-T"
      },
      "source": [
        "<p align='center'><img src='https://github.com/NeuromatchAcademy/widgets/blob/master/sponsors.png?raw=True'/></p>"
      ]
    },
    {
      "cell_type": "markdown",
      "metadata": {
        "execution": {},
        "id": "DUcgD2CGHA-U"
      },
      "source": [
        "---\n",
        "# Objective\n",
        "\n",
        "- This project aims to use behavioral data to train an agent and then use the agent to investigate data produced by human subjects. Having a computational agent that mimics humans in such tests, we will be able to compare its mechanics with human data.\n",
        "\n",
        "- In another conception, we could fit an agent that learns many cognitive tasks that require abstract-level constructs such as executive functions. This is a multi-task control problem.\n",
        "\n",
        "\n"
      ]
    },
    {
      "cell_type": "markdown",
      "metadata": {
        "execution": {},
        "id": "dqlJguOgHA-W"
      },
      "source": [
        "---\n",
        "# Setup"
      ]
    },
    {
      "cell_type": "code",
      "execution_count": 4,
      "metadata": {
        "execution": {},
        "id": "ge0IRlo_HA-Y",
        "outputId": "ac570f4c-fd86-48a5-81bd-7929c53e8751",
        "colab": {
          "base_uri": "https://localhost:8080/"
        }
      },
      "outputs": [
        {
          "output_type": "stream",
          "name": "stdout",
          "text": [
            "\u001b[33mWARNING: dm-acme 0.4.0 does not provide the extra 'tensorflow'\u001b[0m\n"
          ]
        }
      ],
      "source": [
        "# @title Install dependencies\n",
        "# !pip install --upgrade pip setuptools wheel --quiet\n",
        "!pip install dm-acme[jax,tensorflow] --quiet\n",
        "!pip install dm-acme[envs] --quiet\n",
        "!pip install dm-sonnet --quiet\n",
        "!pip install trfl --quiet"
      ]
    },
    {
      "cell_type": "code",
      "execution_count": 5,
      "metadata": {
        "execution": {},
        "id": "lYr0Rp3oHA-e"
      },
      "outputs": [],
      "source": [
        "# Imports\n",
        "\n",
        "import time\n",
        "import numpy as np\n",
        "import pandas as pd\n",
        "import sonnet as snt\n",
        "import seaborn as sns\n",
        "import matplotlib.pyplot as plt\n",
        "\n",
        "import dm_env\n",
        "\n",
        "import acme\n",
        "from acme import specs\n",
        "from acme import wrappers\n",
        "from acme import EnvironmentLoop\n",
        "from acme.agents.tf import dqn\n",
        "from acme.utils import loggers\n",
        "from tqdm import tqdm "
      ]
    },
    {
      "cell_type": "code",
      "execution_count": 6,
      "metadata": {
        "cellView": "form",
        "execution": {},
        "id": "h6qra9eCHA-e"
      },
      "outputs": [],
      "source": [
        "# @title Figure settings\n",
        "from IPython.display import clear_output, display, HTML\n",
        "%matplotlib inline\n",
        "sns.set()"
      ]
    },
    {
      "cell_type": "markdown",
      "metadata": {
        "execution": {},
        "id": "amLHDeiXHA-f"
      },
      "source": [
        "---\n",
        "# Background\n",
        "\n",
        "- Cognitive scientists use standard lab tests to tap into specific processes in the brain and behavior. Some examples of those tests are Stroop, N-back, Digit Span, TMT (Trail making tests), and WCST (Wisconsin Card Sorting Tests).\n",
        "\n",
        "- Despite an extensive body of research that explains human performance using descriptive what-models, we still need a more sophisticated approach to gain a better understanding of the underlying processes (i.e., a how-model).\n",
        "\n",
        "- Interestingly, many of such tests can be thought of as a continuous stream of stimuli and corresponding actions, that is in consonant with the RL formulation. In fact, RL itself is in part motivated by how the brain enables goal-directed behaviors using reward systems, making it a good choice to explain human performance.\n",
        "\n",
        "- One behavioral test example would be the N-back task.\n",
        "\n",
        "  - In the N-back, participants view a sequence of stimuli, one by one, and are asked to categorize each stimulus as being either match or non-match. Stimuli are usually numbers, and feedback is given at both timestep and trajectory levels.\n",
        "\n",
        "  - The agent is rewarded when its response matches the stimulus that was shown N steps back in the episode. A simpler version of the N-back uses two-choice action schema, that is match vs non-match. Once the present stimulus matches the one presented N step back, then the agent is expected to respond to it as being a `match`.\n",
        "\n",
        "\n",
        "- Given a trained RL agent, we then find correlates of its fitted parameters with the brain mechanisms. The most straightforward composition could be the correlation of model parameters with the brain activities."
      ]
    },
    {
      "cell_type": "markdown",
      "metadata": {
        "execution": {},
        "id": "jSi9vuPjHA-g"
      },
      "source": [
        "## Datasets\n",
        "\n",
        "- HCP WM task ([NMA-CN HCP notebooks](https://github.com/NeuromatchAcademy/course-content/tree/master/projects/fMRI))\n",
        "\n",
        "Any dataset that used cognitive tests would work.\n",
        "Question: limit to behavioral data vs fMRI?\n",
        "Question: Which stimuli and actions to use?\n",
        "classic tests can be modeled using 1) bounded symbolic stimuli/actions (e.g., A, B, C), but more sophisticated one would require texts or images (e.g., face vs neutral images in social stroop dataset)\n",
        "The HCP dataset from NMA-CN contains behavioral and imaging data for 7 cognitive tests including various versions of N-back."
      ]
    },
    {
      "cell_type": "markdown",
      "metadata": {
        "execution": {},
        "id": "IKeEqNEZHA-h"
      },
      "source": [
        "## N-back task\n",
        "\n",
        "In the N-back task, participants view a sequence of stimuli, one per time, and are asked to categorize each stimulus as being either match or non-match. Stimuli are usually numbers, and feedbacks are given at both timestep and trajectory levels.\n",
        "\n",
        "In a typical neuro setup, both accuracy and response time are measured, but here, for the sake of brevity, we focus only on accuracy of responses."
      ]
    },
    {
      "cell_type": "markdown",
      "metadata": {
        "execution": {},
        "id": "CANdLa1CHA-i"
      },
      "source": [
        "---\n",
        "# Cognitive Tests Environment\n",
        "\n",
        "First we develop an environment in that agents perform a cognitive test, here the N-back."
      ]
    },
    {
      "cell_type": "markdown",
      "metadata": {
        "execution": {},
        "id": "ZJW-_yYdHA-j"
      },
      "source": [
        "## Human dataset\n",
        "\n",
        "We need a dataset of human perfoming a N-back test, with the following features:\n",
        "\n",
        "- `participant_id`: following the BIDS format, it contains a unique identifier for each participant.\n",
        "- `trial_index`: same as `time_step`.\n",
        "- `stimulus`: same as `observation`.\n",
        "- `response`: same as `action`, recorded response by the human subject.\n",
        "- `expected_response`: correct response.\n",
        "- `is_correct`: same as `reward`, whether the human subject responded correctly.\n",
        "- `response_time`: won't be used here.\n",
        "\n",
        "Here we generate a mock dataset with those features, but remember to **replace this with real human data.**"
      ]
    },
    {
      "cell_type": "markdown",
      "source": [
        "### generate mock data"
      ],
      "metadata": {
        "id": "3w1cnw25HBxT"
      }
    },
    {
      "cell_type": "code",
      "execution_count": 7,
      "metadata": {
        "execution": {},
        "id": "-LAaobwDHA-j"
      },
      "outputs": [],
      "source": [
        "def generate_mock_nback_dataset(N=2,\n",
        "                                n_participants=10,\n",
        "                                n_trials=32,\n",
        "                                stimulus_choices=list('ABCDEF'),\n",
        "                                response_choices=['match', 'non-match']):\n",
        "  \"\"\"Generate a mock dataset for the N-back task.\"\"\"\n",
        "\n",
        "  n_rows = n_participants * n_trials\n",
        "\n",
        "  participant_ids = sorted([f'sub-{pid}' for pid in range(1, n_participants + 1)] * n_trials)\n",
        "  trial_indices = list(range(1, n_trials + 1)) * n_participants\n",
        "#   stimulus_sequence = np.random.choice(stimulus_choices, n_rows)\n",
        "\n",
        "  # change stimuluse_sequence to control match and non-match number\n",
        "  stimulus_sequence=np.ones(n_rows)\n",
        "  # match prob will be slightly higher than non-match prob\n",
        "  for i in range(n_rows):\n",
        "    if i<N:\n",
        "        stimulus_sequence[i]=np.random.choice(len(stimulus_choices))\n",
        "    else:\n",
        "        rand=np.random.random()\n",
        "        if rand < 0.4:\n",
        "            stimulus_sequence[i]=stimulus_sequence[i-N]\n",
        "        else:\n",
        "            stimulus_sequence[i]=np.random.choice(len(stimulus_choices))\n",
        "\n",
        "\n",
        "  responses = np.random.choice(response_choices, n_rows)\n",
        "  response_times = np.random.exponential(size=n_rows)\n",
        "\n",
        "  df = pd.DataFrame({\n",
        "      'participant_id': participant_ids,\n",
        "      'trial_index': trial_indices,\n",
        "      'stimulus': stimulus_sequence,\n",
        "      'response': responses,\n",
        "      'response_time': response_times\n",
        "  })\n",
        "\n",
        "  # mark matchig stimuli\n",
        "  _nback_stim = df['stimulus'].shift(N)\n",
        "  df['expected_response'] = (df['stimulus'] == _nback_stim).map({True: 'match', False: 'non-match'})\n",
        "\n",
        "  df['is_correct'] = (df['response'] == df['expected_response'])\n",
        "\n",
        "  # we don't care about burn-in trials (trial < N)\n",
        "  df.loc[df['trial_index'] <= N, 'is_correct'] = True\n",
        "  df.loc[df['trial_index'] <= N, ['response', 'response_time', 'expected_response']] = None\n",
        "\n",
        "  return df\n",
        "\n"
      ]
    },
    {
      "cell_type": "markdown",
      "source": [
        "### Analyze mock data"
      ],
      "metadata": {
        "id": "9OUzQxO1G7L7"
      }
    },
    {
      "cell_type": "code",
      "source": [
        "\n",
        "# ========\n",
        "# now generate the actual data with the provided function and plot some of its features\n",
        "N=2\n",
        "episode_steps=100\n",
        "mock_nback_data1 = generate_mock_nback_dataset()\n",
        "mock_nback_data1['is_correct'] = mock_nback_data1['is_correct'].astype(int)\n",
        "\n",
        "\n",
        "# sns.displot(data=mock_nback_data, x='response_time')\n",
        "# plt.suptitle('response time distribution of the mock N-back dataset', y=1.01)\n",
        "# plt.show()\n",
        "\n",
        "# sns.displot(data=mock_nback_data, x='is_correct')\n",
        "# plt.suptitle('Accuracy distribution of the mock N-back dataset', y=1.06)\n",
        "# plt.show()\n",
        "\n",
        "# sns.barplot(data=mock_nback_data, y='is_correct', x='participant_id')\n",
        "# plt.suptitle('Accuracy distribution of the mock N-back dataset', y=1.06)\n",
        "# plt.show()\n",
        "\n",
        "mock_nback_data1.head()\n",
        "\n",
        "sns.displot(data=mock_nback_data1, x='expected_response')\n",
        "plt.suptitle('correct-action distribution of the mock N-back dataset', y=1.06)\n",
        "plt.show()\n"
      ],
      "metadata": {
        "colab": {
          "base_uri": "https://localhost:8080/",
          "height": 400
        },
        "id": "LxkfEVNHF2Jv",
        "outputId": "9d57e598-e35d-4d89-9a2d-813264748a9c"
      },
      "execution_count": 8,
      "outputs": [
        {
          "output_type": "display_data",
          "data": {
            "text/plain": [
              "<Figure size 360x360 with 1 Axes>"
            ],
            "image/png": "[encoded data removed]"
          },
          "metadata": {}
        }
      ]
    },
    {
      "cell_type": "markdown",
      "metadata": {
        "execution": {},
        "id": "dG-N0OPuHA-k"
      },
      "source": [
        "## Implementation scheme\n"
      ]
    },
    {
      "cell_type": "markdown",
      "metadata": {
        "execution": {},
        "id": "G-po6h3IHA-k"
      },
      "source": [
        "### Environment\n",
        "\n",
        "The following cell implments N-back envinronment, that we later use to train a RL agent on human data. It is capable of performing two kinds of simulation:\n",
        "- rewards the agent once the action was correct (i.e., a normative model of the environment).\n",
        "- receives human data (or mock data if you prefer), and returns what participants performed as the observation. This is more useful for preference-based RL."
      ]
    },
    {
      "cell_type": "code",
      "execution_count": 31,
      "metadata": {
        "execution": {},
        "id": "0bW8nFsQHA-k"
      },
      "outputs": [],
      "source": [
        "class NBack(dm_env.Environment):\n",
        "\n",
        "  ACTIONS = ['match', 'non-match']\n",
        "\n",
        "  def __init__(self,\n",
        "               N=2,\n",
        "               episode_steps=32,\n",
        "               stimuli_choices=list('ABCDEF'),\n",
        "               human_data=None,\n",
        "               seed=1,\n",
        "               ):\n",
        "    \"\"\"\n",
        "    Args:\n",
        "      N: Number of steps to look back for the matched stimuli. Defaults to 2 (as in 2-back).\n",
        "      episode_steps\n",
        "      stimuli_choices\n",
        "      human_data\n",
        "      seed\n",
        "\n",
        "    \"\"\"\n",
        "    self.N = N\n",
        "    self.episode_steps = episode_steps\n",
        "    self.stimuli_choices = stimuli_choices\n",
        "    self.stimuli = np.empty(shape=episode_steps)  # will be filled in the `reset()`\n",
        "\n",
        "    self._reset_next_step = True\n",
        "\n",
        "    # whether mimic humans or reward the agent once it responds optimally.\n",
        "    if human_data is None:\n",
        "      self._imitate_human = False\n",
        "      self.human_data = None\n",
        "      self.human_subject_data = None\n",
        "    else:\n",
        "      self._imitate_human = True\n",
        "      self.human_data = human_data\n",
        "      self.human_subject_data = None\n",
        "\n",
        "    self._action_history = []\n",
        "\n",
        "  def reset(self):\n",
        "    self._reset_next_step = False\n",
        "    self._current_step = 0\n",
        "    self._action_history.clear()\n",
        "\n",
        "    # generate a random sequence instead of relying on human data\n",
        "    if self.human_data is None:\n",
        "      # self.stimuli = np.random.choice(self.stimuli_choices, self.episode_steps)\n",
        "      # FIXME This is a fix for acme & reverb issue with string observation. Agent should be able to handle strings\n",
        "      self.stimuli = np.random.choice(len(self.stimuli_choices), self.episode_steps).astype(np.float32)\n",
        "    #   self.stimuli = np.empty(episode_steps)\n",
        "    #   # match prob will be slightly higher than non-match prob\n",
        "    #   for i in range(episode_steps):\n",
        "    #     if i<N:\n",
        "    #         self.stimuli[i]=np.random.choice(len(self.stimuli_choices))\n",
        "    #     else:\n",
        "    #         rand=np.random.random()\n",
        "    #         if rand < 0.4:\n",
        "    #             self.stimuli[i]=self.stimuli[i-N]\n",
        "    #         else:\n",
        "    #             self.stimuli[i]=np.random.choice(len(self.stimuli_choices))\n",
        "    #   print(self.stimuli)\n",
        "    else:\n",
        "      # randomly choose a subject from the human data and follow her trials and responses.\n",
        "      # FIXME should we always use one specific human subject or randomly select one in each episode?\n",
        "      self.human_subject_data = self.human_data.query('participant_id == participant_id.sample().iloc[0]',\n",
        "                                                engine='python').sort_values('trial_index')\n",
        "      self.stimuli = self.human_subject_data['stimulus'].to_list()\n",
        "      self.stimuli = np.array([ord(s) - ord('A') + 1 for s in self.stimuli]).astype(np.float32)\n",
        "\n",
        "    return dm_env.restart(self._observation())\n",
        "\n",
        "\n",
        "  def _episode_return(self):\n",
        "    if self._imitate_human:\n",
        "      return np.mean(self.human_subject_data['response'] == self._action_history)\n",
        "    else:\n",
        "      return 0.0\n",
        "    \n",
        "\n",
        "  def step(self, action: int):\n",
        "    if self._reset_next_step:\n",
        "      return self.reset()\n",
        "\n",
        "    agent_action = NBack.ACTIONS[action]\n",
        "\n",
        "    if self._imitate_human:\n",
        "      # if it was the same action as the human subject, then reward the agent\n",
        "      human_action = self.human_subject_data['response'].iloc[self._current_step]\n",
        "      step_reward = 0. if (agent_action == human_action) else -1.\n",
        "    else:\n",
        "      # assume the agent is rationale and doesn't want to reproduce human, reward once the response it correct\n",
        "      expected_action = 'match' if (self.stimuli[self._current_step] == self.stimuli[self._current_step - self.N]) else 'non-match'\n",
        "      step_reward = 0. if (agent_action == expected_action) else -1.\n",
        "\n",
        "    self._action_history.append(agent_action)\n",
        "\n",
        "    self._current_step += 1\n",
        "\n",
        "    # Check for termination.\n",
        "    if self._current_step == self.stimuli.shape[0]:\n",
        "      self._reset_next_step = True\n",
        "      # we are using the mean of total time step rewards as the episode return\n",
        "      return dm_env.termination(reward=self._episode_return(),\n",
        "                                observation=self._observation())\n",
        "    else:\n",
        "      return dm_env.transition(reward=step_reward,\n",
        "                               observation=self._observation())\n",
        "\n",
        "  def observation_spec(self):\n",
        "    return dm_env.specs.BoundedArray(\n",
        "        shape=self.stimuli.shape,\n",
        "        dtype=self.stimuli.dtype,\n",
        "        name='nback_stimuli', minimum=0, maximum=len(self.stimuli_choices) + 1)\n",
        "\n",
        "  def action_spec(self):\n",
        "    return dm_env.specs.DiscreteArray(\n",
        "        num_values=len(NBack.ACTIONS),\n",
        "        dtype=np.int32,\n",
        "        name='action')\n",
        "\n",
        "  def _observation(self):\n",
        "\n",
        "    # agent observes only the current trial\n",
        "    # obs = self.stimuli[self._current_step - 1]\n",
        "\n",
        "    # agents observe stimuli up to the current trial\n",
        "    obs = self.stimuli[:self._current_step+1].copy()\n",
        "    obs = np.pad(obs,(0, len(self.stimuli) - len(obs)))\n",
        "\n",
        "    return obs\n",
        "\n",
        "  def plot_state(self):\n",
        "    \"\"\"Display current state of the environment.\n",
        "\n",
        "     Note: `M` mean `match`, and `.` is a `non-match`.\n",
        "    \"\"\"\n",
        "    stimuli = self.stimuli[:self._current_step - 1]\n",
        "    actions = ['M' if a=='match' else '.' for a in self._action_history[:self._current_step - 1]]\n",
        "    actions_binary = [1 if a=='M' else 0 for a in actions] \n",
        "    expected_actions = stimuli[:-self.N]==stimuli[self.N:]\n",
        "    rewards = [1 if a==e else 0   for a in actions for e in expected_actions]\n",
        "    return HTML(\n",
        "        f'<b>Environment ({self.N}-back):</b><br />'\n",
        "        f'<pre><b>Stimuli:</b> {\"\".join(map(str,map(int,stimuli)))}</pre>'\n",
        "        f'<pre><b>Actions:</b> {\"\".join(actions)}</pre>'\n",
        "        \n",
        "\n",
        "    )\n",
        "    # f'<pre><b>Rewards:</b> {\"\".join(map(str,reward)}</pre>'\n",
        "    # print(self.N,'back')\n",
        "    # print('stimuli: ',stimuli)\n",
        "    # print('actions: ',actions)\n",
        "    # print('answers: ',expected_actions)\n",
        "    # print('rewards: ',rewards)\n",
        "\n",
        "\n",
        "  @staticmethod\n",
        "  def create_environment(N,episode_steps):\n",
        "    \"\"\"Utility function to create a N-back environment and its spec.\"\"\"\n",
        "\n",
        "    # Make sure the environment outputs single-precision floats.\n",
        "    environment = wrappers.SinglePrecisionWrapper(NBack(N,episode_steps))\n",
        "\n",
        "    # Grab the spec of the environment.\n",
        "    environment_spec = specs.make_environment_spec(environment)\n",
        "\n",
        "    return environment, environment_spec"
      ]
    },
    {
      "cell_type": "markdown",
      "metadata": {
        "execution": {},
        "id": "pFm0KrNPHA-l"
      },
      "source": [
        "### Define a random agent\n",
        "\n",
        "For more information you can refer to NMA-DL W3D2 Basic Reinforcement learning."
      ]
    },
    {
      "cell_type": "code",
      "execution_count": 11,
      "metadata": {
        "execution": {},
        "id": "FmQl3jeeHA-l"
      },
      "outputs": [],
      "source": [
        "class RandomAgent(acme.Actor):\n",
        "\n",
        "  def __init__(self, environment_spec):\n",
        "    \"\"\"Gets the number of available actions from the environment spec.\"\"\"\n",
        "    self._num_actions = environment_spec.actions.num_values\n",
        "\n",
        "  def select_action(self, observation):\n",
        "    \"\"\"Selects an action uniformly at random.\"\"\"\n",
        "    action = np.random.randint(self._num_actions)\n",
        "    return action\n",
        "\n",
        "  def observe_first(self, timestep):\n",
        "    \"\"\"Does not record as the RandomAgent has no use for data.\"\"\"\n",
        "    pass\n",
        "\n",
        "  def observe(self, action, next_timestep):\n",
        "    \"\"\"Does not record as the RandomAgent has no use for data.\"\"\"\n",
        "    pass\n",
        "\n",
        "  def update(self):\n",
        "    \"\"\"Does not update as the RandomAgent does not learn from data.\"\"\"\n",
        "    pass"
      ]
    },
    {
      "cell_type": "markdown",
      "source": [
        "### Define DQN"
      ],
      "metadata": {
        "id": "u5GW44FzN1LB"
      }
    },
    {
      "cell_type": "code",
      "source": [
        "def dqn_make_network(action_spec: specs.DiscreteArray) -> snt.Module:\n",
        "  return snt.Sequential([\n",
        "      snt.Flatten(),\n",
        "      snt.nets.MLP([50, 50, 50, 50, action_spec.num_values]),\n",
        "  ])\n"
      ],
      "metadata": {
        "id": "CksSLmV8uUZc"
      },
      "execution_count": 19,
      "outputs": []
    },
    {
      "cell_type": "markdown",
      "source": [
        "### Define DRQN"
      ],
      "metadata": {
        "id": "kd2YnP4yO3vZ"
      }
    },
    {
      "cell_type": "code",
      "source": [
        "# add recurrent layer to dqn\n",
        "# r2d2 receive sequence data\n",
        "from acme.agents.tf import r2d2\n",
        "def r2d2_make_network(action_spec: specs.DiscreteArray) -> snt.Module:\n",
        "  return snt.DeepRNN([\n",
        "            snt.Flatten(),\n",
        "            snt.LSTM(2),\n",
        "            snt.nets.MLP([50, 50, action_spec.num_values])\n",
        "            ])\n"
      ],
      "metadata": {
        "id": "GucpcNWauYrx"
      },
      "execution_count": 13,
      "outputs": []
    },
    {
      "cell_type": "markdown",
      "source": [
        "## Plot function"
      ],
      "metadata": {
        "id": "wBSMenJ5hpVF"
      }
    },
    {
      "cell_type": "code",
      "source": [
        "# plot moving average\n",
        "def moving_average(interval, window_size):\n",
        "    window = np.ones(int(window_size)) / float(window_size)\n",
        "    return np.convolve(interval, window, 'same')\n",
        "\n",
        "# plot reward by episode\n",
        "def plot_reward_by_episode(logs_dict):\n",
        "    for key, val in logs_dict.items():\n",
        "        logs=logs_dict[key]\n",
        "        reward_ma=moving_average(logs['episode_return'],10)\n",
        "        plt.plot(reward_ma)\n",
        "\n",
        "    plt.ylabel(\"episode reward\")\n",
        "    plt.xlabel(\"episode\")\n",
        "    plt.legend(['RANDOM','DQN','DRQN'])\n",
        "    plt.title(\"total reward within episode\")\n"
      ],
      "metadata": {
        "id": "Zjy8fcedvZSd"
      },
      "execution_count": 14,
      "outputs": []
    },
    {
      "cell_type": "code",
      "source": [
        "# test plot function \n",
        "# N = 2\n",
        "# n_episodes = 1000\n",
        "# episode_steps= 32\n",
        "plot_reward_by_episode(logs_dict)"
      ],
      "metadata": {
        "colab": {
          "base_uri": "https://localhost:8080/",
          "height": 301
        },
        "id": "ari38aBF26C0",
        "outputId": "2b5056c0-5412-47fb-8a60-a094718c1984"
      },
      "execution_count": null,
      "outputs": [
        {
          "output_type": "display_data",
          "data": {
            "text/plain": [
              "<Figure size 432x288 with 1 Axes>"
            ],
            "image/png": "[encoded data removed]"
          },
          "metadata": {}
        }
      ]
    },
    {
      "cell_type": "markdown",
      "metadata": {
        "execution": {},
        "id": "xz3x4BLhHA-n"
      },
      "source": [
        "## Test agents"
      ]
    },
    {
      "cell_type": "markdown",
      "source": [
        "### Parameters"
      ],
      "metadata": {
        "id": "2STbPQfOd2Ml"
      }
    },
    {
      "cell_type": "code",
      "source": [
        "# fitting parameters\n",
        "N=2\n",
        "n_episodes = 1000\n",
        "episode_steps= 100\n",
        "n_total_steps = 0\n",
        "log_loss = False\n",
        "n_steps = n_episodes * episode_steps\n"
      ],
      "metadata": {
        "id": "nOrWWtRMdz0J"
      },
      "execution_count": null,
      "outputs": []
    },
    {
      "cell_type": "markdown",
      "source": [
        "### Environment"
      ],
      "metadata": {
        "id": "JrbKkZmdd5EG"
      }
    },
    {
      "cell_type": "code",
      "execution_count": null,
      "metadata": {
        "execution": {},
        "id": "OLnRt42yHA-r",
        "outputId": "f56d06d2-0cbe-410e-c9d1-c5f68cb8d81e",
        "colab": {
          "base_uri": "https://localhost:8080/"
        }
      },
      "outputs": [
        {
          "output_type": "stream",
          "name": "stdout",
          "text": [
            "actions:\n",
            " DiscreteArray(shape=(), dtype=int32, name=action, minimum=0, maximum=1, num_values=2)\n",
            "observations:\n",
            " BoundedArray(shape=(32,), dtype=dtype('float32'), name='nback_stimuli', minimum=0.0, maximum=7.0)\n",
            "rewards:\n",
            " Array(shape=(), dtype=dtype('float32'), name='reward')\n"
          ]
        }
      ],
      "source": [
        "env, env_spec = NBack.create_environment(N=2,episode_steps=32)\n",
        "agent = RandomAgent(env_spec)\n",
        "\n",
        "print('actions:\\n', env_spec.actions)\n",
        "print('observations:\\n', env_spec.observations)\n",
        "print('rewards:\\n', env_spec.rewards)"
      ]
    },
    {
      "cell_type": "markdown",
      "source": [
        "### test Random Agent"
      ],
      "metadata": {
        "id": "doart4swZ5yX"
      }
    },
    {
      "cell_type": "code",
      "execution_count": 126,
      "metadata": {
        "execution": {},
        "id": "qI6T1LwqHA-v",
        "colab": {
          "base_uri": "https://localhost:8080/",
          "height": 395
        },
        "outputId": "350f0e96-f938-4364-d2b8-523d54b15289"
      },
      "outputs": [
        {
          "output_type": "error",
          "ename": "ValueError",
          "evalue": "ignored",
          "traceback": [
            "\u001b[0;31m---------------------------------------------------------------------------\u001b[0m",
            "\u001b[0;31mValueError\u001b[0m                                Traceback (most recent call last)",
            "\u001b[0;32m<ipython-input-126-a8b84f9d43f7>\u001b[0m in \u001b[0;36m<module>\u001b[0;34m()\u001b[0m\n\u001b[1;32m     11\u001b[0m \u001b[0;34m\u001b[0m\u001b[0m\n\u001b[1;32m     12\u001b[0m   \u001b[0;31m# Make the first observation.\u001b[0m\u001b[0;34m\u001b[0m\u001b[0;34m\u001b[0m\u001b[0;34m\u001b[0m\u001b[0m\n\u001b[0;32m---> 13\u001b[0;31m   \u001b[0magent\u001b[0m\u001b[0;34m.\u001b[0m\u001b[0mobserve_first\u001b[0m\u001b[0;34m(\u001b[0m\u001b[0mtimestep\u001b[0m\u001b[0;34m)\u001b[0m\u001b[0;34m\u001b[0m\u001b[0;34m\u001b[0m\u001b[0m\n\u001b[0m\u001b[1;32m     14\u001b[0m \u001b[0;34m\u001b[0m\u001b[0m\n\u001b[1;32m     15\u001b[0m   \u001b[0;31m# Run an episode\u001b[0m\u001b[0;34m\u001b[0m\u001b[0;34m\u001b[0m\u001b[0;34m\u001b[0m\u001b[0m\n",
            "\u001b[0;32m/usr/local/lib/python3.7/dist-packages/acme/agents/agent.py\u001b[0m in \u001b[0;36mobserve_first\u001b[0;34m(self, timestep)\u001b[0m\n\u001b[1;32m     71\u001b[0m \u001b[0;34m\u001b[0m\u001b[0m\n\u001b[1;32m     72\u001b[0m   \u001b[0;32mdef\u001b[0m \u001b[0mobserve_first\u001b[0m\u001b[0;34m(\u001b[0m\u001b[0mself\u001b[0m\u001b[0;34m,\u001b[0m \u001b[0mtimestep\u001b[0m\u001b[0;34m:\u001b[0m \u001b[0mdm_env\u001b[0m\u001b[0;34m.\u001b[0m\u001b[0mTimeStep\u001b[0m\u001b[0;34m)\u001b[0m\u001b[0;34m:\u001b[0m\u001b[0;34m\u001b[0m\u001b[0;34m\u001b[0m\u001b[0m\n\u001b[0;32m---> 73\u001b[0;31m     \u001b[0mself\u001b[0m\u001b[0;34m.\u001b[0m\u001b[0m_actor\u001b[0m\u001b[0;34m.\u001b[0m\u001b[0mobserve_first\u001b[0m\u001b[0;34m(\u001b[0m\u001b[0mtimestep\u001b[0m\u001b[0;34m)\u001b[0m\u001b[0;34m\u001b[0m\u001b[0;34m\u001b[0m\u001b[0m\n\u001b[0m\u001b[1;32m     74\u001b[0m \u001b[0;34m\u001b[0m\u001b[0m\n\u001b[1;32m     75\u001b[0m   \u001b[0;32mdef\u001b[0m \u001b[0mobserve\u001b[0m\u001b[0;34m(\u001b[0m\u001b[0mself\u001b[0m\u001b[0;34m,\u001b[0m \u001b[0maction\u001b[0m\u001b[0;34m:\u001b[0m \u001b[0mtypes\u001b[0m\u001b[0;34m.\u001b[0m\u001b[0mNestedArray\u001b[0m\u001b[0;34m,\u001b[0m \u001b[0mnext_timestep\u001b[0m\u001b[0;34m:\u001b[0m \u001b[0mdm_env\u001b[0m\u001b[0;34m.\u001b[0m\u001b[0mTimeStep\u001b[0m\u001b[0;34m)\u001b[0m\u001b[0;34m:\u001b[0m\u001b[0;34m\u001b[0m\u001b[0;34m\u001b[0m\u001b[0m\n",
            "\u001b[0;32m/usr/local/lib/python3.7/dist-packages/acme/agents/tf/actors.py\u001b[0m in \u001b[0;36mobserve_first\u001b[0;34m(self, timestep)\u001b[0m\n\u001b[1;32m    164\u001b[0m   \u001b[0;32mdef\u001b[0m \u001b[0mobserve_first\u001b[0m\u001b[0;34m(\u001b[0m\u001b[0mself\u001b[0m\u001b[0;34m,\u001b[0m \u001b[0mtimestep\u001b[0m\u001b[0;34m:\u001b[0m \u001b[0mdm_env\u001b[0m\u001b[0;34m.\u001b[0m\u001b[0mTimeStep\u001b[0m\u001b[0;34m)\u001b[0m\u001b[0;34m:\u001b[0m\u001b[0;34m\u001b[0m\u001b[0;34m\u001b[0m\u001b[0m\n\u001b[1;32m    165\u001b[0m     \u001b[0;32mif\u001b[0m \u001b[0mself\u001b[0m\u001b[0;34m.\u001b[0m\u001b[0m_adder\u001b[0m\u001b[0;34m:\u001b[0m\u001b[0;34m\u001b[0m\u001b[0;34m\u001b[0m\u001b[0m\n\u001b[0;32m--> 166\u001b[0;31m       \u001b[0mself\u001b[0m\u001b[0;34m.\u001b[0m\u001b[0m_adder\u001b[0m\u001b[0;34m.\u001b[0m\u001b[0madd_first\u001b[0m\u001b[0;34m(\u001b[0m\u001b[0mtimestep\u001b[0m\u001b[0;34m)\u001b[0m\u001b[0;34m\u001b[0m\u001b[0;34m\u001b[0m\u001b[0m\n\u001b[0m\u001b[1;32m    167\u001b[0m \u001b[0;34m\u001b[0m\u001b[0m\n\u001b[1;32m    168\u001b[0m     \u001b[0;31m# Set the state to None so that we re-initialize at the next policy call.\u001b[0m\u001b[0;34m\u001b[0m\u001b[0;34m\u001b[0m\u001b[0;34m\u001b[0m\u001b[0m\n",
            "\u001b[0;32m/usr/local/lib/python3.7/dist-packages/acme/adders/reverb/base.py\u001b[0m in \u001b[0;36madd_first\u001b[0;34m(self, timestep)\u001b[0m\n\u001b[1;32m    174\u001b[0m     self._writer.append(dict(observation=timestep.observation,\n\u001b[1;32m    175\u001b[0m                              start_of_episode=timestep.first()),\n\u001b[0;32m--> 176\u001b[0;31m                         partial_step=True)\n\u001b[0m\u001b[1;32m    177\u001b[0m     \u001b[0mself\u001b[0m\u001b[0;34m.\u001b[0m\u001b[0m_add_first_called\u001b[0m \u001b[0;34m=\u001b[0m \u001b[0;32mTrue\u001b[0m\u001b[0;34m\u001b[0m\u001b[0;34m\u001b[0m\u001b[0m\n\u001b[1;32m    178\u001b[0m \u001b[0;34m\u001b[0m\u001b[0m\n",
            "\u001b[0;32m/usr/local/lib/python3.7/dist-packages/reverb/trajectory_writer.py\u001b[0m in \u001b[0;36mappend\u001b[0;34m(self, data, partial_step)\u001b[0m\n\u001b[1;32m    291\u001b[0m     \u001b[0;31m# Flatten the data and pass it to the C++ writer for column wise append.\u001b[0m\u001b[0;34m\u001b[0m\u001b[0;34m\u001b[0m\u001b[0;34m\u001b[0m\u001b[0m\n\u001b[1;32m    292\u001b[0m     \u001b[0;32mif\u001b[0m \u001b[0mpartial_step\u001b[0m\u001b[0;34m:\u001b[0m\u001b[0;34m\u001b[0m\u001b[0;34m\u001b[0m\u001b[0m\n\u001b[0;32m--> 293\u001b[0;31m       \u001b[0mflat_column_data_references\u001b[0m \u001b[0;34m=\u001b[0m \u001b[0mself\u001b[0m\u001b[0;34m.\u001b[0m\u001b[0m_writer\u001b[0m\u001b[0;34m.\u001b[0m\u001b[0mAppendPartial\u001b[0m\u001b[0;34m(\u001b[0m\u001b[0mflat_column_data\u001b[0m\u001b[0;34m)\u001b[0m\u001b[0;34m\u001b[0m\u001b[0;34m\u001b[0m\u001b[0m\n\u001b[0m\u001b[1;32m    294\u001b[0m     \u001b[0;32melse\u001b[0m\u001b[0;34m:\u001b[0m\u001b[0;34m\u001b[0m\u001b[0;34m\u001b[0m\u001b[0m\n\u001b[1;32m    295\u001b[0m       \u001b[0mflat_column_data_references\u001b[0m \u001b[0;34m=\u001b[0m \u001b[0mself\u001b[0m\u001b[0;34m.\u001b[0m\u001b[0m_writer\u001b[0m\u001b[0;34m.\u001b[0m\u001b[0mAppend\u001b[0m\u001b[0;34m(\u001b[0m\u001b[0mflat_column_data\u001b[0m\u001b[0;34m)\u001b[0m\u001b[0;34m\u001b[0m\u001b[0;34m\u001b[0m\u001b[0m\n",
            "\u001b[0;31mValueError\u001b[0m: Tensor of incompatible shape provided for column 0. Got [0] which is incompatible with [100]."
          ]
        }
      ],
      "source": [
        "# all_returns = []\n",
        "# # main loop\n",
        "# for episode in range(n_episodes):\n",
        "#   episode_steps = 0\n",
        "#   episode_return = 0\n",
        "#   episode_loss = 0\n",
        "\n",
        "#   start_time = time.time()\n",
        "\n",
        "#   timestep = env.reset()\n",
        "\n",
        "#   # Make the first observation.\n",
        "#   agent.observe_first(timestep)\n",
        "\n",
        "#   # Run an episode\n",
        "#   while not timestep.last():\n",
        "\n",
        "#     # DEBUG\n",
        "#     # print(timestep)\n",
        "\n",
        "#     # Generate an action from the agent's policy and step the environment.\n",
        "#     action = agent.select_action(timestep.observation)\n",
        "#     timestep = env.step(action)\n",
        "\n",
        "#     # Have the agent observe the timestep and let the agent update itself.\n",
        "#     agent.observe(action, next_timestep=timestep)\n",
        "#     agent.update()\n",
        "\n",
        "#     # Book-keeping.\n",
        "#     episode_steps += 1\n",
        "#     n_total_steps += 1\n",
        "#     episode_return += timestep.reward\n",
        "\n",
        "#     if log_loss:\n",
        "#       episode_loss += agent.last_loss\n",
        "\n",
        "#     if n_steps is not None and n_total_steps >= n_steps:\n",
        "#       break\n",
        "\n",
        "#   # Collect the results and combine with counts.\n",
        "#   steps_per_second = episode_steps / (time.time() - start_time)\n",
        "#   result = {\n",
        "#       'episode': episode,\n",
        "#       'episode_length': episode_steps,\n",
        "#       'episode_return': episode_return,\n",
        "#   }\n",
        "#   if log_loss:\n",
        "#     result['loss_avg'] = episode_loss/episode_steps\n",
        "\n",
        "#   all_returns.append(episode_return)\n",
        "\n",
        "#   display(env.plot_state())\n",
        "#   # Log the given results.\n",
        "#   print(result)\n",
        "\n",
        "#   if n_steps is not None and n_total_steps >= n_steps:\n",
        "#     break\n",
        "\n",
        "# clear_output()\n",
        "\n",
        "# # Histogram of all returns\n",
        "# plt.figure()\n",
        "# sns.histplot(all_returns, stat=\"density\", kde=True, bins=12)\n",
        "# plt.xlabel('Return [a.u.]')\n",
        "# plt.ylabel('Density')\n",
        "# plt.show()"
      ]
    },
    {
      "cell_type": "markdown",
      "metadata": {
        "execution": {},
        "id": "ZwxHabM5HA-x"
      },
      "source": [
        "**Note:** You can simplify the environment loop using [DeepMind Acme](https://github.com/deepmind/acme)."
      ]
    },
    {
      "cell_type": "markdown",
      "source": [
        "### test DQN"
      ],
      "metadata": {
        "id": "-OF2iOiUOL35"
      }
    },
    {
      "cell_type": "code",
      "execution_count": 20,
      "metadata": {
        "execution": {},
        "id": "y_S1FJvRHA-y"
      },
      "outputs": [],
      "source": [
        "# # test dqn\n",
        "# # construct a DQN agent\n",
        "agent = dqn.DQN(\n",
        "    environment_spec=env_spec,\n",
        "    network=dqn_make_network(env_spec.actions),\n",
        "    epsilon=[0.1],\n",
        "    logger=loggers.InMemoryLogger(),\n",
        "    checkpoint=False,\n",
        ")"
      ]
    },
    {
      "cell_type": "markdown",
      "metadata": {
        "execution": {},
        "id": "9TTVcl5fHA-z"
      },
      "source": [
        "Now, we run the environment loop with the DQN agent and print the training log."
      ]
    },
    {
      "cell_type": "code",
      "execution_count": null,
      "metadata": {
        "execution": {},
        "id": "6a5rvXerHA-z",
        "colab": {
          "base_uri": "https://localhost:8080/",
          "height": 206
        },
        "outputId": "07d8b5e6-8edd-444c-ecca-80f53054eeb4"
      },
      "outputs": [
        {
          "output_type": "execute_result",
          "data": {
            "text/plain": [
              "     episode_length episode_return  steps_per_second  episodes  steps\n",
              "995              32           -5.0        321.527336       996  31872\n",
              "996              32           -6.0        340.099097       997  31904\n",
              "997              32           -4.0        359.265739       998  31936\n",
              "998              32           -4.0        359.887082       999  31968\n",
              "999              32           -5.0        360.187444      1000  32000"
            ],
            "text/html": [
              "\n",
              "  <div id=\"df-21166779-61fd-4375-b777-add642819525\">\n",
              "    <div class=\"colab-df-container\">\n",
              "      <div>\n",
              "<style scoped>\n",
              "    .dataframe tbody tr th:only-of-type {\n",
              "        vertical-align: middle;\n",
              "    }\n",
              "\n",
              "    .dataframe tbody tr th {\n",
              "        vertical-align: top;\n",
              "    }\n",
              "\n",
              "    .dataframe thead th {\n",
              "        text-align: right;\n",
              "    }\n",
              "</style>\n",
              "<table border=\"1\" class=\"dataframe\">\n",
              "  <thead>\n",
              "    <tr style=\"text-align: right;\">\n",
              "      <th></th>\n",
              "      <th>episode_length</th>\n",
              "      <th>episode_return</th>\n",
              "      <th>steps_per_second</th>\n",
              "      <th>episodes</th>\n",
              "      <th>steps</th>\n",
              "    </tr>\n",
              "  </thead>\n",
              "  <tbody>\n",
              "    <tr>\n",
              "      <th>995</th>\n",
              "      <td>32</td>\n",
              "      <td>-5.0</td>\n",
              "      <td>321.527336</td>\n",
              "      <td>996</td>\n",
              "      <td>31872</td>\n",
              "    </tr>\n",
              "    <tr>\n",
              "      <th>996</th>\n",
              "      <td>32</td>\n",
              "      <td>-6.0</td>\n",
              "      <td>340.099097</td>\n",
              "      <td>997</td>\n",
              "      <td>31904</td>\n",
              "    </tr>\n",
              "    <tr>\n",
              "      <th>997</th>\n",
              "      <td>32</td>\n",
              "      <td>-4.0</td>\n",
              "      <td>359.265739</td>\n",
              "      <td>998</td>\n",
              "      <td>31936</td>\n",
              "    </tr>\n",
              "    <tr>\n",
              "      <th>998</th>\n",
              "      <td>32</td>\n",
              "      <td>-4.0</td>\n",
              "      <td>359.887082</td>\n",
              "      <td>999</td>\n",
              "      <td>31968</td>\n",
              "    </tr>\n",
              "    <tr>\n",
              "      <th>999</th>\n",
              "      <td>32</td>\n",
              "      <td>-5.0</td>\n",
              "      <td>360.187444</td>\n",
              "      <td>1000</td>\n",
              "      <td>32000</td>\n",
              "    </tr>\n",
              "  </tbody>\n",
              "</table>\n",
              "</div>\n",
              "      <button class=\"colab-df-convert\" onclick=\"convertToInteractive('df-21166779-61fd-4375-b777-add642819525')\"\n",
              "              title=\"Convert this dataframe to an interactive table.\"\n",
              "              style=\"display:none;\">\n",
              "        \n",
              "  <svg xmlns=\"http://www.w3.org/2000/svg\" height=\"24px\"viewBox=\"0 0 24 24\"\n",
              "       width=\"24px\">\n",
              "    <path d=\"M0 0h24v24H0V0z\" fill=\"none\"/>\n",
              "    <path d=\"M18.56 5.44l.94 2.06.94-2.06 2.06-.94-2.06-.94-.94-2.06-.94 2.06-2.06.94zm-11 1L8.5 8.5l.94-2.06 2.06-.94-2.06-.94L8.5 2.5l-.94 2.06-2.06.94zm10 10l.94 2.06.94-2.06 2.06-.94-2.06-.94-.94-2.06-.94 2.06-2.06.94z\"/><path d=\"M17.41 7.96l-1.37-1.37c-.4-.4-.92-.59-1.43-.59-.52 0-1.04.2-1.43.59L10.3 9.45l-7.72 7.72c-.78.78-.78 2.05 0 2.83L4 21.41c.39.39.9.59 1.41.59.51 0 1.02-.2 1.41-.59l7.78-7.78 2.81-2.81c.8-.78.8-2.07 0-2.86zM5.41 20L4 18.59l7.72-7.72 1.47 1.35L5.41 20z\"/>\n",
              "  </svg>\n",
              "      </button>\n",
              "      \n",
              "  <style>\n",
              "    .colab-df-container {\n",
              "      display:flex;\n",
              "      flex-wrap:wrap;\n",
              "      gap: 12px;\n",
              "    }\n",
              "\n",
              "    .colab-df-convert {\n",
              "      background-color: #E8F0FE;\n",
              "      border: none;\n",
              "      border-radius: 50%;\n",
              "      cursor: pointer;\n",
              "      display: none;\n",
              "      fill: #1967D2;\n",
              "      height: 32px;\n",
              "      padding: 0 0 0 0;\n",
              "      width: 32px;\n",
              "    }\n",
              "\n",
              "    .colab-df-convert:hover {\n",
              "      background-color: #E2EBFA;\n",
              "      box-shadow: 0px 1px 2px rgba(60, 64, 67, 0.3), 0px 1px 3px 1px rgba(60, 64, 67, 0.15);\n",
              "      fill: #174EA6;\n",
              "    }\n",
              "\n",
              "    [theme=dark] .colab-df-convert {\n",
              "      background-color: #3B4455;\n",
              "      fill: #D2E3FC;\n",
              "    }\n",
              "\n",
              "    [theme=dark] .colab-df-convert:hover {\n",
              "      background-color: #434B5C;\n",
              "      box-shadow: 0px 1px 3px 1px rgba(0, 0, 0, 0.15);\n",
              "      filter: drop-shadow(0px 1px 2px rgba(0, 0, 0, 0.3));\n",
              "      fill: #FFFFFF;\n",
              "    }\n",
              "  </style>\n",
              "\n",
              "      <script>\n",
              "        const buttonEl =\n",
              "          document.querySelector('#df-21166779-61fd-4375-b777-add642819525 button.colab-df-convert');\n",
              "        buttonEl.style.display =\n",
              "          google.colab.kernel.accessAllowed ? 'block' : 'none';\n",
              "\n",
              "        async function convertToInteractive(key) {\n",
              "          const element = document.querySelector('#df-21166779-61fd-4375-b777-add642819525');\n",
              "          const dataTable =\n",
              "            await google.colab.kernel.invokeFunction('convertToInteractive',\n",
              "                                                     [key], {});\n",
              "          if (!dataTable) return;\n",
              "\n",
              "          const docLinkHtml = 'Like what you see? Visit the ' +\n",
              "            '<a target=\"_blank\" href=https://colab.research.google.com/notebooks/data_table.ipynb>data table notebook</a>'\n",
              "            + ' to learn more about interactive tables.';\n",
              "          element.innerHTML = '';\n",
              "          dataTable['output_type'] = 'display_data';\n",
              "          await google.colab.output.renderOutput(dataTable, element);\n",
              "          const docLink = document.createElement('div');\n",
              "          docLink.innerHTML = docLinkHtml;\n",
              "          element.appendChild(docLink);\n",
              "        }\n",
              "      </script>\n",
              "    </div>\n",
              "  </div>\n",
              "  "
            ]
          },
          "metadata": {},
          "execution_count": 55
        }
      ],
      "source": [
        "# # training loop\n",
        "n_episodes = 1\n",
        "loop = EnvironmentLoop(env, agent, logger=loggers.InMemoryLogger())\n",
        "loop.run(n_episodes)\n",
        "\n",
        "# print logs\n",
        "logs_dqn = pd.DataFrame(loop._logger._data)\n",
        "logs_dqn.tail()"
      ]
    },
    {
      "cell_type": "markdown",
      "source": [
        "### test DRQN"
      ],
      "metadata": {
        "id": "lwP03QS4INDO"
      }
    },
    {
      "cell_type": "code",
      "source": [
        "# # test DRQN\n",
        "# # construct a DRQN agent\n",
        "# agent_r2d2 = r2d2.R2D2(\n",
        "#     environment_spec=env_spec,\n",
        "#     network=r2d2_make_network(env_spec.actions),\n",
        "#     burn_in_length=10,\n",
        "#     trace_length=2,\n",
        "#     replay_period=10,\n",
        "#     epsilon=[0.1],\n",
        "#     logger=loggers.InMemoryLogger(),\n",
        "#     checkpoint=False,\n",
        "# )\n",
        "\n",
        "# loop = EnvironmentLoop(env, agent_r2d2, logger=loggers.InMemoryLogger())\n",
        "# loop.run(n_episodes)\n",
        "\n",
        "# # print logs\n",
        "# logs_r2d2 = pd.DataFrame(loop._logger._data)\n",
        "# logs_r2d2.tail()"
      ],
      "metadata": {
        "id": "1YJ2JM_PHZvx"
      },
      "execution_count": null,
      "outputs": []
    },
    {
      "cell_type": "markdown",
      "source": [
        "# Playground"
      ],
      "metadata": {
        "id": "l1hhXaIIfvzQ"
      }
    },
    {
      "cell_type": "markdown",
      "source": [
        "## test different parameters"
      ],
      "metadata": {
        "id": "UAVvoTrU-jRU"
      }
    },
    {
      "cell_type": "code",
      "source": [
        "# test 5 back\n",
        "\n",
        "N = 2\n",
        "n_episodes = 100\n",
        "episode_steps= 32\n",
        "n_total_steps = 0\n",
        "log_loss = False\n",
        "n_steps = n_episodes * episode_steps\n",
        "# mock data\n",
        "# mock_nback_data = generate_mock_nback_dataset(N=N,n_trials=episode_steps)\n",
        "# environment\n",
        "env, env_spec = NBack.create_environment(N=N,episode_steps=episode_steps)\n",
        "# agent\n",
        "agent_random = RandomAgent(env_spec)\n",
        "\n",
        "agent_dqn = dqn.DQN(\n",
        "        environment_spec=env_spec,\n",
        "        network=dqn_make_network(env_spec.actions),\n",
        "        epsilon=[0.1],\n",
        "        logger=loggers.InMemoryLogger(),\n",
        "        checkpoint=False,\n",
        ")\n",
        "\n",
        "agent_drqn = r2d2.R2D2(\n",
        "    environment_spec=env_spec,\n",
        "    network=r2d2_make_network(env_spec.actions),\n",
        "    burn_in_length=10,\n",
        "    trace_length=2,\n",
        "    replay_period=10,\n",
        "    epsilon=[0.1],\n",
        "    logger=loggers.InMemoryLogger(),\n",
        "    checkpoint=False,\n",
        ")\n",
        "\n",
        "# training loop\n",
        "agent_dict= {'RANDOM':agent_random,\n",
        "    'DQN':agent_dqn,\n",
        "    'DRQN':agent_drqn}\n",
        "logs_dict = {}\n",
        "\n",
        "for key, agent in tqdm(agent_dict.items()):\n",
        "    loop = EnvironmentLoop(env, agent, logger=loggers.InMemoryLogger())\n",
        "    loop.run(n_episodes)\n",
        "    logs_dict[key] = pd.DataFrame(loop._logger._data)\n",
        "    # print(logs_dict[key].tail(5))\n",
        "\n"
      ],
      "metadata": {
        "id": "_9rMoNVqUPOQ",
        "colab": {
          "base_uri": "https://localhost:8080/"
        },
        "outputId": "4ebc5dc9-e19a-456a-9c9e-2a8be88c4d88"
      },
      "execution_count": 28,
      "outputs": [
        {
          "output_type": "stream",
          "name": "stderr",
          "text": [
            "\r  0%|          | 0/3 [00:00<?, ?it/s]"
          ]
        },
        {
          "output_type": "stream",
          "name": "stdout",
          "text": [
            "[2. 3. 2. 1. 4. 1. 4. 2. 2. 2. 2. 1. 2. 1. 0. 1. 0. 4. 0. 4. 3. 3. 1. 3.\n",
            " 0. 1. 0. 1. 4. 1. 4. 4.]\n",
            "[1. 3. 0. 5. 1. 5. 0. 5. 3. 5. 3. 4. 0. 2. 2. 1. 4. 1. 4. 3. 4. 3. 4. 3.\n",
            " 2. 1. 2. 1. 0. 3. 4. 3.]\n",
            "[0. 2. 3. 5. 3. 5. 3. 5. 0. 5. 4. 3. 4. 5. 4. 5. 4. 2. 4. 2. 4. 2. 0. 5.\n",
            " 5. 5. 4. 5. 2. 0. 2. 0.]\n",
            "[1. 4. 1. 2. 1. 2. 0. 2. 1. 2. 1. 4. 1. 4. 1. 0. 2. 3. 5. 3. 5. 3. 5. 5.\n",
            " 2. 4. 2. 5. 3. 2. 3. 1.]\n",
            "[1. 1. 1. 4. 1. 0. 1. 0. 5. 0. 0. 0. 0. 0. 4. 0. 4. 2. 2. 2. 1. 0. 1. 1.\n",
            " 1. 4. 1. 4. 3. 4. 3. 4.]\n",
            "[3. 4. 4. 0. 4. 3. 4. 1. 3. 5. 3. 3. 1. 3. 5. 0. 5. 0. 5. 5. 5. 5. 0. 1.\n",
            " 5. 5. 5. 5. 5. 0. 1. 0.]\n",
            "[2. 2. 0. 3. 0. 3. 0. 0. 1. 5. 1. 3. 0. 3. 0. 3. 5. 0. 0. 0. 0. 4. 0. 0.\n",
            " 4. 2. 2. 4. 4. 4. 3. 4.]\n",
            "[4. 2. 0. 4. 0. 4. 0. 1. 3. 1. 2. 5. 3. 1. 3. 1. 4. 1. 4. 1. 2. 4. 2. 5.\n",
            " 4. 5. 0. 5. 1. 5. 0. 2.]\n",
            "[2. 5. 2. 5. 2. 5. 2. 5. 2. 3. 3. 3. 3. 4. 3. 4. 1. 4. 0. 5. 4. 1. 4. 1.\n",
            " 5. 0. 5. 2. 1. 2. 1. 3.]\n",
            "[0. 4. 0. 4. 0. 2. 0. 2. 0. 3. 0. 3. 3. 3. 3. 3. 1. 3. 0. 2. 0. 2. 0. 0.\n",
            " 1. 0. 1. 1. 0. 1. 4. 4.]\n",
            "[0. 5. 5. 3. 5. 1. 3. 5. 3. 5. 1. 1. 1. 3. 3. 2. 4. 2. 4. 1. 4. 0. 4. 0.\n",
            " 4. 3. 0. 2. 0. 2. 0. 2.]\n",
            "[2. 2. 2. 2. 3. 1. 3. 3. 3. 2. 3. 5. 3. 5. 5. 5. 2. 2. 2. 2. 2. 2. 1. 2.\n",
            " 4. 1. 4. 1. 3. 1. 4. 1.]\n",
            "[2. 3. 3. 0. 0. 5. 3. 1. 3. 1. 4. 3. 0. 1. 0. 1. 5. 1. 5. 2. 0. 2. 0. 4.\n",
            " 0. 4. 0. 4. 0. 4. 1. 1.]\n",
            "[3. 5. 5. 1. 3. 3. 5. 4. 4. 4. 4. 1. 0. 1. 5. 1. 5. 2. 5. 2. 5. 0. 5. 0.\n",
            " 5. 4. 1. 4. 1. 4. 4. 0.]\n",
            "[4. 1. 4. 0. 4. 0. 5. 0. 5. 2. 0. 2. 2. 0. 2. 3. 2. 3. 2. 3. 5. 3. 5. 4.\n",
            " 2. 3. 1. 3. 1. 0. 3. 1.]\n",
            "[4. 2. 4. 0. 4. 4. 4. 1. 4. 1. 0. 1. 4. 1. 4. 1. 4. 1. 0. 1. 2. 1. 1. 0.\n",
            " 5. 0. 5. 4. 5. 1. 0. 1.]\n",
            "[2. 4. 5. 3. 1. 3. 4. 3. 4. 3. 3. 3. 5. 3. 3. 3. 3. 0. 0. 0. 0. 0. 0. 5.\n",
            " 3. 3. 4. 3. 2. 0. 2. 0.]\n",
            "[5. 3. 5. 4. 3. 4. 3. 4. 3. 4. 5. 4. 1. 4. 1. 4. 1. 0. 5. 4. 2. 1. 4. 2.\n",
            " 1. 1. 3. 1. 0. 1. 0. 1.]\n",
            "[0. 3. 0. 3. 0. 3. 3. 5. 0. 5. 2. 5. 5. 5. 5. 5. 5. 0. 5. 4. 5. 5. 5. 4.\n",
            " 1. 4. 2. 4. 2. 3. 4. 3.]\n",
            "[5. 5. 5. 5. 5. 3. 2. 5. 2. 5. 0. 3. 0. 3. 2. 3. 5. 4. 3. 1. 5. 4. 5. 4.\n",
            " 4. 4. 5. 4. 5. 3. 5. 4.]\n",
            "[1. 2. 1. 4. 2. 0. 5. 4. 4. 4. 5. 4. 5. 4. 3. 4. 4. 1. 1. 4. 5. 5. 5. 5.\n",
            " 0. 2. 0. 3. 3. 2. 2. 2.]\n",
            "[0. 5. 0. 5. 0. 5. 5. 2. 5. 2. 5. 5. 4. 5. 4. 0. 4. 0. 4. 1. 4. 1. 4. 0.\n",
            " 4. 0. 4. 4. 5. 3. 5. 3.]\n",
            "[1. 1. 1. 1. 4. 4. 4. 2. 3. 0. 1. 0. 1. 0. 4. 0. 0. 1. 1. 1. 1. 1. 0. 3.\n",
            " 4. 2. 0. 0. 0. 0. 0. 0.]\n",
            "[5. 3. 5. 3. 2. 3. 2. 3. 1. 4. 4. 4. 3. 4. 1. 4. 4. 3. 4. 3. 0. 1. 0. 5.\n",
            " 0. 5. 0. 2. 0. 0. 4. 4.]\n",
            "[0. 1. 0. 5. 0. 5. 1. 1. 5. 2. 3. 2. 1. 2. 2. 3. 5. 3. 2. 3. 5. 3. 5. 3.\n",
            " 1. 4. 1. 5. 3. 5. 5. 5.]\n",
            "[2. 5. 2. 5. 2. 5. 2. 3. 2. 0. 4. 4. 5. 0. 0. 5. 5. 0. 3. 3. 3. 5. 3. 5.\n",
            " 3. 2. 5. 0. 2. 0. 2. 0.]\n",
            "[2. 3. 2. 5. 0. 1. 0. 1. 3. 3. 4. 3. 0. 2. 2. 2. 2. 2. 2. 3. 4. 2. 5. 2.\n",
            " 5. 2. 5. 2. 2. 5. 5. 1.]\n",
            "[2. 0. 2. 0. 2. 0. 0. 0. 0. 0. 3. 0. 5. 0. 5. 3. 5. 3. 5. 3. 5. 3. 5. 4.\n",
            " 5. 3. 5. 3. 5. 5. 5. 5.]\n",
            "[0. 0. 0. 3. 0. 2. 0. 0. 0. 3. 1. 0. 0. 5. 0. 4. 1. 4. 4. 4. 4. 3. 4. 4.\n",
            " 4. 1. 3. 1. 3. 4. 3. 2.]\n",
            "[2. 3. 2. 0. 2. 3. 0. 4. 0. 4. 1. 4. 3. 0. 3. 2. 3. 2. 1. 2. 1. 2. 1. 5.\n",
            " 1. 2. 1. 2. 5. 3. 5. 4.]\n",
            "[2. 5. 3. 4. 0. 4. 2. 4. 5. 4. 5. 0. 0. 1. 0. 5. 0. 0. 0. 4. 2. 2. 4. 2.\n",
            " 1. 2. 3. 0. 5. 0. 4. 0.]\n",
            "[4. 0. 4. 4. 2. 5. 2. 5. 2. 3. 1. 3. 1. 4. 1. 1. 4. 4. 3. 4. 1. 4. 1. 4.\n",
            " 1. 4. 1. 5. 4. 3. 4. 1.]\n",
            "[0. 5. 0. 5. 4. 5. 2. 2. 3. 2. 4. 3. 4. 2. 3. 1. 3. 3. 0. 3. 0. 2. 0. 2.\n",
            " 2. 2. 2. 2. 1. 4. 1. 0.]\n",
            "[4. 4. 4. 3. 4. 3. 4. 3. 4. 4. 2. 4. 0. 4. 1. 0. 1. 3. 0. 3. 0. 3. 0. 3.\n",
            " 0. 3. 0. 3. 2. 3. 4. 3.]\n",
            "[3. 2. 3. 5. 3. 5. 3. 2. 3. 2. 4. 4. 4. 4. 4. 3. 3. 0. 3. 5. 1. 5. 4. 4.\n",
            " 4. 5. 4. 5. 4. 5. 4. 5.]\n",
            "[1. 5. 3. 3. 0. 0. 0. 0. 0. 0. 0. 2. 0. 1. 1. 1. 1. 2. 3. 4. 3. 4. 5. 4.\n",
            " 5. 3. 5. 4. 5. 2. 5. 2.]\n",
            "[4. 1. 4. 0. 4. 3. 5. 2. 5. 2. 5. 2. 2. 3. 5. 2. 0. 2. 1. 3. 4. 3. 4. 3.\n",
            " 4. 3. 2. 4. 0. 3. 4. 0.]\n",
            "[3. 3. 3. 0. 3. 0. 3. 2. 3. 5. 4. 5. 1. 0. 1. 2. 0. 2. 0. 2. 5. 3. 4. 0.\n",
            " 4. 4. 4. 4. 4. 2. 2. 2.]\n",
            "[4. 0. 4. 0. 0. 1. 0. 1. 0. 5. 0. 5. 3. 3. 3. 3. 2. 5. 2. 3. 2. 0. 2. 4.\n",
            " 2. 3. 2. 0. 3. 2. 5. 2.]\n",
            "[4. 5. 4. 5. 4. 2. 1. 2. 1. 2. 0. 1. 2. 0. 3. 0. 5. 0. 1. 3. 1. 3. 1. 3.\n",
            " 4. 5. 0. 5. 1. 5. 1. 2.]\n",
            "[4. 0. 2. 0. 2. 0. 2. 0. 3. 0. 4. 4. 0. 4. 0. 4. 0. 2. 0. 1. 4. 1. 4. 1.\n",
            " 2. 2. 4. 0. 0. 5. 0. 5.]\n",
            "[4. 4. 4. 4. 4. 5. 0. 5. 0. 5. 0. 5. 1. 5. 4. 5. 5. 5. 4. 1. 5. 1. 0. 4.\n",
            " 0. 4. 3. 4. 1. 4. 2. 4.]\n",
            "[2. 1. 1. 3. 3. 2. 3. 1. 3. 5. 5. 5. 5. 5. 5. 5. 5. 1. 5. 1. 5. 1. 2. 2.\n",
            " 5. 4. 1. 4. 0. 4. 0. 4.]\n",
            "[0. 0. 3. 0. 3. 0. 3. 2. 3. 0. 1. 5. 4. 5. 0. 5. 0. 3. 0. 4. 0. 4. 0. 0.\n",
            " 1. 5. 5. 5. 5. 5. 0. 5.]\n",
            "[4. 2. 4. 3. 4. 3. 4. 3. 4. 3. 4. 3. 5. 0. 0. 1. 0. 2. 3. 2. 2. 2. 2. 5.\n",
            " 2. 4. 0. 4. 0. 4. 4. 1.]\n",
            "[5. 4. 5. 4. 5. 0. 0. 4. 5. 4. 2. 5. 3. 3. 0. 0. 2. 3. 2. 3. 2. 3. 2. 1.\n",
            " 1. 5. 1. 2. 1. 2. 4. 3.]\n",
            "[2. 3. 2. 1. 2. 1. 2. 3. 2. 1. 2. 4. 3. 4. 0. 4. 0. 4. 0. 3. 0. 1. 0. 2.\n",
            " 1. 1. 5. 3. 2. 3. 2. 5.]\n",
            "[3. 1. 5. 0. 2. 4. 0. 4. 3. 4. 5. 4. 1. 0. 3. 0. 2. 5. 2. 0. 2. 3. 2. 3.\n",
            " 2. 3. 2. 3. 4. 3. 2. 0.]\n",
            "[2. 5. 5. 3. 5. 3. 5. 3. 5. 3. 5. 2. 2. 2. 2. 4. 5. 3. 5. 3. 2. 3. 2. 1.\n",
            " 2. 0. 1. 2. 5. 5. 3. 5.]\n",
            "[0. 2. 0. 5. 5. 5. 2. 4. 2. 4. 1. 4. 5. 4. 5. 2. 5. 2. 5. 2. 0. 0. 1. 0.\n",
            " 5. 0. 3. 3. 4. 3. 4. 0.]\n",
            "[2. 0. 2. 1. 2. 1. 2. 0. 2. 1. 4. 1. 4. 4. 4. 5. 4. 0. 0. 2. 0. 2. 4. 2.\n",
            " 2. 2. 2. 3. 5. 3. 5. 2.]\n",
            "[0. 5. 1. 5. 2. 5. 0. 1. 0. 0. 5. 5. 0. 5. 0. 5. 1. 2. 1. 2. 5. 0. 3. 1.\n",
            " 3. 1. 2. 1. 2. 0. 2. 0.]\n",
            "[2. 5. 2. 3. 0. 3. 0. 4. 0. 2. 3. 2. 3. 2. 0. 2. 0. 0. 0. 0. 0. 0. 0. 3.\n",
            " 0. 4. 0. 4. 0. 5. 1. 3.]\n",
            "[0. 4. 0. 2. 4. 2. 3. 4. 3. 5. 4. 5. 4. 1. 0. 5. 5. 0. 5. 2. 4. 2. 4. 2.\n",
            " 5. 2. 4. 2. 0. 3. 0. 1.]\n",
            "[2. 1. 2. 3. 2. 3. 3. 4. 1. 5. 1. 2. 2. 3. 5. 1. 5. 1. 5. 4. 5. 4. 3. 5.\n",
            " 3. 5. 3. 3. 2. 3. 4. 0.]\n",
            "[4. 1. 4. 1. 0. 1. 0. 1. 2. 3. 5. 3. 5. 5. 3. 2. 1. 2. 1. 5. 1. 5. 0. 3.\n",
            " 1. 1. 5. 5. 3. 5. 3. 5.]\n",
            "[5. 4. 5. 5. 5. 0. 1. 0. 5. 0. 2. 0. 2. 1. 5. 0. 5. 5. 3. 5. 3. 5. 3. 5.\n",
            " 2. 5. 5. 5. 4. 4. 4. 4.]\n",
            "[2. 0. 1. 4. 1. 4. 2. 4. 5. 0. 1. 0. 4. 2. 4. 2. 4. 5. 4. 2. 5. 2. 5. 2.\n",
            " 5. 4. 5. 4. 5. 3. 3. 3.]\n",
            "[3. 4. 5. 4. 5. 4. 5. 0. 2. 0. 2. 0. 1. 3. 1. 2. 0. 4. 0. 4. 5. 1. 5. 4.\n",
            " 3. 1. 2. 1. 2. 1. 5. 2.]\n",
            "[1. 5. 4. 1. 5. 4. 5. 1. 5. 0. 0. 0. 1. 0. 0. 0. 1. 0. 5. 0. 5. 2. 4. 5.\n",
            " 0. 0. 0. 0. 4. 0. 4. 1.]\n",
            "[2. 1. 0. 1. 2. 5. 2. 5. 0. 4. 0. 3. 2. 0. 1. 0. 1. 1. 1. 3. 2. 3. 5. 4.\n",
            " 5. 0. 5. 3. 5. 3. 2. 3.]\n",
            "[5. 5. 5. 3. 1. 3. 0. 1. 0. 2. 0. 0. 5. 0. 5. 4. 5. 4. 5. 4. 5. 4. 3. 5.\n",
            " 5. 5. 5. 5. 5. 5. 4. 5.]\n",
            "[3. 4. 3. 5. 3. 5. 3. 3. 2. 3. 4. 4. 1. 4. 0. 1. 0. 5. 2. 1. 3. 1. 3. 2.\n",
            " 0. 3. 3. 4. 3. 1. 1. 1.]\n",
            "[1. 4. 3. 1. 0. 2. 3. 2. 5. 4. 2. 4. 3. 0. 3. 2. 3. 3. 0. 3. 4. 1. 2. 2.\n",
            " 2. 5. 0. 5. 0. 5. 5. 5.]\n",
            "[1. 3. 1. 3. 0. 3. 0. 5. 0. 2. 4. 3. 5. 3. 5. 3. 5. 0. 5. 1. 5. 2. 4. 2.\n",
            " 3. 2. 3. 2. 3. 2. 4. 0.]\n",
            "[0. 5. 5. 1. 0. 1. 0. 5. 0. 5. 0. 5. 1. 5. 1. 5. 4. 0. 4. 2. 2. 2. 2. 2.\n",
            " 2. 2. 4. 2. 2. 1. 2. 1.]\n",
            "[5. 5. 5. 3. 5. 3. 5. 3. 4. 3. 5. 1. 5. 3. 0. 4. 4. 5. 4. 0. 4. 3. 4. 2.\n",
            " 1. 2. 5. 1. 3. 3. 5. 1.]\n",
            "[2. 2. 2. 2. 2. 2. 3. 2. 3. 2. 3. 2. 4. 2. 4. 3. 4. 3. 4. 4. 3. 5. 3. 5.\n",
            " 3. 5. 3. 0. 3. 2. 3. 2.]\n",
            "[0. 0. 0. 0. 3. 5. 3. 5. 3. 1. 4. 3. 4. 3. 4. 0. 4. 0. 4. 0. 0. 1. 5. 4.\n",
            " 5. 4. 2. 0. 2. 2. 2. 2.]\n",
            "[0. 3. 0. 0. 0. 4. 3. 4. 4. 1. 4. 0. 4. 1. 3. 5. 3. 5. 4. 0. 4. 0. 0. 3.\n",
            " 3. 1. 0. 2. 4. 4. 4. 4.]\n",
            "[4. 0. 4. 1. 4. 5. 4. 5. 4. 0. 4. 1. 2. 2. 3. 3. 3. 3. 3. 3. 3. 1. 3. 3.\n",
            " 0. 3. 1. 1. 1. 1. 1. 1.]\n",
            "[0. 0. 0. 1. 1. 1. 1. 1. 1. 0. 5. 0. 3. 0. 3. 4. 3. 4. 3. 4. 3. 0. 2. 2.\n",
            " 1. 3. 0. 3. 0. 4. 1. 1.]\n",
            "[4. 3. 4. 2. 4. 2. 0. 5. 1. 3. 1. 3. 1. 2. 2. 5. 4. 3. 2. 3. 4. 4. 4. 1.\n",
            " 0. 1. 0. 3. 0. 3. 0. 2.]\n",
            "[1. 1. 1. 3. 1. 4. 3. 5. 3. 4. 3. 4. 1. 2. 4. 2. 0. 1. 0. 2. 0. 2. 2. 5.\n",
            " 2. 5. 2. 5. 2. 5. 5. 0.]\n",
            "[1. 3. 1. 3. 2. 2. 3. 2. 3. 1. 5. 1. 5. 1. 5. 1. 2. 1. 2. 4. 5. 4. 0. 1.\n",
            " 0. 1. 0. 0. 0. 2. 0. 2.]\n",
            "[3. 3. 3. 2. 3. 3. 3. 3. 5. 3. 0. 1. 0. 4. 1. 5. 1. 3. 4. 3. 3. 3. 2. 5.\n",
            " 2. 3. 1. 5. 1. 5. 5. 5.]\n",
            "[0. 1. 0. 1. 5. 0. 0. 4. 0. 4. 0. 2. 0. 2. 3. 2. 5. 2. 4. 1. 4. 2. 1. 2.\n",
            " 5. 2. 5. 2. 5. 3. 3. 3.]\n",
            "[5. 5. 5. 1. 4. 5. 3. 4. 3. 3. 1. 3. 0. 5. 5. 5. 0. 2. 0. 2. 0. 2. 0. 5.\n",
            " 0. 5. 0. 5. 1. 5. 5. 5.]\n",
            "[2. 2. 2. 2. 2. 5. 3. 5. 3. 5. 4. 5. 4. 5. 4. 0. 3. 0. 1. 0. 1. 5. 3. 4.\n",
            " 1. 1. 1. 4. 1. 5. 3. 4.]\n",
            "[3. 4. 3. 4. 0. 3. 0. 4. 0. 1. 0. 1. 0. 0. 0. 0. 3. 4. 4. 4. 4. 4. 4. 3.\n",
            " 3. 4. 3. 0. 3. 0. 3. 1.]\n",
            "[1. 0. 1. 0. 5. 0. 5. 0. 5. 0. 5. 0. 0. 0. 0. 0. 0. 0. 0. 4. 2. 1. 2. 1.\n",
            " 4. 2. 4. 3. 4. 3. 1. 3.]\n"
          ]
        },
        {
          "output_type": "stream",
          "name": "stderr",
          "text": [
            "\r 33%|███▎      | 1/3 [00:00<00:01,  1.77it/s]"
          ]
        },
        {
          "output_type": "stream",
          "name": "stdout",
          "text": [
            "[3. 0. 0. 1. 2. 1. 0. 3. 4. 5. 0. 5. 3. 4. 5. 4. 3. 4. 3. 1. 3. 5. 1. 5.\n",
            " 2. 3. 4. 3. 2. 3. 2. 2.]\n",
            "[0. 0. 4. 0. 4. 3. 5. 3. 2. 1. 4. 1. 5. 1. 5. 3. 5. 0. 1. 5. 0. 2. 0. 4.\n",
            " 1. 0. 1. 3. 1. 3. 1. 3.]\n",
            "[4. 1. 5. 3. 2. 3. 1. 4. 1. 4. 4. 5. 4. 0. 4. 3. 4. 5. 5. 1. 1. 3. 1. 3.\n",
            " 4. 0. 4. 0. 4. 0. 3. 0.]\n",
            "[2. 4. 2. 5. 2. 5. 2. 5. 2. 5. 2. 5. 2. 5. 2. 2. 2. 2. 2. 0. 2. 0. 5. 0.\n",
            " 1. 0. 0. 4. 1. 4. 0. 2.]\n",
            "[5. 0. 0. 1. 2. 2. 2. 3. 1. 3. 1. 3. 0. 0. 0. 0. 0. 0. 0. 1. 0. 2. 2. 2.\n",
            " 1. 5. 1. 2. 1. 4. 4. 4.]\n",
            "[4. 5. 4. 5. 3. 2. 1. 2. 4. 0. 4. 2. 4. 4. 4. 4. 5. 4. 2. 4. 4. 4. 5. 4.\n",
            " 3. 2. 3. 2. 3. 2. 3. 2.]\n",
            "[2. 1. 2. 4. 2. 4. 2. 4. 2. 2. 2. 2. 5. 2. 5. 2. 0. 2. 2. 1. 0. 2. 0. 2.\n",
            " 2. 2. 2. 4. 5. 4. 2. 4.]\n",
            "[3. 1. 3. 3. 3. 1. 4. 1. 4. 1. 3. 5. 2. 5. 5. 2. 5. 2. 4. 2. 4. 2. 3. 5.\n",
            " 1. 5. 4. 5. 4. 1. 3. 3.]\n",
            "[3. 5. 2. 4. 3. 5. 3. 0. 4. 0. 4. 1. 4. 1. 4. 1. 4. 1. 0. 3. 5. 5. 1. 5.\n",
            " 1. 1. 2. 1. 2. 1. 2. 5.]\n",
            "[0. 1. 0. 1. 1. 1. 4. 5. 3. 5. 3. 5. 1. 5. 5. 5. 0. 0. 5. 0. 3. 0. 3. 0.\n",
            " 4. 1. 4. 1. 4. 2. 4. 2.]\n",
            "[5. 3. 5. 1. 5. 1. 2. 2. 4. 4. 4. 0. 5. 0. 1. 3. 1. 3. 1. 0. 3. 0. 4. 0.\n",
            " 4. 0. 0. 1. 0. 1. 0. 1.]\n",
            "[4. 2. 5. 2. 5. 1. 5. 0. 0. 0. 3. 0. 3. 2. 0. 3. 4. 5. 3. 1. 2. 1. 2. 1.\n",
            " 2. 1. 5. 2. 0. 2. 1. 5.]\n",
            "[4. 1. 4. 1. 4. 4. 4. 4. 4. 4. 1. 4. 1. 1. 5. 0. 5. 0. 3. 0. 3. 0. 3. 1.\n",
            " 3. 0. 0. 0. 2. 0. 2. 3.]\n",
            "[1. 5. 1. 3. 1. 4. 0. 4. 0. 0. 0. 0. 0. 0. 0. 3. 0. 2. 2. 0. 2. 0. 0. 0.\n",
            " 1. 0. 3. 4. 3. 4. 3. 3.]\n",
            "[5. 5. 5. 4. 0. 3. 1. 3. 0. 1. 1. 1. 0. 1. 0. 4. 4. 4. 4. 0. 2. 0. 2. 1.\n",
            " 2. 1. 1. 3. 0. 0. 0. 5.]\n",
            "[0. 5. 0. 5. 1. 3. 3. 5. 3. 5. 5. 5. 2. 5. 2. 0. 5. 0. 2. 5. 2. 0. 2. 2.\n",
            " 5. 5. 5. 1. 3. 1. 4. 1.]\n",
            "[4. 0. 5. 0. 5. 0. 5. 0. 5. 0. 5. 0. 1. 0. 0. 2. 1. 2. 1. 2. 0. 1. 3. 1.\n",
            " 0. 4. 0. 4. 2. 1. 5. 2.]\n",
            "[3. 3. 3. 1. 3. 1. 3. 1. 4. 3. 3. 3. 0. 4. 3. 0. 3. 2. 5. 4. 5. 4. 2. 0.\n",
            " 3. 2. 5. 2. 5. 0. 5. 4.]\n",
            "[0. 0. 0. 1. 0. 5. 0. 1. 2. 0. 0. 0. 0. 0. 0. 1. 0. 4. 0. 0. 1. 3. 1. 4.\n",
            " 0. 2. 0. 2. 0. 2. 0. 2.]\n",
            "[5. 3. 2. 2. 2. 2. 2. 1. 2. 0. 2. 5. 1. 0. 2. 0. 1. 2. 2. 2. 0. 0. 4. 1.\n",
            " 4. 3. 0. 5. 0. 0. 0. 0.]\n",
            "[0. 4. 3. 1. 3. 0. 3. 3. 0. 3. 3. 3. 0. 2. 3. 0. 3. 0. 5. 4. 0. 4. 0. 4.\n",
            " 0. 4. 2. 5. 2. 5. 0. 1.]\n",
            "[4. 3. 4. 4. 4. 5. 4. 0. 1. 4. 1. 3. 5. 4. 5. 4. 5. 5. 5. 0. 3. 3. 3. 3.\n",
            " 3. 3. 0. 3. 1. 2. 3. 2.]\n",
            "[0. 2. 0. 1. 5. 0. 5. 2. 5. 1. 5. 1. 5. 3. 3. 5. 3. 5. 3. 2. 1. 0. 4. 0.\n",
            " 4. 0. 3. 4. 4. 5. 3. 5.]\n",
            "[3. 5. 3. 5. 4. 4. 4. 4. 4. 4. 4. 0. 4. 3. 4. 3. 4. 3. 2. 3. 2. 2. 0. 3.\n",
            " 0. 3. 2. 3. 4. 0. 4. 3.]\n",
            "[4. 2. 1. 2. 5. 4. 1. 4. 1. 4. 3. 4. 3. 3. 5. 3. 5. 3. 5. 4. 5. 4. 5. 2.\n",
            " 5. 4. 0. 0. 0. 5. 3. 5.]\n",
            "[5. 4. 5. 5. 5. 5. 5. 3. 5. 4. 5. 4. 5. 0. 4. 0. 2. 0. 3. 3. 3. 0. 3. 5.\n",
            " 2. 4. 1. 4. 1. 4. 1. 1.]\n",
            "[1. 2. 1. 2. 1. 4. 1. 4. 4. 4. 4. 4. 2. 0. 5. 0. 5. 3. 5. 3. 1. 3. 1. 5.\n",
            " 1. 5. 1. 5. 1. 4. 5. 3.]\n",
            "[1. 1. 5. 0. 1. 0. 5. 1. 2. 0. 2. 0. 3. 0. 3. 2. 0. 2. 0. 2. 1. 2. 2. 2.\n",
            " 2. 2. 2. 2. 2. 2. 0. 0.]\n",
            "[2. 1. 4. 1. 0. 1. 1. 1. 3. 4. 0. 4. 0. 2. 4. 3. 2. 2. 2. 0. 2. 4. 0. 4.\n",
            " 0. 4. 3. 4. 3. 4. 3. 0.]\n",
            "[1. 0. 4. 0. 4. 5. 4. 3. 3. 3. 1. 3. 1. 0. 1. 0. 3. 2. 4. 5. 4. 4. 4. 4.\n",
            " 3. 4. 3. 2. 3. 0. 2. 1.]\n",
            "[3. 5. 3. 5. 3. 4. 5. 4. 5. 2. 0. 2. 0. 1. 3. 1. 4. 1. 3. 1. 1. 1. 3. 3.\n",
            " 1. 5. 2. 5. 4. 0. 4. 1.]\n",
            "[0. 2. 0. 2. 2. 2. 2. 2. 2. 0. 4. 5. 4. 5. 5. 5. 4. 3. 4. 3. 3. 1. 5. 1.\n",
            " 5. 1. 5. 2. 0. 2. 0. 2.]\n",
            "[2. 5. 2. 5. 4. 5. 3. 5. 2. 0. 1. 3. 5. 3. 0. 1. 4. 0. 4. 0. 0. 4. 1. 5.\n",
            " 1. 1. 1. 5. 1. 5. 4. 1.]\n",
            "[2. 1. 4. 1. 4. 0. 5. 3. 5. 1. 3. 1. 3. 5. 4. 1. 1. 0. 1. 2. 2. 2. 0. 2.\n",
            " 0. 0. 4. 0. 3. 2. 4. 5.]\n",
            "[5. 5. 5. 5. 1. 5. 3. 5. 3. 3. 3. 3. 0. 0. 4. 0. 4. 0. 4. 3. 4. 3. 4. 0.\n",
            " 0. 4. 0. 4. 5. 4. 5. 4.]\n",
            "[2. 2. 2. 0. 2. 4. 0. 4. 1. 4. 1. 4. 1. 1. 1. 4. 1. 4. 1. 1. 1. 1. 1. 0.\n",
            " 1. 2. 2. 5. 2. 0. 2. 3.]\n",
            "[2. 3. 2. 3. 5. 2. 1. 4. 2. 4. 2. 4. 2. 3. 4. 1. 4. 1. 0. 4. 0. 5. 0. 5.\n",
            " 1. 5. 1. 2. 1. 5. 1. 1.]\n",
            "[5. 1. 0. 0. 4. 1. 4. 1. 2. 3. 3. 5. 3. 5. 1. 5. 1. 2. 2. 2. 2. 2. 1. 2.\n",
            " 1. 1. 1. 5. 4. 5. 4. 5.]\n",
            "[1. 5. 1. 5. 1. 5. 1. 3. 5. 2. 5. 4. 0. 4. 3. 3. 3. 3. 3. 4. 3. 1. 0. 1.\n",
            " 2. 1. 2. 1. 2. 1. 2. 1.]\n",
            "[0. 3. 1. 2. 3. 2. 5. 1. 5. 1. 4. 0. 4. 0. 4. 5. 4. 2. 4. 5. 2. 5. 2. 5.\n",
            " 0. 5. 0. 4. 0. 4. 0. 5.]\n",
            "[4. 1. 2. 1. 1. 4. 1. 3. 4. 5. 4. 0. 4. 0. 3. 5. 1. 5. 1. 5. 2. 0. 2. 0.\n",
            " 2. 4. 3. 0. 3. 0. 3. 0.]\n",
            "[3. 1. 0. 0. 0. 3. 0. 3. 0. 3. 0. 1. 3. 3. 1. 0. 5. 0. 5. 0. 5. 0. 5. 0.\n",
            " 1. 0. 3. 1. 5. 1. 5. 1.]\n",
            "[4. 2. 0. 2. 0. 4. 0. 4. 0. 4. 0. 5. 2. 5. 1. 5. 1. 1. 0. 3. 2. 3. 2. 3.\n",
            " 1. 3. 1. 3. 0. 3. 0. 3.]\n",
            "[4. 0. 5. 0. 5. 0. 5. 3. 0. 0. 0. 0. 0. 3. 3. 3. 2. 1. 0. 1. 0. 3. 0. 3.\n",
            " 0. 3. 0. 3. 3. 0. 3. 0.]\n",
            "[2. 3. 5. 0. 5. 3. 3. 4. 1. 4. 1. 1. 2. 0. 0. 0. 0. 0. 0. 0. 1. 0. 1. 0.\n",
            " 1. 4. 1. 4. 1. 4. 4. 4.]\n",
            "[3. 5. 3. 5. 3. 5. 3. 1. 3. 1. 1. 1. 1. 0. 1. 2. 1. 0. 1. 4. 0. 4. 0. 4.\n",
            " 1. 4. 4. 5. 4. 5. 4. 4.]\n",
            "[0. 5. 5. 4. 5. 4. 1. 4. 3. 4. 3. 0. 2. 5. 5. 2. 4. 2. 4. 2. 1. 0. 1. 0.\n",
            " 1. 3. 0. 3. 0. 4. 0. 1.]\n",
            "[4. 5. 4. 4. 4. 2. 1. 1. 5. 1. 5. 5. 5. 0. 2. 0. 2. 0. 0. 0. 2. 1. 2. 2.\n",
            " 2. 2. 2. 5. 1. 4. 2. 3.]\n",
            "[2. 5. 5. 4. 5. 4. 0. 4. 0. 4. 0. 4. 0. 1. 4. 0. 4. 3. 4. 3. 4. 0. 2. 5.\n",
            " 2. 0. 2. 0. 2. 3. 2. 3.]\n",
            "[1. 1. 3. 3. 5. 3. 5. 2. 2. 2. 2. 4. 5. 4. 5. 2. 5. 5. 5. 5. 5. 0. 4. 0.\n",
            " 4. 3. 4. 3. 4. 1. 2. 1.]\n",
            "[3. 0. 3. 0. 3. 0. 5. 3. 0. 3. 5. 0. 3. 0. 1. 2. 1. 2. 4. 5. 0. 5. 4. 5.\n",
            " 4. 5. 3. 2. 3. 0. 5. 1.]\n",
            "[4. 3. 1. 4. 1. 4. 1. 4. 1. 0. 1. 0. 1. 0. 1. 0. 3. 2. 2. 3. 5. 3. 5. 3.\n",
            " 2. 1. 5. 3. 5. 3. 4. 1.]\n",
            "[5. 4. 4. 0. 4. 0. 5. 0. 2. 0. 0. 3. 0. 3. 0. 3. 0. 1. 0. 0. 1. 1. 1. 0.\n",
            " 1. 0. 1. 5. 5. 5. 4. 5.]\n",
            "[3. 0. 3. 0. 0. 0. 0. 4. 5. 4. 2. 0. 2. 0. 2. 1. 2. 3. 2. 2. 4. 1. 2. 3.\n",
            " 2. 0. 2. 1. 2. 1. 2. 1.]\n",
            "[3. 3. 1. 3. 0. 5. 5. 5. 2. 3. 3. 3. 3. 3. 3. 3. 0. 0. 1. 0. 1. 0. 3. 5.\n",
            " 3. 5. 3. 5. 5. 5. 0. 3.]\n",
            "[0. 4. 0. 4. 0. 3. 4. 2. 2. 2. 4. 4. 4. 3. 4. 0. 4. 5. 4. 5. 0. 3. 1. 0.\n",
            " 1. 3. 3. 3. 3. 0. 3. 0.]\n",
            "[1. 5. 1. 4. 4. 0. 4. 0. 1. 0. 1. 0. 1. 4. 1. 5. 2. 5. 3. 1. 1. 0. 1. 2.\n",
            " 1. 2. 1. 2. 1. 2. 1. 4.]\n",
            "[4. 2. 4. 2. 2. 1. 5. 3. 5. 3. 2. 3. 1. 0. 1. 0. 1. 2. 1. 2. 1. 2. 1. 2.\n",
            " 3. 5. 3. 5. 3. 5. 0. 5.]\n",
            "[5. 0. 5. 0. 5. 0. 4. 0. 0. 5. 1. 2. 1. 2. 5. 0. 1. 5. 1. 5. 3. 1. 3. 4.\n",
            " 0. 0. 0. 0. 0. 1. 0. 1.]\n",
            "[0. 2. 0. 2. 0. 0. 0. 4. 2. 5. 2. 5. 4. 3. 4. 3. 1. 5. 5. 1. 5. 2. 0. 0.\n",
            " 1. 0. 2. 2. 3. 0. 5. 0.]\n",
            "[3. 2. 5. 1. 5. 1. 0. 5. 3. 5. 3. 5. 3. 5. 3. 4. 3. 1. 3. 1. 1. 5. 1. 0.\n",
            " 1. 0. 2. 0. 4. 0. 4. 0.]\n",
            "[2. 1. 2. 1. 3. 1. 3. 1. 3. 5. 2. 5. 2. 3. 1. 4. 1. 4. 1. 5. 1. 5. 4. 5.\n",
            " 4. 5. 4. 5. 2. 4. 3. 0.]\n",
            "[3. 1. 1. 0. 5. 0. 5. 0. 1. 0. 5. 0. 5. 0. 0. 0. 0. 0. 2. 2. 0. 2. 0. 1.\n",
            " 3. 1. 4. 2. 3. 1. 3. 0.]\n",
            "[3. 3. 5. 3. 5. 0. 5. 0. 5. 1. 5. 3. 0. 3. 0. 2. 1. 2. 2. 1. 3. 1. 3. 1.\n",
            " 0. 5. 3. 3. 3. 3. 3. 3.]\n",
            "[0. 4. 2. 0. 2. 0. 2. 3. 5. 5. 1. 0. 1. 0. 0. 3. 5. 5. 0. 3. 0. 3. 0. 4.\n",
            " 5. 5. 5. 5. 1. 2. 3. 4.]\n",
            "[0. 5. 1. 4. 2. 4. 5. 4. 5. 5. 5. 3. 5. 3. 3. 1. 0. 5. 0. 0. 2. 1. 4. 1.\n",
            " 0. 1. 3. 1. 5. 3. 3. 5.]\n",
            "[0. 3. 0. 3. 0. 3. 5. 1. 1. 0. 1. 4. 5. 4. 1. 0. 1. 2. 3. 4. 3. 5. 0. 5.\n",
            " 4. 5. 0. 5. 5. 1. 3. 4.]\n",
            "[0. 4. 0. 4. 5. 2. 2. 2. 0. 1. 1. 5. 0. 3. 1. 3. 3. 3. 3. 4. 3. 5. 3. 3.\n",
            " 4. 5. 2. 5. 5. 0. 1. 0.]\n",
            "[3. 0. 3. 5. 1. 5. 1. 1. 4. 4. 4. 4. 4. 4. 3. 1. 3. 4. 3. 0. 5. 1. 5. 1.\n",
            " 5. 5. 1. 1. 1. 1. 1. 3.]\n",
            "[0. 3. 0. 3. 0. 3. 0. 0. 4. 0. 0. 1. 3. 4. 3. 3. 0. 4. 4. 4. 1. 4. 1. 5.\n",
            " 1. 2. 5. 2. 5. 0. 5. 0.]\n",
            "[2. 1. 2. 1. 2. 1. 2. 2. 2. 2. 2. 2. 4. 4. 3. 5. 3. 5. 3. 5. 2. 0. 2. 0.\n",
            " 2. 2. 4. 4. 5. 4. 5. 4.]\n",
            "[1. 3. 1. 5. 1. 5. 3. 5. 5. 0. 3. 0. 2. 0. 4. 0. 4. 5. 5. 2. 0. 4. 0. 4.\n",
            " 0. 4. 0. 4. 0. 5. 0. 0.]\n",
            "[4. 1. 5. 5. 0. 1. 0. 0. 5. 0. 5. 0. 4. 2. 1. 2. 1. 2. 5. 2. 0. 0. 0. 5.\n",
            " 4. 3. 4. 3. 4. 3. 2. 3.]\n",
            "[5. 1. 2. 1. 2. 1. 2. 4. 0. 4. 1. 3. 2. 2. 4. 2. 4. 3. 0. 3. 0. 3. 4. 3.\n",
            " 3. 3. 2. 3. 2. 3. 5. 3.]\n",
            "[1. 4. 2. 2. 2. 4. 2. 4. 2. 4. 4. 2. 0. 2. 5. 0. 3. 0. 2. 0. 2. 1. 2. 3.\n",
            " 5. 3. 0. 1. 4. 3. 4. 3.]\n",
            "[2. 1. 0. 1. 5. 1. 2. 3. 2. 3. 2. 3. 0. 3. 0. 5. 3. 1. 3. 1. 2. 3. 2. 3.\n",
            " 5. 3. 5. 2. 4. 4. 2. 4.]\n",
            "[0. 4. 5. 3. 5. 3. 3. 3. 3. 4. 0. 1. 0. 0. 0. 0. 0. 0. 2. 5. 1. 5. 3. 1.\n",
            " 3. 0. 3. 1. 3. 1. 3. 1.]\n",
            "[5. 2. 5. 3. 5. 2. 1. 2. 0. 5. 0. 5. 3. 1. 1. 3. 1. 0. 1. 0. 1. 0. 1. 0.\n",
            " 4. 4. 4. 4. 4. 4. 3. 1.]\n",
            "[5. 1. 5. 1. 5. 1. 0. 1. 3. 0. 0. 3. 0. 1. 0. 2. 0. 4. 0. 2. 0. 5. 4. 5.\n",
            " 1. 1. 5. 2. 0. 2. 3. 1.]\n",
            "[5. 3. 5. 2. 5. 1. 1. 2. 2. 1. 3. 3. 2. 3. 3. 3. 3. 3. 3. 2. 1. 2. 2. 2.\n",
            " 2. 2. 5. 2. 4. 2. 4. 2.]\n",
            "[5. 2. 5. 2. 5. 2. 2. 1. 0. 4. 1. 4. 1. 2. 1. 2. 5. 2. 3. 2. 3. 2. 4. 5.\n",
            " 4. 5. 4. 5. 1. 5. 1. 5.]\n",
            "[2. 0. 2. 2. 1. 2. 1. 0. 0. 0. 5. 0. 5. 0. 1. 2. 2. 1. 2. 1. 2. 1. 2. 2.\n",
            " 0. 3. 0. 3. 2. 0. 0. 0.]\n",
            "[1. 4. 3. 4. 3. 4. 3. 2. 3. 3. 2. 3. 1. 4. 5. 3. 5. 2. 3. 2. 0. 4. 4. 4.\n",
            " 3. 1. 3. 1. 0. 0. 0. 5.]\n",
            "[4. 5. 4. 1. 0. 4. 0. 4. 3. 4. 3. 5. 1. 5. 1. 5. 5. 4. 1. 4. 3. 3. 5. 4.\n",
            " 5. 0. 1. 4. 1. 4. 0. 4.]\n",
            "[3. 5. 0. 5. 2. 4. 2. 2. 0. 2. 0. 2. 1. 3. 4. 3. 2. 3. 1. 2. 3. 2. 3. 0.\n",
            " 3. 3. 3. 4. 5. 1. 5. 1.]\n",
            "[1. 4. 1. 4. 1. 4. 1. 3. 1. 3. 1. 0. 4. 0. 5. 4. 5. 0. 4. 4. 4. 4. 4. 2.\n",
            " 4. 2. 2. 2. 2. 2. 3. 2.]\n",
            "[3. 1. 0. 3. 2. 3. 4. 3. 4. 3. 4. 3. 4. 2. 4. 2. 2. 5. 2. 5. 2. 2. 0. 0.\n",
            " 3. 0. 1. 0. 1. 0. 1. 0.]\n",
            "[5. 1. 0. 5. 5. 2. 0. 1. 1. 1. 1. 2. 1. 2. 5. 2. 2. 0. 1. 5. 1. 5. 3. 4.\n",
            " 2. 0. 2. 4. 3. 4. 3. 4.]\n",
            "[5. 5. 0. 3. 0. 2. 0. 5. 3. 5. 4. 5. 5. 1. 5. 1. 5. 1. 5. 1. 3. 1. 5. 0.\n",
            " 4. 0. 4. 3. 1. 3. 5. 4.]\n",
            "[0. 5. 0. 5. 4. 5. 4. 5. 3. 5. 0. 5. 0. 5. 0. 2. 3. 2. 1. 0. 1. 0. 1. 2.\n",
            " 3. 2. 5. 0. 4. 0. 4. 0.]\n",
            "[2. 4. 0. 2. 3. 2. 3. 0. 3. 0. 3. 0. 5. 3. 5. 3. 3. 3. 5. 2. 3. 2. 0. 2.\n",
            " 0. 4. 0. 0. 4. 0. 0. 1.]\n",
            "[1. 4. 1. 4. 1. 0. 1. 0. 2. 0. 2. 5. 0. 2. 0. 2. 0. 5. 0. 3. 0. 4. 0. 0.\n",
            " 5. 0. 4. 0. 2. 0. 3. 0.]\n",
            "[2. 2. 5. 2. 5. 2. 0. 1. 0. 1. 1. 1. 1. 0. 3. 4. 0. 4. 0. 0. 5. 0. 5. 0.\n",
            " 0. 4. 4. 4. 1. 4. 1. 3.]\n",
            "[2. 1. 5. 5. 3. 2. 1. 1. 0. 3. 4. 3. 4. 3. 5. 3. 2. 3. 3. 3. 5. 2. 3. 1.\n",
            " 4. 1. 4. 3. 5. 4. 5. 4.]\n",
            "[5. 1. 5. 4. 5. 3. 2. 0. 2. 4. 3. 0. 3. 0. 1. 5. 4. 5. 4. 5. 4. 5. 4. 3.\n",
            " 4. 5. 4. 0. 5. 0. 4. 2.]\n",
            "[5. 3. 0. 2. 0. 0. 0. 4. 5. 4. 5. 4. 2. 4. 2. 4. 3. 3. 1. 3. 1. 0. 1. 0.\n",
            " 2. 5. 0. 2. 0. 1. 1. 1.]\n",
            "[2. 2. 2. 0. 2. 3. 2. 5. 4. 4. 0. 0. 0. 0. 5. 0. 5. 0. 5. 0. 5. 4. 5. 4.\n",
            " 0. 2. 1. 5. 1. 0. 1. 0.]\n",
            "[3. 3. 3. 3. 2. 3. 2. 5. 3. 5. 2. 5. 2. 4. 1. 4. 4. 4. 4. 4. 4. 4. 2. 3.\n",
            " 2. 3. 2. 4. 4. 4. 2. 4.]\n",
            "[2. 5. 3. 5. 5. 4. 3. 2. 3. 2. 5. 1. 5. 0. 2. 5. 1. 5. 1. 2. 1. 2. 3. 0.\n",
            " 3. 0. 3. 0. 3. 4. 0. 1.]\n",
            "[0. 3. 0. 1. 5. 0. 5. 4. 3. 5. 2. 2. 2. 0. 0. 0. 0. 5. 3. 1. 3. 1. 2. 0.\n",
            " 3. 2. 3. 2. 2. 5. 2. 2.]\n",
            "[4. 0. 4. 0. 3. 1. 3. 1. 4. 1. 4. 1. 3. 1. 3. 1. 3. 0. 3. 0. 2. 0. 2. 4.\n",
            " 2. 3. 2. 5. 1. 3. 4. 2.]\n",
            "[4. 3. 4. 4. 0. 3. 5. 5. 4. 3. 1. 3. 2. 2. 2. 4. 2. 4. 2. 4. 1. 4. 0. 4.\n",
            " 1. 2. 1. 0. 1. 0. 1. 4.]\n",
            "[3. 5. 2. 1. 2. 0. 2. 1. 2. 1. 2. 3. 2. 3. 0. 3. 0. 3. 3. 3. 0. 3. 2. 1.\n",
            " 3. 1. 3. 3. 3. 3. 3. 1.]\n",
            "[3. 2. 1. 0. 5. 0. 4. 0. 4. 0. 2. 0. 2. 0. 2. 4. 4. 4. 4. 2. 2. 4. 2. 4.\n",
            " 2. 4. 3. 4. 2. 3. 2. 3.]\n",
            "[2. 2. 2. 2. 1. 0. 4. 0. 4. 0. 4. 0. 3. 0. 4. 0. 4. 4. 4. 4. 4. 1. 4. 1.\n",
            " 4. 5. 4. 5. 4. 5. 4. 0.]\n",
            "[0. 2. 0. 2. 0. 3. 0. 0. 5. 2. 0. 3. 0. 3. 5. 3. 4. 5. 4. 2. 4. 2. 0. 3.\n",
            " 1. 3. 1. 5. 1. 5. 0. 5.]\n",
            "[2. 3. 2. 3. 2. 3. 2. 3. 2. 2. 3. 2. 2. 2. 2. 2. 5. 2. 5. 4. 4. 0. 2. 0.\n",
            " 3. 0. 0. 0. 0. 3. 4. 3.]\n",
            "[2. 0. 1. 0. 2. 3. 2. 3. 2. 1. 2. 5. 2. 5. 0. 5. 4. 4. 4. 4. 2. 2. 0. 2.\n",
            " 2. 2. 2. 5. 2. 0. 3. 0.]\n",
            "[0. 0. 0. 2. 1. 2. 5. 1. 5. 1. 5. 3. 5. 3. 1. 3. 1. 2. 1. 5. 2. 5. 0. 2.\n",
            " 0. 2. 3. 2. 1. 2. 1. 2.]\n",
            "[0. 5. 5. 5. 0. 2. 0. 0. 0. 3. 0. 3. 0. 3. 0. 3. 0. 3. 3. 2. 5. 5. 5. 5.\n",
            " 5. 3. 1. 3. 1. 1. 0. 5.]\n",
            "[5. 4. 5. 1. 2. 1. 4. 2. 4. 2. 1. 4. 1. 5. 4. 4. 5. 4. 0. 2. 0. 2. 0. 3.\n",
            " 0. 3. 0. 3. 0. 3. 5. 2.]\n",
            "[5. 5. 5. 4. 2. 5. 2. 2. 2. 3. 1. 1. 1. 0. 0. 5. 3. 4. 3. 1. 0. 2. 0. 5.\n",
            " 3. 5. 3. 2. 0. 1. 0. 5.]\n",
            "[0. 3. 1. 3. 1. 5. 1. 5. 3. 5. 3. 3. 4. 3. 5. 3. 5. 3. 0. 3. 0. 3. 0. 1.\n",
            " 5. 0. 3. 1. 4. 4. 5. 1.]\n",
            "[5. 0. 5. 0. 5. 0. 2. 0. 2. 0. 5. 2. 5. 2. 2. 0. 4. 5. 1. 3. 1. 3. 4. 3.\n",
            " 2. 3. 2. 3. 1. 5. 5. 1.]\n",
            "[2. 0. 0. 0. 5. 0. 5. 0. 5. 0. 1. 1. 2. 5. 1. 4. 1. 4. 4. 4. 4. 4. 3. 4.\n",
            " 2. 4. 0. 4. 0. 4. 2. 4.]\n",
            "[5. 1. 0. 1. 3. 4. 3. 5. 3. 4. 0. 4. 0. 4. 1. 0. 1. 5. 2. 5. 1. 5. 1. 5.\n",
            " 1. 4. 1. 4. 1. 5. 5. 5.]\n",
            "[0. 2. 3. 2. 2. 2. 2. 1. 5. 3. 5. 0. 1. 0. 1. 2. 4. 2. 4. 1. 5. 1. 1. 1.\n",
            " 2. 1. 0. 1. 0. 0. 0. 3.]\n"
          ]
        },
        {
          "output_type": "stream",
          "name": "stderr",
          "text": [
            "\r 67%|██████▋   | 2/3 [00:10<00:05,  5.84s/it]"
          ]
        },
        {
          "output_type": "stream",
          "name": "stdout",
          "text": [
            "[0. 3. 1. 3. 0. 3. 0. 3. 0. 3. 0. 3. 0. 3. 0. 3. 5. 4. 5. 5. 0. 5. 0. 5.\n",
            " 5. 5. 5. 3. 2. 4. 3. 4.]\n",
            "[3. 1. 4. 1. 0. 0. 4. 4. 4. 1. 4. 1. 4. 1. 4. 1. 4. 5. 4. 5. 4. 5. 4. 5.\n",
            " 4. 4. 5. 3. 3. 3. 3. 1.]\n",
            "[5. 4. 5. 4. 1. 0. 5. 0. 4. 0. 4. 0. 1. 5. 2. 4. 0. 5. 0. 2. 5. 1. 1. 3.\n",
            " 1. 3. 3. 4. 5. 2. 5. 2.]\n",
            "INFO:tensorflow:Assets written to: /root/acme/c7c0ad6e-0828-11ed-b5e6-0242ac1c0002/snapshots/network/assets\n"
          ]
        },
        {
          "output_type": "stream",
          "name": "stderr",
          "text": [
            "INFO:tensorflow:Assets written to: /root/acme/c7c0ad6e-0828-11ed-b5e6-0242ac1c0002/snapshots/network/assets\n"
          ]
        },
        {
          "output_type": "stream",
          "name": "stdout",
          "text": [
            "[2. 5. 3. 2. 1. 0. 1. 0. 1. 3. 4. 1. 0. 0. 4. 5. 4. 0. 3. 0. 4. 1. 5. 1.\n",
            " 3. 2. 4. 0. 4. 1. 5. 1.]\n",
            "[3. 3. 3. 0. 3. 0. 3. 0. 0. 1. 0. 1. 0. 1. 0. 1. 1. 3. 3. 3. 3. 3. 1. 5.\n",
            " 2. 5. 2. 5. 2. 5. 2. 3.]\n",
            "[0. 5. 1. 5. 1. 2. 1. 2. 3. 2. 3. 5. 3. 5. 4. 1. 0. 5. 0. 2. 5. 2. 1. 2.\n",
            " 1. 5. 0. 3. 0. 3. 0. 5.]\n",
            "[5. 3. 0. 3. 1. 5. 1. 4. 4. 2. 5. 1. 3. 0. 1. 0. 4. 0. 3. 4. 3. 4. 3. 2.\n",
            " 5. 2. 5. 5. 2. 5. 2. 5.]\n",
            "[2. 2. 0. 4. 0. 0. 0. 0. 0. 5. 2. 5. 2. 5. 2. 3. 2. 3. 5. 3. 5. 3. 5. 3.\n",
            " 5. 0. 3. 4. 3. 1. 1. 1.]\n",
            "[0. 2. 1. 0. 1. 2. 1. 2. 0. 2. 0. 2. 4. 2. 4. 3. 0. 1. 0. 2. 4. 2. 4. 5.\n",
            " 4. 4. 2. 4. 2. 0. 0. 3.]\n",
            "[2. 4. 1. 4. 1. 4. 5. 2. 2. 1. 5. 3. 0. 4. 4. 2. 4. 0. 4. 5. 4. 3. 0. 3.\n",
            " 2. 5. 3. 5. 3. 5. 4. 0.]\n",
            "[3. 4. 3. 4. 3. 4. 2. 5. 4. 5. 5. 5. 5. 3. 2. 5. 0. 5. 0. 5. 2. 0. 3. 5.\n",
            " 1. 2. 5. 2. 3. 2. 3. 1.]\n",
            "[2. 4. 2. 5. 2. 2. 3. 1. 3. 1. 3. 1. 5. 1. 5. 1. 1. 2. 4. 2. 4. 2. 3. 2.\n",
            " 3. 0. 4. 0. 4. 0. 4. 0.]\n",
            "[1. 0. 3. 1. 0. 1. 5. 1. 5. 4. 1. 4. 5. 4. 3. 2. 3. 5. 4. 5. 0. 4. 0. 4.\n",
            " 4. 4. 1. 4. 1. 4. 1. 4.]\n",
            "[4. 2. 2. 2. 1. 2. 1. 2. 0. 0. 5. 3. 5. 3. 2. 3. 2. 2. 2. 0. 3. 5. 4. 3.\n",
            " 0. 3. 0. 1. 0. 3. 4. 3.]\n",
            "[1. 3. 0. 0. 0. 3. 0. 5. 0. 5. 2. 0. 2. 0. 0. 1. 1. 2. 1. 5. 1. 5. 1. 5.\n",
            " 1. 2. 1. 4. 1. 1. 0. 5.]\n",
            "[0. 4. 1. 4. 1. 4. 1. 5. 4. 4. 1. 5. 5. 5. 5. 4. 5. 4. 5. 2. 2. 2. 2. 2.\n",
            " 2. 2. 2. 2. 1. 0. 0. 1.]\n",
            "[1. 4. 4. 4. 1. 5. 5. 5. 1. 5. 1. 0. 1. 0. 1. 0. 4. 4. 0. 0. 0. 0. 0. 0.\n",
            " 0. 2. 0. 5. 5. 5. 2. 5.]\n",
            "[3. 4. 4. 4. 4. 5. 1. 2. 2. 2. 2. 2. 1. 2. 5. 2. 2. 4. 2. 5. 2. 5. 2. 5.\n",
            " 0. 5. 0. 5. 0. 4. 0. 4.]\n",
            "[1. 5. 1. 5. 5. 0. 5. 2. 5. 3. 5. 2. 5. 2. 5. 2. 5. 2. 0. 0. 0. 0. 0. 3.\n",
            " 0. 2. 0. 2. 4. 1. 5. 1.]\n",
            "[4. 4. 2. 1. 3. 5. 0. 1. 0. 1. 4. 1. 1. 4. 1. 2. 0. 0. 5. 0. 5. 0. 2. 5.\n",
            " 2. 4. 5. 0. 3. 5. 3. 2.]\n",
            "[0. 2. 0. 2. 0. 4. 4. 2. 5. 2. 5. 2. 3. 2. 3. 4. 2. 1. 5. 5. 0. 1. 0. 1.\n",
            " 3. 1. 3. 3. 3. 3. 3. 3.]\n",
            "[5. 5. 5. 4. 5. 4. 5. 0. 5. 0. 4. 4. 2. 1. 2. 3. 4. 0. 1. 2. 1. 4. 2. 4.\n",
            " 2. 4. 2. 5. 3. 5. 3. 4.]\n",
            "[3. 0. 3. 0. 3. 0. 3. 2. 2. 5. 2. 0. 5. 0. 5. 0. 5. 4. 5. 4. 5. 4. 5. 4.\n",
            " 2. 4. 3. 4. 5. 3. 5. 0.]\n",
            "[5. 3. 1. 2. 0. 2. 0. 3. 2. 3. 0. 3. 0. 4. 2. 1. 2. 2. 2. 0. 1. 0. 4. 2.\n",
            " 2. 5. 2. 2. 0. 2. 1. 3.]\n",
            "[1. 4. 1. 1. 1. 0. 1. 0. 1. 0. 5. 4. 5. 0. 2. 0. 2. 0. 3. 1. 2. 5. 5. 5.\n",
            " 5. 5. 3. 5. 3. 2. 3. 5.]\n",
            "[3. 4. 5. 4. 4. 4. 2. 0. 1. 1. 3. 1. 1. 5. 2. 3. 2. 5. 2. 5. 2. 5. 1. 1.\n",
            " 1. 3. 2. 3. 4. 3. 5. 3.]\n",
            "[0. 2. 2. 2. 2. 3. 2. 5. 2. 5. 2. 2. 2. 5. 2. 5. 4. 1. 4. 1. 3. 3. 4. 3.\n",
            " 4. 3. 1. 4. 1. 4. 1. 5.]\n",
            "[3. 4. 0. 3. 0. 3. 0. 1. 0. 1. 3. 3. 3. 1. 0. 1. 5. 4. 5. 4. 4. 4. 4. 1.\n",
            " 2. 5. 5. 0. 4. 2. 1. 3.]\n",
            "[0. 1. 5. 1. 5. 2. 2. 3. 2. 3. 2. 3. 4. 3. 4. 3. 5. 3. 0. 2. 3. 3. 1. 3.\n",
            " 1. 3. 1. 3. 1. 3. 5. 5.]\n",
            "[2. 1. 2. 1. 2. 0. 2. 0. 2. 0. 2. 0. 2. 0. 0. 0. 2. 2. 2. 2. 2. 2. 5. 5.\n",
            " 5. 5. 5. 0. 5. 0. 2. 0.]\n",
            "[5. 0. 3. 0. 2. 5. 5. 5. 4. 5. 4. 5. 4. 0. 4. 0. 4. 1. 4. 3. 4. 0. 3. 3.\n",
            " 4. 1. 0. 4. 5. 4. 5. 5.]\n",
            "[3. 4. 5. 4. 2. 4. 2. 3. 0. 2. 0. 5. 0. 5. 4. 2. 3. 3. 3. 5. 3. 5. 2. 0.\n",
            " 1. 0. 3. 5. 5. 5. 3. 5.]\n",
            "[0. 2. 3. 5. 0. 5. 0. 5. 1. 0. 1. 0. 1. 0. 5. 0. 4. 4. 4. 5. 4. 5. 4. 5.\n",
            " 4. 0. 4. 4. 2. 4. 2. 5.]\n",
            "[1. 0. 2. 0. 5. 0. 3. 0. 3. 0. 5. 0. 2. 0. 2. 0. 1. 2. 1. 5. 2. 0. 2. 1.\n",
            " 2. 1. 1. 3. 5. 3. 5. 1.]\n",
            "[4. 0. 5. 4. 5. 1. 5. 1. 5. 0. 4. 1. 4. 1. 4. 1. 4. 1. 3. 3. 1. 3. 2. 2.\n",
            " 2. 3. 2. 3. 0. 3. 2. 5.]\n",
            "[5. 3. 5. 3. 5. 1. 0. 1. 3. 1. 3. 1. 1. 1. 3. 4. 4. 4. 4. 2. 5. 0. 5. 1.\n",
            " 5. 1. 3. 1. 3. 0. 3. 1.]\n",
            "[4. 4. 1. 0. 1. 0. 2. 1. 2. 3. 2. 3. 2. 3. 4. 4. 4. 4. 1. 0. 1. 2. 1. 2.\n",
            " 0. 5. 0. 2. 0. 5. 0. 4.]\n",
            "[1. 0. 0. 0. 1. 0. 3. 0. 3. 0. 2. 0. 3. 0. 5. 0. 5. 0. 3. 0. 1. 0. 1. 3.\n",
            " 1. 5. 1. 5. 1. 5. 5. 4.]\n",
            "[4. 2. 4. 2. 4. 2. 2. 4. 2. 2. 4. 2. 4. 2. 1. 3. 4. 3. 4. 3. 4. 3. 4. 1.\n",
            " 4. 1. 4. 1. 4. 1. 4. 0.]\n",
            "[4. 1. 2. 1. 2. 4. 2. 4. 2. 2. 2. 2. 3. 2. 3. 1. 2. 2. 1. 3. 1. 4. 3. 5.\n",
            " 3. 4. 1. 4. 3. 4. 0. 4.]\n",
            "[2. 0. 2. 2. 1. 3. 1. 3. 1. 3. 1. 3. 2. 3. 2. 3. 2. 2. 0. 2. 0. 3. 3. 3.\n",
            " 1. 3. 2. 2. 2. 4. 2. 1.]\n",
            "[4. 5. 0. 5. 0. 5. 0. 5. 0. 5. 0. 5. 0. 3. 0. 3. 0. 5. 0. 5. 1. 5. 0. 5.\n",
            " 0. 4. 0. 4. 4. 4. 4. 4.]\n",
            "[0. 2. 0. 4. 5. 5. 5. 5. 4. 5. 4. 5. 4. 5. 3. 5. 1. 4. 1. 4. 1. 1. 4. 3.\n",
            " 4. 0. 2. 3. 3. 3. 3. 3.]\n",
            "[4. 3. 0. 3. 5. 4. 3. 3. 0. 0. 1. 0. 2. 0. 2. 4. 4. 4. 4. 2. 4. 1. 4. 1.\n",
            " 1. 1. 1. 1. 4. 3. 1. 3.]\n",
            "[4. 4. 4. 4. 1. 2. 1. 2. 5. 2. 1. 5. 3. 4. 3. 1. 0. 2. 0. 1. 0. 1. 5. 1.\n",
            " 2. 2. 3. 2. 1. 1. 4. 0.]\n",
            "[5. 5. 4. 5. 4. 4. 1. 5. 4. 4. 5. 4. 0. 4. 0. 5. 0. 5. 0. 4. 0. 2. 5. 2.\n",
            " 5. 3. 2. 3. 5. 3. 1. 3.]\n",
            "[4. 2. 5. 2. 5. 0. 5. 1. 5. 1. 3. 5. 1. 3. 1. 3. 1. 3. 0. 0. 0. 3. 2. 2.\n",
            " 2. 2. 0. 0. 5. 0. 5. 2.]\n",
            "[1. 1. 1. 5. 1. 5. 3. 5. 3. 5. 3. 5. 3. 2. 3. 3. 3. 2. 3. 4. 3. 1. 3. 0.\n",
            " 3. 0. 4. 2. 4. 4. 4. 1.]\n",
            "[4. 2. 4. 2. 2. 2. 2. 2. 1. 3. 1. 0. 0. 0. 3. 0. 3. 5. 3. 0. 3. 0. 3. 4.\n",
            " 5. 0. 5. 0. 5. 0. 1. 4.]\n",
            "[1. 3. 1. 2. 1. 2. 1. 2. 1. 2. 1. 0. 1. 4. 1. 4. 2. 5. 1. 4. 1. 4. 2. 3.\n",
            " 3. 3. 2. 4. 2. 4. 4. 1.]\n",
            "[1. 5. 1. 5. 1. 5. 1. 2. 3. 0. 5. 5. 0. 5. 4. 2. 4. 4. 4. 4. 4. 1. 4. 1.\n",
            " 4. 1. 0. 1. 3. 2. 1. 2.]\n",
            "[2. 5. 1. 4. 3. 3. 0. 0. 1. 5. 1. 5. 1. 4. 1. 5. 1. 5. 1. 2. 5. 2. 5. 2.\n",
            " 5. 4. 5. 4. 5. 4. 5. 3.]\n",
            "[4. 3. 4. 1. 5. 1. 5. 5. 1. 0. 1. 0. 1. 0. 2. 0. 1. 0. 1. 0. 1. 0. 1. 0.\n",
            " 3. 0. 3. 2. 3. 3. 4. 3.]\n",
            "[4. 0. 0. 0. 2. 0. 1. 1. 0. 0. 0. 4. 0. 2. 0. 2. 2. 2. 3. 2. 3. 3. 5. 3.\n",
            " 5. 3. 3. 2. 4. 4. 4. 0.]\n",
            "[4. 3. 1. 3. 1. 3. 1. 1. 1. 1. 2. 1. 2. 3. 2. 3. 3. 3. 3. 5. 3. 5. 3. 5.\n",
            " 0. 5. 0. 4. 5. 5. 5. 5.]\n",
            "[2. 2. 0. 2. 0. 2. 5. 2. 1. 2. 1. 0. 1. 1. 1. 0. 4. 4. 4. 4. 4. 4. 4. 4.\n",
            " 2. 4. 1. 4. 1. 2. 2. 2.]\n",
            "[3. 2. 4. 2. 4. 5. 4. 5. 3. 5. 3. 1. 3. 2. 3. 1. 2. 1. 2. 1. 4. 0. 4. 4.\n",
            " 3. 4. 4. 1. 4. 0. 4. 2.]\n",
            "[3. 0. 1. 0. 0. 0. 0. 0. 1. 1. 1. 1. 1. 5. 1. 2. 4. 5. 4. 5. 3. 5. 3. 2.\n",
            " 2. 2. 2. 1. 2. 2. 2. 2.]\n",
            "[4. 4. 0. 2. 0. 2. 4. 2. 0. 3. 4. 3. 4. 2. 4. 2. 4. 2. 3. 2. 3. 2. 3. 3.\n",
            " 1. 1. 1. 1. 1. 4. 2. 4.]\n",
            "[0. 2. 0. 2. 5. 2. 3. 1. 5. 1. 5. 1. 5. 0. 5. 0. 0. 0. 4. 4. 4. 4. 1. 4.\n",
            " 5. 4. 1. 4. 0. 4. 0. 2.]\n",
            "[0. 4. 4. 4. 0. 4. 2. 3. 2. 4. 3. 2. 3. 1. 3. 5. 3. 5. 3. 4. 1. 3. 1. 3.\n",
            " 1. 4. 4. 4. 4. 2. 4. 1.]\n",
            "[1. 2. 2. 1. 0. 1. 0. 1. 0. 0. 0. 3. 0. 5. 0. 4. 1. 4. 1. 5. 4. 3. 2. 3.\n",
            " 3. 0. 3. 0. 3. 4. 0. 1.]\n",
            "[4. 0. 2. 0. 0. 1. 0. 0. 0. 0. 0. 0. 0. 0. 0. 3. 5. 3. 5. 3. 4. 0. 4. 0.\n",
            " 3. 4. 1. 4. 1. 0. 2. 0.]\n",
            "[3. 4. 3. 4. 5. 1. 5. 1. 5. 3. 5. 5. 5. 5. 5. 5. 5. 5. 5. 5. 5. 4. 2. 4.\n",
            " 2. 4. 2. 1. 2. 1. 4. 1.]\n",
            "[3. 1. 4. 1. 1. 0. 4. 4. 4. 4. 4. 4. 2. 3. 4. 3. 5. 0. 5. 5. 2. 5. 5. 2.\n",
            " 0. 2. 0. 2. 0. 5. 0. 1.]\n",
            "[2. 0. 1. 0. 2. 0. 2. 4. 2. 4. 5. 5. 5. 1. 5. 0. 5. 0. 5. 0. 4. 0. 1. 3.\n",
            " 5. 3. 4. 3. 4. 3. 2. 3.]\n",
            "[0. 5. 4. 1. 4. 1. 1. 0. 2. 0. 5. 0. 5. 0. 5. 2. 4. 0. 4. 0. 1. 5. 0. 5.\n",
            " 3. 0. 3. 0. 4. 1. 4. 0.]\n",
            "[0. 2. 0. 4. 0. 4. 0. 0. 0. 0. 0. 0. 2. 0. 5. 0. 5. 2. 5. 2. 3. 2. 4. 4.\n",
            " 3. 4. 1. 4. 5. 3. 0. 4.]\n",
            "[5. 3. 2. 3. 2. 3. 2. 3. 3. 2. 5. 2. 0. 2. 0. 2. 0. 0. 0. 1. 4. 1. 4. 5.\n",
            " 0. 1. 2. 1. 3. 5. 5. 5.]\n",
            "[0. 4. 5. 4. 1. 0. 0. 0. 0. 0. 2. 4. 0. 4. 2. 3. 2. 2. 3. 2. 3. 5. 3. 3.\n",
            " 5. 3. 5. 2. 4. 2. 4. 2.]\n",
            "[4. 0. 1. 1. 1. 1. 1. 0. 1. 2. 5. 2. 5. 2. 5. 2. 3. 1. 3. 1. 3. 2. 3. 2.\n",
            " 3. 2. 4. 1. 4. 1. 4. 4.]\n",
            "[4. 3. 4. 1. 3. 3. 3. 3. 2. 3. 1. 0. 1. 0. 3. 3. 3. 2. 2. 4. 5. 3. 5. 4.\n",
            " 3. 4. 4. 4. 5. 4. 5. 4.]\n",
            "[3. 0. 0. 3. 0. 3. 4. 3. 4. 2. 0. 4. 4. 3. 4. 2. 5. 5. 1. 2. 3. 5. 4. 0.\n",
            " 1. 0. 2. 0. 2. 5. 2. 5.]\n",
            "[4. 2. 4. 5. 3. 3. 2. 3. 5. 3. 5. 4. 5. 1. 5. 1. 5. 3. 0. 2. 5. 0. 0. 1.\n",
            " 4. 2. 4. 1. 1. 3. 1. 1.]\n",
            "[2. 3. 0. 3. 2. 4. 2. 4. 2. 0. 4. 0. 5. 0. 4. 0. 4. 5. 3. 3. 0. 5. 0. 5.\n",
            " 1. 5. 4. 0. 3. 0. 3. 0.]\n",
            "[3. 5. 4. 4. 2. 4. 2. 4. 2. 4. 5. 1. 5. 1. 5. 1. 1. 2. 3. 1. 3. 1. 3. 0.\n",
            " 3. 0. 3. 1. 5. 3. 5. 4.]\n",
            "[5. 2. 5. 1. 1. 4. 2. 4. 2. 0. 4. 3. 4. 3. 4. 3. 1. 2. 1. 2. 1. 2. 2. 4.\n",
            " 5. 0. 0. 0. 0. 0. 0. 1.]\n",
            "[4. 0. 2. 2. 0. 2. 0. 5. 0. 5. 0. 4. 5. 4. 5. 4. 3. 4. 3. 2. 3. 1. 3. 5.\n",
            " 4. 5. 0. 5. 4. 5. 0. 4.]\n",
            "[5. 2. 5. 3. 1. 3. 1. 4. 3. 0. 4. 0. 4. 0. 4. 0. 3. 1. 2. 1. 2. 5. 2. 1.\n",
            " 2. 1. 2. 5. 2. 5. 5. 3.]\n",
            "[5. 3. 0. 3. 1. 3. 1. 0. 1. 1. 1. 1. 4. 4. 4. 0. 1. 2. 3. 2. 0. 5. 4. 1.\n",
            " 1. 0. 1. 3. 5. 1. 3. 5.]\n",
            "[3. 5. 4. 5. 4. 5. 4. 5. 1. 5. 5. 4. 1. 5. 3. 5. 5. 5. 1. 5. 4. 1. 3. 1.\n",
            " 3. 1. 5. 0. 5. 4. 5. 4.]\n",
            "[5. 3. 4. 3. 1. 3. 1. 2. 1. 0. 5. 1. 3. 1. 3. 1. 1. 4. 1. 2. 4. 2. 5. 2.\n",
            " 0. 3. 4. 3. 2. 3. 1. 2.]\n",
            "[0. 4. 5. 5. 1. 1. 1. 4. 1. 4. 0. 4. 4. 1. 5. 1. 5. 3. 2. 3. 2. 5. 2. 0.\n",
            " 0. 0. 0. 3. 0. 0. 1. 4.]\n",
            "[5. 3. 0. 3. 1. 1. 1. 3. 1. 3. 0. 2. 5. 2. 0. 2. 4. 2. 0. 1. 5. 0. 5. 3.\n",
            " 5. 3. 2. 5. 4. 0. 3. 4.]\n",
            "[1. 3. 1. 4. 1. 3. 1. 3. 1. 3. 1. 3. 4. 0. 1. 0. 5. 0. 5. 5. 2. 5. 5. 0.\n",
            " 4. 3. 3. 3. 3. 1. 0. 2.]\n",
            "[4. 2. 3. 0. 3. 0. 1. 4. 3. 4. 3. 4. 4. 4. 3. 3. 1. 0. 1. 3. 1. 3. 1. 0.\n",
            " 1. 3. 1. 2. 1. 2. 2. 3.]\n",
            "[4. 1. 0. 1. 2. 1. 4. 1. 5. 0. 1. 0. 5. 3. 5. 4. 1. 4. 2. 4. 4. 1. 3. 5.\n",
            " 3. 5. 3. 3. 3. 3. 3. 2.]\n",
            "[2. 2. 2. 2. 0. 1. 0. 1. 5. 1. 1. 1. 0. 1. 0. 1. 0. 1. 0. 0. 0. 5. 4. 3.\n",
            " 4. 3. 2. 3. 2. 3. 2. 3.]\n",
            "[4. 4. 4. 4. 4. 4. 5. 4. 1. 0. 5. 0. 1. 2. 3. 5. 0. 5. 1. 1. 1. 2. 1. 2.\n",
            " 1. 3. 2. 0. 2. 0. 3. 0.]\n",
            "[0. 4. 0. 4. 4. 2. 4. 2. 4. 2. 4. 1. 4. 1. 4. 1. 1. 1. 1. 1. 3. 1. 2. 5.\n",
            " 2. 5. 5. 3. 3. 5. 3. 5.]\n",
            "[0. 5. 0. 0. 0. 2. 1. 2. 1. 2. 1. 2. 1. 2. 3. 5. 3. 5. 3. 5. 3. 1. 3. 4.\n",
            " 3. 0. 3. 2. 4. 2. 5. 2.]\n",
            "[4. 0. 2. 4. 3. 2. 3. 2. 3. 2. 1. 2. 1. 1. 1. 1. 1. 1. 1. 4. 1. 5. 3. 2.\n",
            " 0. 2. 0. 1. 0. 3. 2. 3.]\n",
            "[4. 1. 2. 2. 2. 2. 2. 4. 2. 4. 2. 4. 2. 4. 2. 4. 1. 4. 4. 4. 2. 3. 2. 1.\n",
            " 2. 3. 2. 4. 3. 0. 3. 4.]\n",
            "[5. 2. 5. 2. 5. 2. 5. 2. 5. 2. 5. 2. 5. 2. 5. 2. 4. 2. 1. 0. 1. 2. 3. 2.\n",
            " 3. 3. 4. 1. 4. 1. 1. 3.]\n",
            "[1. 5. 3. 5. 1. 5. 1. 5. 1. 5. 0. 5. 5. 5. 5. 2. 4. 5. 4. 5. 1. 5. 1. 2.\n",
            " 2. 3. 2. 3. 5. 3. 5. 2.]\n",
            "[0. 1. 0. 1. 0. 2. 5. 2. 5. 2. 0. 1. 0. 1. 0. 1. 0. 1. 0. 1. 0. 1. 0. 1.\n",
            " 0. 2. 0. 5. 5. 5. 4. 5.]\n",
            "[3. 0. 1. 0. 5. 5. 5. 5. 2. 1. 5. 1. 0. 1. 1. 5. 1. 5. 4. 5. 2. 5. 2. 5.\n",
            " 5. 1. 5. 1. 3. 1. 0. 0.]\n",
            "[1. 3. 1. 3. 5. 3. 5. 3. 3. 2. 3. 2. 1. 4. 5. 5. 5. 3. 4. 2. 5. 2. 3. 5.\n",
            " 4. 2. 2. 3. 2. 5. 2. 2.]\n",
            "[4. 5. 5. 5. 5. 5. 2. 0. 1. 2. 2. 2. 2. 0. 4. 4. 1. 4. 1. 4. 4. 4. 4. 4.\n",
            " 4. 0. 1. 4. 3. 4. 1. 4.]\n",
            "[0. 2. 5. 3. 4. 2. 3. 2. 0. 2. 0. 2. 0. 2. 0. 3. 5. 5. 0. 4. 2. 0. 2. 0.\n",
            " 2. 3. 3. 3. 3. 3. 5. 3.]\n",
            "[1. 5. 3. 2. 3. 2. 5. 0. 5. 0. 5. 0. 1. 0. 4. 0. 1. 1. 1. 1. 0. 1. 0. 1.\n",
            " 2. 1. 3. 3. 3. 1. 0. 3.]\n",
            "[5. 1. 5. 1. 5. 2. 4. 4. 1. 2. 1. 5. 4. 5. 3. 2. 3. 2. 1. 2. 5. 2. 0. 2.\n",
            " 1. 2. 1. 2. 0. 2. 0. 2.]\n"
          ]
        },
        {
          "output_type": "stream",
          "name": "stderr",
          "text": [
            "100%|██████████| 3/3 [00:17<00:00,  5.90s/it]\n"
          ]
        }
      ]
    },
    {
      "cell_type": "code",
      "source": [
        "plot_reward_by_episode(logs_dict)"
      ],
      "metadata": {
        "colab": {
          "base_uri": "https://localhost:8080/",
          "height": 301
        },
        "id": "zAS4HBUtHY_Z",
        "outputId": "e19376db-f248-43ba-9eed-037b115dde7b"
      },
      "execution_count": 29,
      "outputs": [
        {
          "output_type": "display_data",
          "data": {
            "text/plain": [
              "<Figure size 432x288 with 1 Axes>"
            ],
            "image/png": "[encoded data removed]"
          },
          "metadata": {}
        }
      ]
    },
    {
      "cell_type": "code",
      "source": [
        "env.plot_state()"
      ],
      "metadata": {
        "colab": {
          "base_uri": "https://localhost:8080/",
          "height": 69
        },
        "id": "mPbAK3JmrEwU",
        "outputId": "5ffc07c4-3224-4ad9-db74-43b7dc515c9f"
      },
      "execution_count": 30,
      "outputs": [
        {
          "output_type": "execute_result",
          "data": {
            "text/plain": [
              "<IPython.core.display.HTML object>"
            ],
            "text/html": [
              "<b>Environment (2-back):</b><br /><pre><b>Stimuli:</b> 5151524412154532321252021212020</pre><pre><b>Actions:</b> ...............M...............</pre>"
            ]
          },
          "metadata": {},
          "execution_count": 30
        }
      ]
    },
    {
      "cell_type": "code",
      "source": [
        "# N = 2\n",
        "# n_episodes = 1000\n",
        "# episode_steps= 100\n",
        "for key, val in logs_dict.items():\n",
        "    logs=logs_dict[key]\n",
        "    reward_ma=moving_average(logs['episode_return'],10)\n",
        "    plt.plot(reward_ma)\n",
        "\n",
        "plt.ylabel(\"cumulative reward\")\n",
        "plt.xlabel(\"episode\")\n",
        "plt.legend(['RANDOM','DQN','DRQN'])\n",
        "# because episode_steps too large, \n",
        "# DQN learn the best policy within the first episode \n",
        "# so reward is not increasing by episode"
      ],
      "metadata": {
        "colab": {
          "base_uri": "https://localhost:8080/",
          "height": 303
        },
        "id": "PoexUzo1ybkM",
        "outputId": "6916d3a9-d36e-44c6-ada8-72bbd83bb85d"
      },
      "execution_count": null,
      "outputs": [
        {
          "output_type": "execute_result",
          "data": {
            "text/plain": [
              "<matplotlib.legend.Legend at 0x7fab611273d0>"
            ]
          },
          "metadata": {},
          "execution_count": 24
        },
        {
          "output_type": "display_data",
          "data": {
            "text/plain": [
              "<Figure size 432x288 with 1 Axes>"
            ],
            "image/png": "[encoded data removed]"
          },
          "metadata": {}
        }
      ]
    },
    {
      "cell_type": "code",
      "source": [
        "# N = 2\n",
        "# n_episodes = 1000\n",
        "# episode_steps= 32\n",
        "for key, val in logs_dict.items():\n",
        "    logs=logs_dict[key]\n",
        "    reward_ma=moving_average(logs['episode_return'],10)\n",
        "    plt.plot(reward_ma)\n",
        "\n",
        "plt.ylabel(\"cumulative reward\")\n",
        "plt.xlabel(\"episode\")\n",
        "plt.legend(['RANDOM','DQN','DRQN'])\n",
        "# episode_steps is small and dqn is learning by episode"
      ],
      "metadata": {
        "colab": {
          "base_uri": "https://localhost:8080/",
          "height": 303
        },
        "id": "7lg4y9-loCS7",
        "outputId": "58af0a92-0002-4943-c476-07d1fa5d0162"
      },
      "execution_count": null,
      "outputs": [
        {
          "output_type": "execute_result",
          "data": {
            "text/plain": [
              "<matplotlib.legend.Legend at 0x7fab60eebb10>"
            ]
          },
          "metadata": {},
          "execution_count": 22
        },
        {
          "output_type": "display_data",
          "data": {
            "text/plain": [
              "<Figure size 432x288 with 1 Axes>"
            ],
            "image/png": "[encoded data removed]"
          },
          "metadata": {}
        }
      ]
    },
    {
      "cell_type": "code",
      "source": [
        "# N = 5\n",
        "# n_episodes = 1000\n",
        "# episode_steps= 32\n",
        "\n",
        "for key, val in logs_dict.items():\n",
        "    logs=logs_dict[key]\n",
        "    reward_ma=moving_average(logs['episode_return'],10)\n",
        "    plt.plot(reward_ma)\n",
        "\n",
        "plt.ylabel(\"cumulative reward\")\n",
        "plt.xlabel(\"episode\")\n",
        "plt.legend(['RANDOM','DQN','DRQN'])\n",
        "plt.title(\"5-back\")"
      ],
      "metadata": {
        "colab": {
          "base_uri": "https://localhost:8080/",
          "height": 306
        },
        "id": "Rv5Hz3emoC4C",
        "outputId": "9afb1f43-d842-43f4-d364-0a32efe38639"
      },
      "execution_count": null,
      "outputs": [
        {
          "output_type": "execute_result",
          "data": {
            "text/plain": [
              "<matplotlib.legend.Legend at 0x7f66949bc190>"
            ]
          },
          "metadata": {},
          "execution_count": 17
        },
        {
          "output_type": "display_data",
          "data": {
            "text/plain": [
              "<Figure size 432x288 with 1 Axes>"
            ],
            "image/png": "[encoded data removed]"
          },
          "metadata": {}
        }
      ]
    },
    {
      "cell_type": "markdown",
      "source": [
        "## error pattern"
      ],
      "metadata": {
        "id": "kQodUSba-nRE"
      }
    },
    {
      "cell_type": "markdown",
      "source": [
        "### error statistics"
      ],
      "metadata": {
        "id": "Y3SxB2-efW-L"
      }
    },
    {
      "cell_type": "code",
      "source": [
        "logs_dqn=logs_dict['DQN']\n",
        "# dataframe\n",
        "print(logs_dqn.tail(10))"
      ],
      "metadata": {
        "colab": {
          "base_uri": "https://localhost:8080/"
        },
        "id": "99A5IpgraSm8",
        "outputId": "62e0a0aa-7e7f-4c97-8409-e847e57fed7c"
      },
      "execution_count": null,
      "outputs": [
        {
          "output_type": "stream",
          "name": "stdout",
          "text": [
            "     episode_length episode_return  steps_per_second  episodes  steps\n",
            "990              32           -9.0        349.108040       991  31712\n",
            "991              32           -9.0        396.365636       992  31744\n",
            "992              32          -13.0        358.983233       993  31776\n",
            "993              32           -8.0        354.385210       994  31808\n",
            "994              32           -6.0        310.416852       995  31840\n",
            "995              32           -4.0        328.329284       996  31872\n",
            "996              32           -8.0        340.878212       997  31904\n",
            "997              32           -4.0        396.796859       998  31936\n",
            "998              32           -9.0        348.173441       999  31968\n",
            "999              32           -5.0        348.660945      1000  32000\n"
          ]
        }
      ]
    },
    {
      "cell_type": "code",
      "source": [
        ""
      ],
      "metadata": {
        "id": "6K_MB5VVFmxf"
      },
      "execution_count": null,
      "outputs": []
    }
  ],
  "metadata": {
    "colab": {
      "collapsed_sections": [],
      "name": "human_rl_v2",
      "provenance": [],
      "toc_visible": true,
      "include_colab_link": true
    },
    "kernel": {
      "display_name": "Python 3",
      "language": "python",
      "name": "python3"
    },
    "kernelspec": {
      "display_name": "Python 3",
      "language": "python",
      "name": "python3"
    },
    "accelerator": "GPU",
    "gpuClass": "standard"
  },
  "nbformat": 4,
  "nbformat_minor": 0
}